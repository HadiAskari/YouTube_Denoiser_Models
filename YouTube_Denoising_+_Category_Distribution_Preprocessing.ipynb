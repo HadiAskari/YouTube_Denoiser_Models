{
  "nbformat": 4,
  "nbformat_minor": 0,
  "metadata": {
    "colab": {
      "name": "YouTube Denoising + Category Distribution Preprocessing.ipynb",
      "provenance": [],
      "authorship_tag": "ABX9TyPBnm4q/qce8Ru35yydrF1P",
      "include_colab_link": true
    },
    "kernelspec": {
      "name": "python3",
      "display_name": "Python 3"
    },
    "language_info": {
      "name": "python"
    },
    "accelerator": "GPU"
  },
  "cells": [
    {
      "cell_type": "markdown",
      "metadata": {
        "id": "view-in-github",
        "colab_type": "text"
      },
      "source": [
        "<a href=\"https://colab.research.google.com/github/HadiAskari/YouTube_Denoiser_Models/blob/main/YouTube_Denoising_%2B_Category_Distribution_Preprocessing.ipynb\" target=\"_parent\"><img src=\"https://colab.research.google.com/assets/colab-badge.svg\" alt=\"Open In Colab\"/></a>"
      ]
    },
    {
      "cell_type": "code",
      "metadata": {
        "id": "OFKFu_AEoYPY",
        "colab": {
          "base_uri": "https://localhost:8080/"
        },
        "outputId": "6ceb527e-b946-4be8-d47a-52f31f8b54cb"
      },
      "source": [
        "from google.colab import drive\n",
        "drive.mount('/content/drive')"
      ],
      "execution_count": null,
      "outputs": [
        {
          "output_type": "stream",
          "name": "stdout",
          "text": [
            "Drive already mounted at /content/drive; to attempt to forcibly remount, call drive.mount(\"/content/drive\", force_remount=True).\n"
          ]
        }
      ]
    },
    {
      "cell_type": "code",
      "metadata": {
        "id": "wNMEZjTnPZfu"
      },
      "source": [
        "import os\n",
        "import json\n",
        "import numpy as np\n",
        "import pickle \n",
        "from collections import defaultdict\n",
        "import pickle \n",
        "import tensorflow as tf\n",
        "import keras\n",
        "from keras.models import Sequential\n",
        "from keras.layers import *\n",
        "from keras.optimizers import *\n",
        "from keras.models import load_model\n",
        "from sklearn.model_selection import train_test_split\n",
        "import copy\n",
        "import h5py"
      ],
      "execution_count": null,
      "outputs": []
    },
    {
      "cell_type": "code",
      "metadata": {
        "id": "ymITh-zyP5TB"
      },
      "source": [
        "os.chdir('/content/drive/My Drive/YT/denoiser/New')"
      ],
      "execution_count": null,
      "outputs": []
    },
    {
      "cell_type": "code",
      "metadata": {
        "id": "EFHL4CSnQyhw"
      },
      "source": [
        "with open('sock_puppets_rl_final_new2_cate_test4.json', 'r') as f:\n",
        "    \n",
        "    read_item=json.load(f)"
      ],
      "execution_count": null,
      "outputs": []
    },
    {
      "cell_type": "code",
      "metadata": {
        "colab": {
          "base_uri": "https://localhost:8080/"
        },
        "id": "EacvFtaJebxh",
        "outputId": "790ae0f3-c9fd-4d93-d571-ee8da28bf8a6"
      },
      "source": [
        "print(read_item[2]['data'].keys())"
      ],
      "execution_count": null,
      "outputs": [
        {
          "output_type": "stream",
          "name": "stdout",
          "text": [
            "obfu_1\n"
          ]
        }
      ]
    },
    {
      "cell_type": "code",
      "metadata": {
        "colab": {
          "base_uri": "https://localhost:8080/"
        },
        "id": "Yj-WTj_Modcq",
        "outputId": "6995129f-b2a2-4f48-adc7-12445469f8ad"
      },
      "source": [
        "print(read_item[2]['data'][2000].keys())"
      ],
      "execution_count": null,
      "outputs": [
        {
          "output_type": "stream",
          "name": "stdout",
          "text": [
            "dict_keys(['viewed', 'initial_homepage', 'recommendation_trail', 'homepage', 'start_time', 'end_time', 'puppetId', 'video_seq', 'user_id'])\n"
          ]
        }
      ]
    },
    {
      "cell_type": "code",
      "metadata": {
        "id": "SA4bL4LoejFp"
      },
      "source": [
        "unobfuscated_videos_raw={}\n",
        "obfuscated_videos_raw={}\n",
        "unobfuscated_recommendations_raw={}\n",
        "obfuscated_recommendations_raw={}\n",
        "\n",
        "for i in range(int(len(read_item[2]['data'])/2)):\n",
        "  key=read_item[2]['data'][i]['user_id']\n",
        "  unobfuscated_videos_raw[key]=read_item[2]['data'][i]['viewed']\n",
        "  unobfuscated_recommendations_raw[key]=read_item[2]['data'][i]['homepage']"
      ],
      "execution_count": null,
      "outputs": []
    },
    {
      "cell_type": "code",
      "metadata": {
        "colab": {
          "base_uri": "https://localhost:8080/"
        },
        "id": "wOYRjyvAsK9s",
        "outputId": "51bdb5b6-4c16-41b7-b49b-b23e93b589be"
      },
      "source": [
        "print(unobfuscated_videos_raw.keys())"
      ],
      "execution_count": null,
      "outputs": [
        {
          "output_type": "stream",
          "name": "stdout",
          "text": [
            "dict_keys(['base_0', 'base_1', 'base_10', 'base_100', 'base_1000', 'base_1001', 'base_1002', 'base_1003', 'base_1004', 'base_1005', 'base_1006', 'base_1007', 'base_1008', 'base_1009', 'base_101', 'base_1010', 'base_1011', 'base_1012', 'base_1013', 'base_1014', 'base_1015', 'base_1016', 'base_1017', 'base_1018', 'base_1019', 'base_102', 'base_1020', 'base_1021', 'base_1022', 'base_1023', 'base_1024', 'base_1025', 'base_1026', 'base_1027', 'base_1028', 'base_1029', 'base_103', 'base_1030', 'base_1031', 'base_1032', 'base_1033', 'base_1034', 'base_1035', 'base_1036', 'base_1037', 'base_1038', 'base_1039', 'base_104', 'base_1040', 'base_1041', 'base_1042', 'base_1043', 'base_1044', 'base_1045', 'base_1046', 'base_1047', 'base_1048', 'base_1049', 'base_105', 'base_1050', 'base_1051', 'base_1052', 'base_1053', 'base_1054', 'base_1055', 'base_1056', 'base_1057', 'base_1058', 'base_1059', 'base_106', 'base_1060', 'base_1061', 'base_1062', 'base_1063', 'base_1064', 'base_1065', 'base_1066', 'base_1067', 'base_1068', 'base_1069', 'base_107', 'base_1070', 'base_1071', 'base_1072', 'base_1073', 'base_1074', 'base_1075', 'base_1076', 'base_1077', 'base_1078', 'base_1079', 'base_108', 'base_1080', 'base_1081', 'base_1082', 'base_1083', 'base_1084', 'base_1085', 'base_1086', 'base_1087', 'base_1088', 'base_1089', 'base_109', 'base_1090', 'base_1091', 'base_1092', 'base_1093', 'base_1094', 'base_1095', 'base_1096', 'base_1097', 'base_1098', 'base_1099', 'base_11', 'base_110', 'base_1100', 'base_1101', 'base_1102', 'base_1103', 'base_1104', 'base_1105', 'base_1106', 'base_1107', 'base_1108', 'base_1109', 'base_111', 'base_1110', 'base_1111', 'base_1112', 'base_1113', 'base_1114', 'base_1115', 'base_1116', 'base_1117', 'base_1118', 'base_1119', 'base_112', 'base_1120', 'base_1121', 'base_1122', 'base_1123', 'base_1124', 'base_1125', 'base_1126', 'base_1127', 'base_1128', 'base_1129', 'base_113', 'base_1130', 'base_1131', 'base_1132', 'base_1133', 'base_1134', 'base_1135', 'base_1136', 'base_1137', 'base_1138', 'base_1139', 'base_114', 'base_1140', 'base_1141', 'base_1142', 'base_1143', 'base_1144', 'base_1145', 'base_1146', 'base_1147', 'base_1148', 'base_1149', 'base_115', 'base_1150', 'base_1151', 'base_1152', 'base_1153', 'base_1154', 'base_1155', 'base_1156', 'base_1157', 'base_1158', 'base_1159', 'base_116', 'base_1160', 'base_1161', 'base_1162', 'base_1163', 'base_1164', 'base_1165', 'base_1166', 'base_1167', 'base_1168', 'base_1169', 'base_117', 'base_1170', 'base_1171', 'base_1172', 'base_1173', 'base_1174', 'base_1175', 'base_1176', 'base_1177', 'base_1178', 'base_1179', 'base_118', 'base_1180', 'base_1181', 'base_1182', 'base_1183', 'base_1184', 'base_1185', 'base_1186', 'base_1187', 'base_1188', 'base_1189', 'base_119', 'base_1190', 'base_1191', 'base_1192', 'base_1193', 'base_1194', 'base_1195', 'base_1196', 'base_1197', 'base_1198', 'base_1199', 'base_12', 'base_120', 'base_1200', 'base_1201', 'base_1202', 'base_1203', 'base_1204', 'base_1205', 'base_1206', 'base_1207', 'base_1208', 'base_1209', 'base_121', 'base_1210', 'base_1211', 'base_1212', 'base_1213', 'base_1214', 'base_1215', 'base_1216', 'base_1217', 'base_1218', 'base_1219', 'base_122', 'base_1220', 'base_1221', 'base_1222', 'base_1223', 'base_1224', 'base_1225', 'base_1226', 'base_1227', 'base_1228', 'base_1229', 'base_123', 'base_1230', 'base_1231', 'base_1232', 'base_1233', 'base_1234', 'base_1235', 'base_1236', 'base_1237', 'base_1238', 'base_1239', 'base_124', 'base_1240', 'base_1241', 'base_1242', 'base_1243', 'base_1244', 'base_1245', 'base_1246', 'base_1247', 'base_1248', 'base_1249', 'base_125', 'base_1250', 'base_1251', 'base_1252', 'base_1253', 'base_1254', 'base_1255', 'base_1256', 'base_1257', 'base_1258', 'base_1259', 'base_126', 'base_1260', 'base_1261', 'base_1262', 'base_1263', 'base_1264', 'base_1265', 'base_1266', 'base_1267', 'base_1268', 'base_1269', 'base_127', 'base_1270', 'base_1271', 'base_1272', 'base_1273', 'base_1274', 'base_1275', 'base_1276', 'base_1277', 'base_1278', 'base_1279', 'base_128', 'base_1280', 'base_1281', 'base_1282', 'base_1283', 'base_1284', 'base_1285', 'base_1286', 'base_1287', 'base_1288', 'base_1289', 'base_129', 'base_1290', 'base_1291', 'base_1292', 'base_1293', 'base_1294', 'base_1295', 'base_1296', 'base_1297', 'base_1298', 'base_1299', 'base_13', 'base_130', 'base_1300', 'base_1301', 'base_1302', 'base_1303', 'base_1304', 'base_1305', 'base_1306', 'base_1307', 'base_1308', 'base_1309', 'base_131', 'base_1310', 'base_1311', 'base_1312', 'base_1313', 'base_1314', 'base_1315', 'base_1316', 'base_1317', 'base_1318', 'base_1319', 'base_132', 'base_1320', 'base_1321', 'base_1322', 'base_1323', 'base_1324', 'base_1325', 'base_1326', 'base_1327', 'base_1328', 'base_1329', 'base_133', 'base_1330', 'base_1331', 'base_1332', 'base_1333', 'base_1334', 'base_1335', 'base_1336', 'base_1337', 'base_1338', 'base_1339', 'base_134', 'base_1340', 'base_1341', 'base_1342', 'base_1343', 'base_1344', 'base_1345', 'base_1346', 'base_1347', 'base_1348', 'base_1349', 'base_135', 'base_1350', 'base_1351', 'base_1352', 'base_1353', 'base_1354', 'base_1355', 'base_1356', 'base_1357', 'base_1358', 'base_1359', 'base_136', 'base_1360', 'base_1361', 'base_1362', 'base_1363', 'base_1364', 'base_1365', 'base_1366', 'base_1367', 'base_1368', 'base_1369', 'base_137', 'base_1370', 'base_1371', 'base_1372', 'base_1373', 'base_1374', 'base_1375', 'base_1376', 'base_1377', 'base_1378', 'base_1379', 'base_138', 'base_1380', 'base_1381', 'base_1382', 'base_1383', 'base_1384', 'base_1385', 'base_1386', 'base_1387', 'base_1388', 'base_1389', 'base_139', 'base_1390', 'base_1391', 'base_1392', 'base_1393', 'base_1394', 'base_1395', 'base_1396', 'base_1397', 'base_1398', 'base_1399', 'base_14', 'base_140', 'base_1400', 'base_1401', 'base_1402', 'base_1403', 'base_1404', 'base_1405', 'base_1406', 'base_1407', 'base_1408', 'base_1409', 'base_141', 'base_1410', 'base_1411', 'base_1412', 'base_1413', 'base_1414', 'base_1415', 'base_1416', 'base_1417', 'base_1418', 'base_1419', 'base_142', 'base_1420', 'base_1421', 'base_1422', 'base_1423', 'base_1424', 'base_1425', 'base_1426', 'base_1427', 'base_1428', 'base_1429', 'base_143', 'base_1430', 'base_1431', 'base_1432', 'base_1433', 'base_1434', 'base_1435', 'base_1436', 'base_1437', 'base_1438', 'base_1439', 'base_144', 'base_1440', 'base_1441', 'base_1442', 'base_1443', 'base_1444', 'base_1445', 'base_1446', 'base_1447', 'base_1448', 'base_1449', 'base_145', 'base_1450', 'base_1451', 'base_1452', 'base_1453', 'base_1454', 'base_1455', 'base_1456', 'base_1457', 'base_1458', 'base_1459', 'base_146', 'base_1460', 'base_1461', 'base_1462', 'base_1463', 'base_1464', 'base_1465', 'base_1466', 'base_1467', 'base_1468', 'base_1469', 'base_147', 'base_1470', 'base_1471', 'base_1472', 'base_1473', 'base_1474', 'base_1475', 'base_1476', 'base_1477', 'base_1478', 'base_1479', 'base_148', 'base_1480', 'base_1481', 'base_1482', 'base_1483', 'base_1484', 'base_1485', 'base_1486', 'base_1487', 'base_1488', 'base_1489', 'base_149', 'base_1490', 'base_1491', 'base_1492', 'base_1493', 'base_1494', 'base_1495', 'base_1496', 'base_1497', 'base_1498', 'base_1499', 'base_15', 'base_150', 'base_151', 'base_152', 'base_153', 'base_154', 'base_155', 'base_156', 'base_157', 'base_158', 'base_159', 'base_16', 'base_160', 'base_161', 'base_162', 'base_163', 'base_164', 'base_165', 'base_166', 'base_167', 'base_168', 'base_169', 'base_17', 'base_170', 'base_171', 'base_172', 'base_173', 'base_174', 'base_175', 'base_176', 'base_177', 'base_178', 'base_179', 'base_18', 'base_180', 'base_181', 'base_182', 'base_183', 'base_184', 'base_185', 'base_186', 'base_187', 'base_188', 'base_189', 'base_19', 'base_190', 'base_191', 'base_192', 'base_193', 'base_194', 'base_195', 'base_196', 'base_197', 'base_198', 'base_199', 'base_2', 'base_20', 'base_200', 'base_201', 'base_202', 'base_203', 'base_204', 'base_205', 'base_206', 'base_207', 'base_208', 'base_209', 'base_21', 'base_210', 'base_211', 'base_212', 'base_213', 'base_214', 'base_215', 'base_216', 'base_217', 'base_218', 'base_219', 'base_22', 'base_220', 'base_221', 'base_222', 'base_223', 'base_224', 'base_225', 'base_226', 'base_227', 'base_228', 'base_229', 'base_23', 'base_230', 'base_231', 'base_232', 'base_233', 'base_234', 'base_235', 'base_236', 'base_237', 'base_238', 'base_239', 'base_24', 'base_240', 'base_241', 'base_242', 'base_243', 'base_244', 'base_245', 'base_246', 'base_247', 'base_248', 'base_249', 'base_25', 'base_250', 'base_251', 'base_252', 'base_253', 'base_254', 'base_255', 'base_256', 'base_257', 'base_258', 'base_259', 'base_26', 'base_260', 'base_261', 'base_262', 'base_263', 'base_264', 'base_265', 'base_266', 'base_267', 'base_268', 'base_269', 'base_27', 'base_270', 'base_271', 'base_272', 'base_273', 'base_274', 'base_275', 'base_276', 'base_277', 'base_278', 'base_279', 'base_28', 'base_280', 'base_281', 'base_282', 'base_283', 'base_284', 'base_285', 'base_286', 'base_287', 'base_288', 'base_289', 'base_29', 'base_290', 'base_291', 'base_292', 'base_293', 'base_294', 'base_295', 'base_296', 'base_297', 'base_298', 'base_299', 'base_3', 'base_30', 'base_300', 'base_301', 'base_302', 'base_303', 'base_304', 'base_305', 'base_306', 'base_307', 'base_308', 'base_309', 'base_31', 'base_310', 'base_311', 'base_312', 'base_313', 'base_314', 'base_315', 'base_316', 'base_317', 'base_318', 'base_319', 'base_32', 'base_320', 'base_321', 'base_322', 'base_323', 'base_324', 'base_325', 'base_326', 'base_327', 'base_328', 'base_329', 'base_33', 'base_330', 'base_331', 'base_332', 'base_333', 'base_334', 'base_335', 'base_336', 'base_337', 'base_338', 'base_339', 'base_34', 'base_340', 'base_341', 'base_342', 'base_343', 'base_344', 'base_345', 'base_346', 'base_347', 'base_348', 'base_349', 'base_35', 'base_350', 'base_351', 'base_352', 'base_353', 'base_354', 'base_355', 'base_356', 'base_357', 'base_358', 'base_359', 'base_36', 'base_360', 'base_361', 'base_362', 'base_363', 'base_364', 'base_365', 'base_366', 'base_367', 'base_368', 'base_369', 'base_37', 'base_370', 'base_371', 'base_372', 'base_373', 'base_374', 'base_375', 'base_376', 'base_377', 'base_378', 'base_379', 'base_38', 'base_380', 'base_381', 'base_382', 'base_383', 'base_384', 'base_385', 'base_386', 'base_387', 'base_388', 'base_389', 'base_39', 'base_390', 'base_391', 'base_392', 'base_393', 'base_394', 'base_395', 'base_396', 'base_397', 'base_398', 'base_399', 'base_4', 'base_40', 'base_400', 'base_401', 'base_402', 'base_403', 'base_404', 'base_405', 'base_406', 'base_407', 'base_408', 'base_409', 'base_41', 'base_410', 'base_411', 'base_412', 'base_413', 'base_414', 'base_415', 'base_416', 'base_417', 'base_418', 'base_419', 'base_42', 'base_420', 'base_421', 'base_422', 'base_423', 'base_424', 'base_425', 'base_426', 'base_427', 'base_428', 'base_429', 'base_43', 'base_430', 'base_431', 'base_432', 'base_433', 'base_434', 'base_435', 'base_436', 'base_437', 'base_438', 'base_439', 'base_44', 'base_440', 'base_441', 'base_442', 'base_443', 'base_444', 'base_445', 'base_446', 'base_447', 'base_448', 'base_449', 'base_45', 'base_450', 'base_451', 'base_452', 'base_453', 'base_454', 'base_455', 'base_456', 'base_457', 'base_458', 'base_459', 'base_46', 'base_460', 'base_461', 'base_462', 'base_463', 'base_464', 'base_465', 'base_466', 'base_467', 'base_468', 'base_469', 'base_47', 'base_470', 'base_471', 'base_472', 'base_473', 'base_474', 'base_475', 'base_476', 'base_477', 'base_478', 'base_479', 'base_48', 'base_480', 'base_481', 'base_482', 'base_483', 'base_484', 'base_485', 'base_486', 'base_487', 'base_488', 'base_489', 'base_49', 'base_490', 'base_491', 'base_492', 'base_493', 'base_494', 'base_495', 'base_496', 'base_497', 'base_498', 'base_499', 'base_5', 'base_50', 'base_500', 'base_501', 'base_502', 'base_503', 'base_504', 'base_505', 'base_506', 'base_507', 'base_508', 'base_509', 'base_51', 'base_510', 'base_511', 'base_512', 'base_513', 'base_514', 'base_515', 'base_516', 'base_517', 'base_518', 'base_519', 'base_52', 'base_520', 'base_521', 'base_522', 'base_523', 'base_524', 'base_525', 'base_526', 'base_527', 'base_528', 'base_529', 'base_53', 'base_530', 'base_531', 'base_532', 'base_533', 'base_534', 'base_535', 'base_536', 'base_537', 'base_538', 'base_539', 'base_54', 'base_540', 'base_541', 'base_542', 'base_543', 'base_544', 'base_545', 'base_546', 'base_547', 'base_548', 'base_549', 'base_55', 'base_550', 'base_551', 'base_552', 'base_553', 'base_554', 'base_555', 'base_556', 'base_557', 'base_558', 'base_559', 'base_56', 'base_560', 'base_561', 'base_562', 'base_563', 'base_564', 'base_565', 'base_566', 'base_567', 'base_568', 'base_569', 'base_57', 'base_570', 'base_571', 'base_572', 'base_573', 'base_574', 'base_575', 'base_576', 'base_577', 'base_578', 'base_579', 'base_58', 'base_580', 'base_581', 'base_582', 'base_583', 'base_584', 'base_585', 'base_586', 'base_587', 'base_588', 'base_589', 'base_59', 'base_590', 'base_591', 'base_592', 'base_593', 'base_594', 'base_595', 'base_596', 'base_597', 'base_598', 'base_599', 'base_6', 'base_60', 'base_600', 'base_601', 'base_602', 'base_603', 'base_604', 'base_605', 'base_606', 'base_607', 'base_608', 'base_609', 'base_61', 'base_610', 'base_611', 'base_612', 'base_613', 'base_614', 'base_615', 'base_616', 'base_617', 'base_618', 'base_619', 'base_62', 'base_620', 'base_621', 'base_622', 'base_623', 'base_624', 'base_625', 'base_626', 'base_627', 'base_628', 'base_629', 'base_63', 'base_630', 'base_631', 'base_632', 'base_633', 'base_634', 'base_635', 'base_636', 'base_637', 'base_638', 'base_639', 'base_64', 'base_640', 'base_641', 'base_642', 'base_643', 'base_644', 'base_645', 'base_646', 'base_647', 'base_648', 'base_649', 'base_65', 'base_650', 'base_651', 'base_652', 'base_653', 'base_654', 'base_655', 'base_656', 'base_657', 'base_658', 'base_659', 'base_66', 'base_660', 'base_661', 'base_662', 'base_663', 'base_664', 'base_665', 'base_666', 'base_667', 'base_668', 'base_669', 'base_67', 'base_670', 'base_671', 'base_672', 'base_673', 'base_674', 'base_675', 'base_676', 'base_677', 'base_678', 'base_679', 'base_68', 'base_680', 'base_681', 'base_682', 'base_683', 'base_684', 'base_685', 'base_686', 'base_687', 'base_688', 'base_689', 'base_69', 'base_690', 'base_691', 'base_692', 'base_693', 'base_694', 'base_695', 'base_696', 'base_697', 'base_698', 'base_699', 'base_7', 'base_70', 'base_700', 'base_701', 'base_702', 'base_703', 'base_704', 'base_705', 'base_706', 'base_707', 'base_708', 'base_709', 'base_71', 'base_710', 'base_711', 'base_712', 'base_713', 'base_714', 'base_715', 'base_716', 'base_717', 'base_718', 'base_719', 'base_72', 'base_720', 'base_721', 'base_722', 'base_723', 'base_724', 'base_725', 'base_726', 'base_727', 'base_728', 'base_729', 'base_73', 'base_730', 'base_731', 'base_732', 'base_733', 'base_734', 'base_735', 'base_736', 'base_737', 'base_738', 'base_739', 'base_74', 'base_740', 'base_741', 'base_742', 'base_743', 'base_744', 'base_745', 'base_746', 'base_747', 'base_748', 'base_749', 'base_75', 'base_750', 'base_751', 'base_752', 'base_753', 'base_754', 'base_755', 'base_756', 'base_757', 'base_758', 'base_759', 'base_76', 'base_760', 'base_761', 'base_762', 'base_763', 'base_764', 'base_765', 'base_766', 'base_767', 'base_768', 'base_769', 'base_77', 'base_770', 'base_771', 'base_772', 'base_773', 'base_774', 'base_775', 'base_776', 'base_777', 'base_778', 'base_779', 'base_78', 'base_780', 'base_781', 'base_782', 'base_783', 'base_784', 'base_785', 'base_786', 'base_787', 'base_788', 'base_789', 'base_79', 'base_790', 'base_791', 'base_792', 'base_793', 'base_794', 'base_795', 'base_796', 'base_797', 'base_798', 'base_799', 'base_8', 'base_80', 'base_800', 'base_801', 'base_802', 'base_803', 'base_804', 'base_805', 'base_806', 'base_807', 'base_808', 'base_809', 'base_81', 'base_810', 'base_811', 'base_812', 'base_813', 'base_814', 'base_815', 'base_816', 'base_817', 'base_818', 'base_819', 'base_82', 'base_820', 'base_821', 'base_822', 'base_823', 'base_824', 'base_825', 'base_826', 'base_827', 'base_828', 'base_829', 'base_83', 'base_830', 'base_831', 'base_832', 'base_833', 'base_834', 'base_835', 'base_836', 'base_837', 'base_838', 'base_839', 'base_84', 'base_840', 'base_841', 'base_842', 'base_843', 'base_844', 'base_845', 'base_846', 'base_847', 'base_848', 'base_849', 'base_85', 'base_850', 'base_851', 'base_852', 'base_853', 'base_854', 'base_855', 'base_856', 'base_857', 'base_858', 'base_859', 'base_86', 'base_860', 'base_861', 'base_862', 'base_863', 'base_864', 'base_865', 'base_866', 'base_867', 'base_868', 'base_869', 'base_87', 'base_870', 'base_871', 'base_872', 'base_873', 'base_874', 'base_875', 'base_876', 'base_877', 'base_878', 'base_879', 'base_88', 'base_880', 'base_881', 'base_882', 'base_883', 'base_884', 'base_885', 'base_886', 'base_887', 'base_888', 'base_889', 'base_89', 'base_890', 'base_891', 'base_892', 'base_893', 'base_894', 'base_895', 'base_896', 'base_897', 'base_898', 'base_899', 'base_9', 'base_90', 'base_900', 'base_901', 'base_902', 'base_903', 'base_904', 'base_905', 'base_906', 'base_907', 'base_908', 'base_909', 'base_91', 'base_910', 'base_911', 'base_912', 'base_913', 'base_914', 'base_915', 'base_916', 'base_917', 'base_918', 'base_919', 'base_92', 'base_920', 'base_921', 'base_922', 'base_923', 'base_924', 'base_925', 'base_926', 'base_927', 'base_928', 'base_929', 'base_93', 'base_930', 'base_931', 'base_932', 'base_933', 'base_934', 'base_935', 'base_936', 'base_937', 'base_938', 'base_939', 'base_94', 'base_940', 'base_941', 'base_942', 'base_943', 'base_944', 'base_945', 'base_946', 'base_947', 'base_948', 'base_949', 'base_95', 'base_950', 'base_951', 'base_952', 'base_953', 'base_954', 'base_955', 'base_956', 'base_957', 'base_958', 'base_959', 'base_96', 'base_960', 'base_961', 'base_962', 'base_963', 'base_964', 'base_965', 'base_966', 'base_967', 'base_968', 'base_969', 'base_97', 'base_970', 'base_971', 'base_972', 'base_973', 'base_974', 'base_975', 'base_976', 'base_977', 'base_978', 'base_979', 'base_98', 'base_980', 'base_981', 'base_982', 'base_983', 'base_984', 'base_985', 'base_986', 'base_987', 'base_988', 'base_989', 'base_99', 'base_990', 'base_991', 'base_992', 'base_993', 'base_994', 'base_995', 'base_996', 'base_997', 'base_998'])\n"
          ]
        }
      ]
    },
    {
      "cell_type": "code",
      "metadata": {
        "id": "Y7XNslgasOr3"
      },
      "source": [
        "for i in range(int(len(read_item[2]['data'])/2)):\n",
        "  key=read_item[2]['data'][i+1500]['user_id']\n",
        "  obfuscated_videos_raw[key]=read_item[2]['data'][i+1500]['viewed']\n",
        "  obfuscated_recommendations_raw[key]=read_item[2]['data'][i+1500]['homepage']"
      ],
      "execution_count": null,
      "outputs": []
    },
    {
      "cell_type": "code",
      "metadata": {
        "colab": {
          "base_uri": "https://localhost:8080/"
        },
        "id": "HccBnsYjtAiC",
        "outputId": "52df6b01-014c-4043-ed25-fba6fb43a0cc"
      },
      "source": [
        "print(len(unobfuscated_recommendations_raw.keys()))"
      ],
      "execution_count": null,
      "outputs": [
        {
          "output_type": "stream",
          "name": "stdout",
          "text": [
            "1499\n"
          ]
        }
      ]
    },
    {
      "cell_type": "code",
      "metadata": {
        "colab": {
          "base_uri": "https://localhost:8080/"
        },
        "id": "0AeZiJDPtJ7e",
        "outputId": "76dda459-cade-454e-e8e4-9f21f2700145"
      },
      "source": [
        "print(unobfuscated_videos_raw['base_0'])"
      ],
      "execution_count": null,
      "outputs": [
        {
          "output_type": "stream",
          "name": "stdout",
          "text": [
            "['gK3Gerx_JvQ', 'rFtfBqnVAIY', 'lL0Awp-uah4', 'MNWC4NMWfe8', 'VZwZ5-YWWIg', 'e26zZ83Oh6Y', 'cTfxennz3xU', 'PK-Tn6R8f0s', 'NruWYK-KA6w', 'T7XfKf46iZY', 'hnB8jLCznHI', 'GDwVXxYbLeM', 'etG-u27CrRw', 'B7YDcLP2DeY', '4yQkik5IHMY', 'Aq-Hq62B8os', 'kLP1s0IeIWw', 'fdyFGUh_Kpo', 'V4PPWYCqPKo', 'RcXSfVyb7aQ', '8Qt3EZ19s_Y', 'aYNaS6r4H4Q', 'URjAZwhZ334', 'B83nmCSwRuw', 'KHBe0jT6S3U', 'G-AAx1SR_YU', '8ssAzbZBhqs', 'lNGQmzob_ew', 'PkLaWIDobGE', 'QXg8IP697kA', '4ZmYkCwmQ7I', 'mau4ffsveZk', 'FrIfes1L7NI', 'cYGuWN1OhD8', 'ppH3n4cXkF4', 'ks7-A-7Zvak', 'gYxEIyNA_mk', '9R_yICBdLK8', '9hLY1TYUWp4', 'HqRV0zp96sE']\n"
          ]
        }
      ]
    },
    {
      "cell_type": "code",
      "metadata": {
        "id": "d158TO94tnlH"
      },
      "source": [
        "with open('video_metadata_rl_final_new2_cate_test4.json', 'r') as f:\n",
        "    \n",
        "    read_item=json.load(f)"
      ],
      "execution_count": null,
      "outputs": []
    },
    {
      "cell_type": "code",
      "metadata": {
        "colab": {
          "base_uri": "https://localhost:8080/"
        },
        "id": "x1_YU-EqAG1U",
        "outputId": "a0046e11-d9d6-41e6-f94c-d631e826c8da"
      },
      "source": [
        "print(read_item['--1uHerc2Ns'])"
      ],
      "execution_count": null,
      "outputs": [
        {
          "output_type": "stream",
          "name": "stdout",
          "text": [
            "{'title': 'Lay Lay and Young Dylan Rap BATTLE?!  🔥🎤 That Girl Lay Lay Crossover | Nickelodeon', 'channel_id': 'UC5M_h2S8Ldoc9M6f7B-_m6A', 'description': 'When Young Dylan comes to visit Cleveland, he and Lay Lay quickly   become fast frenemies as rap battle competitor – but whose bars are the most fire?  Check out this very special That Girl Lay Lay x Young Dylan crossover episode to find out!\\n\\n►► Subscribe for More: https://at.nick.com/Subscribe\\n►► Watch More from Nick: https://at.nick.com/NewNickVideos \\n►► SpongeBob on YouTube: https://at.nick.com/SpongeBobOfficial\\n►► NickRewind on YouTube: https://at.nick.com/NickRewind\\n►► All That on YouTube: https://at.nick.com/AllThat \\n►► What’s On TV? : https://at.nick.com/TVSchedule \\n\\nCatch More on Nick! \\n\\nGET MORE NICKELODEON:\\nLike Nick: https://at.nick.com/Facebook \\nFollow Nick: https://at.nick.com/Twitter \\nNick Instagram: https://at.nick.com/NickIG \\nLike SpongeBob: https://at.nick.com/SpongeBobFacebook  \\nFollow SpongeBob: https://at.nick.com/SpongeBobTwitter \\nSpongeBob Instagram: https://at.nick.com/SpongeBobIG \\nLike NickRewind: https://at.nick.com/NickRewindFacebook\\nFollow NickRewind: https://at.nick.com/NickRewindTwitter \\nNickRewind Instagram: https://at.nick.com/NickRewindIG  \\nLike All That: https://at.nick.com/AllThatFacebook \\nFollow All That: https://at.nick.com/AllThatIG \\nVisit the Official Site: https://at.nick.com/Official \\nGet the App: https://at.nick.com/Apps  \\n\\n\\nNickelodeon is the number-one brand for kids with original cartoons, sitcoms, movies, award shows, products, and more! Here on our Nickelodeon YouTube channel you’ll find the shows and animated series you know and love like Danger Force, SpongeBob SquarePants, The Loud House, The Casagrandes, Tyler Perry’s Young Dylan, Ollie’s Pack, It’s Pony, Teenage Mutant Ninja Turtles, Henry Danger, ALVINNN!!! and The Chipmunks, and more! You’ll also get exclusive access to fun Nick recipes, DIY projects, how-tos, and a behind the scenes look at the lives of your favorite Nick stars including That Girl Lay Lay, Jules LeBlanc, Jayden Bartels, and Jace Norman! What more could you ask for? Join the fun!', 'view_count': 1395588, 'average_rating': 4.7891288, 'thumbnails': 'https://i.ytimg.com/vi/--1uHerc2Ns/hqdefault.jpg?sqp=-oaymwEbCKgBEF5IVfKriqkDDggBFQAAiEIYAXABwAEG&rs=AOn4CLBI9p5NF10HhuNoThcvdjZgAZnz-w,https://i.ytimg.com/vi/--1uHerc2Ns/hqdefault.jpg?sqp=-oaymwEbCMQBEG5IVfKriqkDDggBFQAAiEIYAXABwAEG&rs=AOn4CLAMw5nYrbfvLadVBJs7O35M_nBxPg,https://i.ytimg.com/vi/--1uHerc2Ns/hqdefault.jpg?sqp=-oaymwEcCPYBEIoBSFXyq4qpAw4IARUAAIhCGAFwAcABBg==&rs=AOn4CLDYKJ64XuAcCjvsw--bFkqeeKLqrw,https://i.ytimg.com/vi/--1uHerc2Ns/hqdefault.jpg?sqp=-oaymwEcCNACELwBSFXyq4qpAw4IARUAAIhCGAFwAcABBg==&rs=AOn4CLCcwbfTJR2zL-aBPoXrgHKWNSmZxA,https://i.ytimg.com/vi_webp/--1uHerc2Ns/maxresdefault.webp', 'categories': 'Entertainment', 'subtitles': 'https://www.youtube.com/api/timedtext?v=--1uHerc2Ns&asr_langs=de%2Cen%2Ces%2Cfr%2Cid%2Cit%2Cja%2Cko%2Cnl%2Cpt%2Cru%2Ctr%2Cvi&caps=asr&exp=xftt%2Cxctw&xoaf=5&hl=en&ip=0.0.0.0&ipbits=0&expire=1638572534&sparams=ip%2Cipbits%2Cexpire%2Cv%2Casr_langs%2Ccaps%2Cexp%2Cxoaf&signature=04E2793546A506F5AB114AFFD8A3939A5BA0123F.D5906E18984E441C8C7AF805DAB56110D0579799&key=yt8&lang=en&fmt=srv1', 'automated_captions': 'https://www.youtube.com/api/timedtext?v=--1uHerc2Ns&asr_langs=de%2Cen%2Ces%2Cfr%2Cid%2Cit%2Cja%2Cko%2Cnl%2Cpt%2Cru%2Ctr%2Cvi&caps=asr&exp=xftt%2Cxctw&xoaf=5&hl=en&ip=0.0.0.0&ipbits=0&expire=1638572534&sparams=ip%2Cipbits%2Cexpire%2Cv%2Casr_langs%2Ccaps%2Cexp%2Cxoaf&signature=04E2793546A506F5AB114AFFD8A3939A5BA0123F.D5906E18984E441C8C7AF805DAB56110D0579799&key=yt8&kind=asr&lang=en&tlang=en&fmt=srv1'}\n"
          ]
        }
      ]
    },
    {
      "cell_type": "code",
      "metadata": {
        "colab": {
          "base_uri": "https://localhost:8080/"
        },
        "id": "nQJPODuluvpB",
        "outputId": "df6221aa-f8fb-4670-ce6d-d75b7ce9dedb"
      },
      "source": [
        "print(len(unobfuscated_recommendations_raw.keys()))"
      ],
      "execution_count": null,
      "outputs": [
        {
          "output_type": "stream",
          "name": "stdout",
          "text": [
            "1499\n"
          ]
        }
      ]
    },
    {
      "cell_type": "code",
      "metadata": {
        "id": "mLnm5-EUuwEw"
      },
      "source": [
        "unobfuscated_recommendations_categories=copy.deepcopy(unobfuscated_recommendations_raw)\n",
        "obfuscated_recommendations_categories=copy.deepcopy(obfuscated_recommendations_raw)"
      ],
      "execution_count": null,
      "outputs": []
    },
    {
      "cell_type": "code",
      "metadata": {
        "colab": {
          "base_uri": "https://localhost:8080/"
        },
        "id": "q8ggQFAu-0tj",
        "outputId": "3f32b5f2-a5f3-4ff3-91eb-90232fcab3e9"
      },
      "source": [
        "print(unobfuscated_recommendations_raw['base_0'][5])"
      ],
      "execution_count": null,
      "outputs": [
        {
          "output_type": "stream",
          "name": "stdout",
          "text": [
            "['4ityjblbczI', 'IVCmYuQXmaI', 'nAyteE3gL0U', '-8etvVhgc6Q', 'E3H134djIdA', 'NOpS4qGILyY', 'kJDRpMi-wSk', 'eA2J7MJeEjk', '-2X-pL06628', 'IgYs_NDyaLs', 'PyMlV5_HRWk', '--FmExEAsM8', 'RLZha6G8qXI', 'Dn6u3SdgGKI', '6O8yVeM_V-I', 'wBgOdpKkhts', '_0MXhG1shEc', 'Cy8Zz7Q56dY', 'F1Hq8eVOMHs', 'eSxjAZL7cfs', 'Dx5qFachd3A', 'Jd10x8LiuBc', 'Ofp26_oc4CA', 'Wg5HwppAO3E', '4fr4exH4M74', 'lL0Awp-uah4', 'mFVPnS3Hsis', 'oRvwlX3ihRg', 'OR93WkCSOKw', 'QVgXNSuo-PI', 'LXeVrypKoyI', 'EPkXNIEiaCw', '4p0nLtrZsZQ', 'ARpqMym9dsQ', '4zXDP46fG5o', 'fxSn0J7qfHs', '1CzlMgg3LeA', 'NeLLGQqKlGA', 'xdde_LgdM4E', '_9Wu5tvjK_I', '_NvZRo-3wvU', 'vuHuKvhG88U', 'TyX0twnnyHA', 'UrI01nwLaWg']\n"
          ]
        }
      ]
    },
    {
      "cell_type": "code",
      "metadata": {
        "id": "5tK0-LG430ZN"
      },
      "source": [
        "count=0\n",
        "\n",
        "for key in unobfuscated_recommendations_raw.keys():\n",
        "  for i in range(len(unobfuscated_recommendations_raw[key])):\n",
        "    for j in range(len(unobfuscated_recommendations_raw[key][i])):\n",
        "      video=unobfuscated_recommendations_raw[key][i][j]\n",
        "      try:\n",
        "        read_item[video]['categories']\n",
        "        unobfuscated_recommendations_categories[key][i][j]=read_item[video]['categories']\n",
        "      except:\n",
        "        for kill in unobfuscated_recommendations_categories[key][i]:\n",
        "          if kill == video:\n",
        "            unobfuscated_recommendations_categories[key][i].remove(kill)\n",
        "        count=count+1\n",
        "        \n",
        "\n"
      ],
      "execution_count": null,
      "outputs": []
    },
    {
      "cell_type": "code",
      "metadata": {
        "colab": {
          "base_uri": "https://localhost:8080/"
        },
        "id": "TtHwH5am42js",
        "outputId": "a6ee7a1d-2a53-4b54-ba48-ebccd95f8057"
      },
      "source": [
        "print(unobfuscated_recommendations_categories['base_0'])"
      ],
      "execution_count": null,
      "outputs": [
        {
          "output_type": "stream",
          "name": "stdout",
          "text": [
            "[['Pets & Animals', 'Music', 'Gaming', 'Entertainment', 'Entertainment', 'Film & Animation', 'Music', 'Music', 'Music', 'Entertainment', 'Music', 'Gaming', 'Music', 'Entertainment', 'Comedy', 'People & Blogs', 'Education', 'Gaming', 'Gaming', 'Film & Animation', 'Pets & Animals', 'Nonprofits & Activism', 'Entertainment', 'Music', 'Music', 'Education', 'Comedy', 'Film & Animation', 'News & Politics', 'Entertainment', 'News & Politics', 'News & Politics', 'News & Politics', 'News & Politics', 'News & Politics', 'News & Politics', 'Science & Technology', 'News & Politics', 'News & Politics', 'News & Politics', 'Music', 'People & Blogs', 'Music', 'Pets & Animals'], ['Pets & Animals', 'Music', 'Music', 'Pets & Animals', 'Music', 'Gaming', 'Music', 'Entertainment', 'Music', 'Entertainment', 'Gaming', 'Music', 'Entertainment', 'People & Blogs', 'Comedy', 'Music', 'Education', 'Gaming', 'Gaming', 'Film & Animation', 'Pets & Animals', 'Music', 'Pets & Animals', 'Music', 'Entertainment', 'Music', 'Entertainment', 'Pets & Animals', 'News & Politics', 'Entertainment', 'News & Politics', 'News & Politics', 'News & Politics', 'News & Politics', 'News & Politics', 'News & Politics', 'Science & Technology', 'News & Politics', 'News & Politics', 'News & Politics', 'Education', 'Music', 'Film & Animation', 'Comedy'], ['People & Blogs', 'Music', 'Music', 'Music', 'Entertainment', 'Entertainment', 'Music', 'Music', 'Music', 'Entertainment', 'Music', 'Gaming', 'Entertainment', 'People & Blogs', 'Music', 'Comedy', 'Gaming', 'Education', 'Gaming', 'Film & Animation', 'Pets & Animals', 'Comedy', 'Music', 'Pets & Animals', 'Pets & Animals', 'Music', 'Sports', 'Film & Animation', 'News & Politics', 'Entertainment', 'News & Politics', 'News & Politics', 'News & Politics', 'News & Politics', 'News & Politics', 'News & Politics', 'Science & Technology', 'News & Politics', 'News & Politics', 'News & Politics', 'Music', 'Gaming', 'Music', 'Nonprofits & Activism'], ['Film & Animation', 'Music', 'Music', 'Entertainment', 'Music', 'Pets & Animals', 'Music', 'Music', 'Music', 'Entertainment', 'Music', 'Gaming', 'Entertainment', 'People & Blogs', 'Music', 'Comedy', 'Gaming', 'Film & Animation', 'Education', 'Gaming', 'Music', 'Entertainment', 'Music', 'Comedy', 'Pets & Animals', 'Music', 'Education', 'People & Blogs', 'News & Politics', 'Entertainment', 'News & Politics', 'News & Politics', 'News & Politics', 'News & Politics', 'News & Politics', 'News & Politics', 'Science & Technology', 'News & Politics', 'News & Politics', 'News & Politics', 'Sports', 'Music', 'Gaming', 'Music'], ['Film & Animation', 'Music', 'Entertainment', 'Music', 'Entertainment', 'Pets & Animals', 'Music', 'Comedy', 'Music', 'Entertainment', 'Gaming', 'Music', 'Entertainment', 'People & Blogs', 'Music', 'Comedy', 'Gaming', 'Film & Animation', 'Education', 'Gaming', 'Music', 'Music', 'Pets & Animals', 'Entertainment', 'Music', 'Pets & Animals', 'News & Politics', 'Pets & Animals', 'News & Politics', 'Entertainment', 'News & Politics', 'News & Politics', 'News & Politics', 'News & Politics', 'News & Politics', 'News & Politics', 'Science & Technology', 'News & Politics', 'News & Politics', 'News & Politics', 'Sports', 'Music', 'Music', 'Music'], ['Entertainment', 'Pets & Animals', 'Film & Animation', 'Music', 'Music', 'Music', 'Music', 'Pets & Animals', 'Music', 'Entertainment', 'Gaming', 'Music', 'Entertainment', 'People & Blogs', 'Music', 'Comedy', 'Gaming', 'Film & Animation', 'Education', 'Gaming', 'Music', 'Entertainment', 'Pets & Animals', 'Sports', 'Comedy', 'Music', 'Pets & Animals', 'Sports', 'News & Politics', 'Entertainment', 'News & Politics', 'News & Politics', 'News & Politics', 'News & Politics', 'News & Politics', 'News & Politics', 'Science & Technology', 'News & Politics', 'News & Politics', 'News & Politics', 'Music', 'Pets & Animals', 'Nonprofits & Activism', 'Music'], ['Entertainment', 'Pets & Animals', 'Music', 'Music', 'Music', 'Comedy', 'Music', 'Music', 'Music', 'Entertainment', 'Gaming', 'Music', 'Entertainment', 'People & Blogs', 'Music', 'Comedy', 'Gaming', 'Education', 'Film & Animation', 'Gaming', 'Sports', 'Pets & Animals', 'Comedy', 'Music', 'Pets & Animals', 'Sports', 'Entertainment', 'Pets & Animals', 'News & Politics', 'Entertainment', 'News & Politics', 'News & Politics', 'News & Politics', 'News & Politics', 'News & Politics', 'News & Politics', 'Science & Technology', 'News & Politics', 'News & Politics', 'News & Politics', 'Pets & Animals', 'Music', 'Nonprofits & Activism', 'Music'], ['Music', 'Pets & Animals', 'Music', 'Music', 'Pets & Animals', 'Entertainment', 'Comedy', 'Pets & Animals', 'Music', 'Entertainment', 'Gaming', 'Music', 'Entertainment', 'People & Blogs', 'Music', 'Comedy', 'Gaming', 'Film & Animation', 'Education', 'Gaming', 'Music', 'Sports', 'Music', 'Music', 'Pets & Animals', 'Film & Animation', 'Music', 'Pets & Animals', 'News & Politics', 'Entertainment', 'News & Politics', 'News & Politics', 'News & Politics', 'News & Politics', 'News & Politics', 'News & Politics', 'Science & Technology', 'News & Politics', 'News & Politics', 'News & Politics', 'Music', 'Comedy', 'Sports', 'Pets & Animals'], ['Music', 'Pets & Animals', 'Music', 'Music', 'Sports', 'Comedy', 'Comedy', 'Pets & Animals', 'Music', 'Entertainment', 'Gaming', 'Music', 'Entertainment', 'People & Blogs', 'Music', 'Comedy', 'Film & Animation', 'Gaming', 'Education', 'Gaming', 'Entertainment', 'Music', 'Pets & Animals', 'Pets & Animals', 'Music', 'Sports', 'Music', 'Film & Animation', 'News & Politics', 'Entertainment', 'News & Politics', 'News & Politics', 'News & Politics', 'News & Politics', 'News & Politics', 'News & Politics', 'Science & Technology', 'News & Politics', 'News & Politics', 'News & Politics', 'Pets & Animals', 'Music', 'Music', 'Education'], ['Pets & Animals', 'Film & Animation', 'Music', 'Entertainment', 'Pets & Animals', 'Pets & Animals', 'Sports', 'Music', 'Music', 'Entertainment', 'Gaming', 'Music', 'Entertainment', 'People & Blogs', 'Music', 'Comedy', 'Gaming', 'Film & Animation', 'Education', 'Gaming', 'Comedy', 'Pets & Animals', 'Music', 'Music', 'Sports', 'People & Blogs', 'Film & Animation', 'Music', 'News & Politics', 'Entertainment', 'News & Politics', 'News & Politics', 'News & Politics', 'News & Politics', 'News & Politics', 'News & Politics', 'Science & Technology', 'News & Politics', 'News & Politics', 'News & Politics', 'Science & Technology', 'Nonprofits & Activism', 'Pets & Animals', 'Education'], ['Pets & Animals', 'Comedy', 'Music', 'Pets & Animals', 'Music', 'Pets & Animals', 'Film & Animation', 'Music', 'Music', 'Entertainment', 'Gaming', 'Music', 'Entertainment', 'People & Blogs', 'Music', 'Comedy', 'Gaming', 'Film & Animation', 'Education', 'Gaming', 'Sports', 'Music', 'People & Blogs', 'Music', 'Music', 'Pets & Animals', 'Sports', 'Music', 'News & Politics', 'Entertainment', 'News & Politics', 'News & Politics', 'News & Politics', 'News & Politics', 'News & Politics', 'News & Politics', 'Science & Technology', 'News & Politics', 'News & Politics', 'News & Politics', 'People & Blogs', 'Pets & Animals', 'News & Politics', 'People & Blogs'], ['Entertainment', 'Pets & Animals', 'Comedy', 'Music', 'Entertainment', 'Pets & Animals', 'Pets & Animals', 'Sports', 'Music', 'Entertainment', 'Gaming', 'Music', 'Entertainment', 'People & Blogs', 'Music', 'Comedy', 'Gaming', 'Film & Animation', 'Education', 'Gaming', 'Music', 'Entertainment', 'Music', 'Comedy', 'Sports', 'People & Blogs', 'Music', 'Pets & Animals', 'News & Politics', 'Entertainment', 'News & Politics', 'News & Politics', 'News & Politics', 'News & Politics', 'News & Politics', 'News & Politics', 'Science & Technology', 'News & Politics', 'News & Politics', 'News & Politics', 'Music', 'Film & Animation', 'Comedy', 'Music'], ['Pets & Animals', 'Entertainment', 'Sports', 'Music', 'Pets & Animals', 'Music', 'Music', 'Pets & Animals', 'Music', 'Entertainment', 'Gaming', 'Music', 'Entertainment', 'People & Blogs', 'Music', 'Gaming', 'Comedy', 'Film & Animation', 'Education', 'Gaming', 'People & Blogs', 'Sports', 'Education', 'Comedy', 'Pets & Animals', 'Comedy', 'Education', 'Music', 'News & Politics', 'Entertainment', 'News & Politics', 'News & Politics', 'News & Politics', 'News & Politics', 'News & Politics', 'News & Politics', 'Science & Technology', 'News & Politics', 'News & Politics', 'News & Politics', 'Music', 'Pets & Animals', 'Travel & Events', 'Sports'], ['Pets & Animals', 'Entertainment', 'Sports', 'Music', 'People & Blogs', 'Pets & Animals', 'Education', 'People & Blogs', 'Music', 'Entertainment', 'Gaming', 'Music', 'Entertainment', 'People & Blogs', 'Music', 'Comedy', 'Gaming', 'Education', 'Film & Animation', 'Gaming', 'Pets & Animals', 'Music', 'Music', 'Comedy', 'Comedy', 'Education', 'Music', 'Comedy', 'News & Politics', 'Entertainment', 'News & Politics', 'News & Politics', 'News & Politics', 'News & Politics', 'News & Politics', 'News & Politics', 'Science & Technology', 'News & Politics', 'News & Politics', 'News & Politics', 'Pets & Animals', 'Music', 'Pets & Animals', 'People & Blogs'], ['Music', 'People & Blogs', 'Pets & Animals', 'Music', 'People & Blogs', 'Sports', 'Comedy', 'Pets & Animals', 'Music', 'Entertainment', 'Gaming', 'Music', 'Entertainment', 'People & Blogs', 'Music', 'Comedy', 'Gaming', 'Film & Animation', 'Education', 'Gaming', 'Travel & Events', 'Music', 'People & Blogs', 'Pets & Animals', 'Music', 'Sports', 'Entertainment', 'People & Blogs', 'News & Politics', 'Entertainment', 'News & Politics', 'News & Politics', 'News & Politics', 'News & Politics', 'News & Politics', 'News & Politics', 'Science & Technology', 'News & Politics', 'News & Politics', 'News & Politics', 'Music', 'Education', 'Sports', 'Music'], ['Pets & Animals', 'Comedy', 'Sports', 'Music', 'People & Blogs', 'Music', 'Film & Animation', 'Education', 'Music', 'Entertainment', 'Gaming', 'Music', 'Entertainment', 'People & Blogs', 'Music', 'Film & Animation', 'Comedy', 'Gaming', 'Education', 'Gaming', 'Pets & Animals', 'Music', 'Film & Animation', 'People & Blogs', 'Film & Animation', 'Comedy', 'People & Blogs', 'People & Blogs', 'News & Politics', 'Entertainment', 'News & Politics', 'News & Politics', 'News & Politics', 'News & Politics', 'News & Politics', 'News & Politics', 'Science & Technology', 'News & Politics', 'News & Politics', 'News & Politics', 'Pets & Animals', 'Entertainment', 'Music', 'Education'], ['Pets & Animals', 'Film & Animation', 'Sports', 'Music', 'People & Blogs', 'Music', 'Music', 'Pets & Animals', 'Music', 'Entertainment', 'Gaming', 'Music', 'Entertainment', 'People & Blogs', 'Music', 'Gaming', 'Comedy', 'Film & Animation', 'Education', 'Gaming', 'People & Blogs', 'Comedy', 'Music', 'People & Blogs', 'Film & Animation', 'People & Blogs', 'Entertainment', 'Music', 'News & Politics', 'Entertainment', 'News & Politics', 'News & Politics', 'News & Politics', 'News & Politics', 'News & Politics', 'News & Politics', 'Science & Technology', 'News & Politics', 'News & Politics', 'News & Politics', 'Film & Animation', 'Comedy', 'Education', 'Music'], ['Gaming', 'Pets & Animals', 'People & Blogs', 'Entertainment', 'Pets & Animals', 'Music', 'Pets & Animals', 'Music', 'Music', 'Entertainment', 'Gaming', 'Music', 'Entertainment', 'People & Blogs', 'Music', 'Education', 'Gaming', 'Comedy', 'Film & Animation', 'Gaming', 'Music', 'Entertainment', 'People & Blogs', 'People & Blogs', 'Entertainment', 'Music', 'Howto & Style', 'Comedy', 'News & Politics', 'Entertainment', 'News & Politics', 'News & Politics', 'News & Politics', 'News & Politics', 'News & Politics', 'News & Politics', 'Science & Technology', 'News & Politics', 'News & Politics', 'News & Politics', 'People & Blogs', 'Education', 'Music', 'People & Blogs'], ['Pets & Animals', 'Film & Animation', 'People & Blogs', 'Entertainment', 'Pets & Animals', 'People & Blogs', 'Comedy', 'Music', 'Music', 'Entertainment', 'Gaming', 'Music', 'Entertainment', 'People & Blogs', 'Music', 'Education', 'Gaming', 'Comedy', 'Film & Animation', 'Gaming', 'Music', 'Entertainment', 'Music', 'Entertainment', 'Entertainment', 'Music', 'Howto & Style', 'Sports', 'News & Politics', 'Entertainment', 'News & Politics', 'News & Politics', 'News & Politics', 'News & Politics', 'News & Politics', 'News & Politics', 'Science & Technology', 'News & Politics', 'News & Politics', 'News & Politics', 'People & Blogs', 'Entertainment', 'Music', 'Education'], ['Pets & Animals', 'Film & Animation', 'Music', 'Education', 'Entertainment', 'Film & Animation', 'Music', 'Comedy', 'Music', 'Entertainment', 'Gaming', 'Music', 'Entertainment', 'People & Blogs', 'Music', 'Education', 'Gaming', 'Comedy', 'Gaming', 'Film & Animation', 'Film & Animation', 'People & Blogs', 'People & Blogs', 'People & Blogs', 'Entertainment', 'Howto & Style', 'Music', 'Music', 'News & Politics', 'Entertainment', 'News & Politics', 'News & Politics', 'News & Politics', 'News & Politics', 'News & Politics', 'News & Politics', 'Science & Technology', 'News & Politics', 'News & Politics', 'News & Politics', 'Pets & Animals', 'People & Blogs', 'Music', 'Education'], ['Music', 'People & Blogs', 'Entertainment', 'Music', 'Entertainment', 'Education', 'Film & Animation', 'Music', 'Music', 'Entertainment', 'Gaming', 'Music', 'Entertainment', 'People & Blogs', 'Music', 'Education', 'Gaming', 'Comedy', 'Film & Animation', 'Gaming', 'Music', 'Music', 'Nonprofits & Activism', 'Entertainment', 'Science & Technology', 'Pets & Animals', 'Howto & Style', 'People & Blogs', 'News & Politics', 'Entertainment', 'News & Politics', 'News & Politics', 'News & Politics', 'News & Politics', 'News & Politics', 'News & Politics', 'Science & Technology', 'News & Politics', 'News & Politics', 'News & Politics', 'Music', 'Film & Animation', 'Sports', 'News & Politics'], ['Music', 'People & Blogs', 'Film & Animation', 'Entertainment', 'Pets & Animals', 'Music', 'Music', 'Pets & Animals', 'Music', 'Entertainment', 'Gaming', 'Music', 'Entertainment', 'People & Blogs', 'Music', 'Gaming', 'Education', 'Comedy', 'Film & Animation', 'Gaming', 'Film & Animation', 'Music', 'Music', 'Entertainment', 'Comedy', 'Education', 'Music', 'Entertainment', 'News & Politics', 'Entertainment', 'News & Politics', 'News & Politics', 'News & Politics', 'News & Politics', 'News & Politics', 'News & Politics', 'Science & Technology', 'News & Politics', 'News & Politics', 'News & Politics', 'Entertainment', 'Nonprofits & Activism', 'Comedy', 'People & Blogs'], ['Pets & Animals', 'Music', 'Music', 'Entertainment', 'Pets & Animals', 'People & Blogs', 'Entertainment', 'Travel & Events', 'Music', 'Entertainment', 'Gaming', 'Music', 'Entertainment', 'People & Blogs', 'Music', 'Gaming', 'Education', 'Comedy', 'Film & Animation', 'Gaming', 'Music', 'Music', 'Comedy', 'People & Blogs', 'Howto & Style', 'Nonprofits & Activism', 'People & Blogs', 'Music', 'News & Politics', 'Entertainment', 'News & Politics', 'News & Politics', 'News & Politics', 'News & Politics', 'News & Politics', 'News & Politics', 'Science & Technology', 'News & Politics', 'News & Politics', 'News & Politics', 'Film & Animation', 'Music', 'Music', 'Pets & Animals'], ['Entertainment', 'Pets & Animals', 'People & Blogs', 'Pets & Animals', 'Entertainment', 'Music', 'Entertainment', 'Travel & Events', 'Music', 'Entertainment', 'Gaming', 'Music', 'Entertainment', 'People & Blogs', 'Music', 'Gaming', 'Education', 'Comedy', 'Film & Animation', 'Gaming', 'Nonprofits & Activism', 'People & Blogs', 'Music', 'Music', 'Education', 'People & Blogs', 'Film & Animation', 'Music', 'News & Politics', 'Entertainment', 'News & Politics', 'News & Politics', 'News & Politics', 'News & Politics', 'News & Politics', 'News & Politics', 'Science & Technology', 'News & Politics', 'News & Politics', 'News & Politics', 'Pets & Animals', 'Sports', 'Music', 'Howto & Style'], ['People & Blogs', 'Education', 'People & Blogs', 'Music', 'Sports', 'Pets & Animals', 'Pets & Animals', 'Music', 'Music', 'Entertainment', 'Gaming', 'Music', 'Entertainment', 'People & Blogs', 'Music', 'Gaming', 'Education', 'Comedy', 'Film & Animation', 'Gaming', 'Entertainment', 'Nonprofits & Activism', 'Music', 'People & Blogs', 'Comedy', 'Howto & Style', 'Film & Animation', 'Music', 'News & Politics', 'Entertainment', 'News & Politics', 'News & Politics', 'News & Politics', 'News & Politics', 'News & Politics', 'News & Politics', 'Science & Technology', 'News & Politics', 'News & Politics', 'News & Politics', 'Education', 'Sports', 'Science & Technology', 'Entertainment'], ['Entertainment', 'People & Blogs', 'Film & Animation', 'Howto & Style', 'Pets & Animals', 'Nonprofits & Activism', 'People & Blogs', 'Music', 'Music', 'Entertainment', 'Gaming', 'Music', 'Entertainment', 'People & Blogs', 'Music', 'Gaming', 'Education', 'Comedy', 'Film & Animation', 'Gaming', 'Music', 'Music', 'Music', 'Science & Technology', 'Comedy', 'Pets & Animals', 'Education', 'Pets & Animals', 'News & Politics', 'Entertainment', 'News & Politics', 'News & Politics', 'News & Politics', 'News & Politics', 'News & Politics', 'News & Politics', 'Science & Technology', 'News & Politics', 'News & Politics', 'News & Politics', 'Film & Animation', 'Music', 'Pets & Animals', 'Entertainment'], ['Music', 'Film & Animation', 'Pets & Animals', 'Comedy', 'Nonprofits & Activism', 'Howto & Style', 'People & Blogs', 'Sports', 'Music', 'Entertainment', 'Gaming', 'Music', 'Entertainment', 'People & Blogs', 'Music', 'Education', 'Gaming', 'Comedy', 'Film & Animation', 'Gaming', 'Entertainment', 'People & Blogs', 'Entertainment', 'People & Blogs', 'Music', 'Music', 'Science & Technology', 'Pets & Animals', 'News & Politics', 'Entertainment', 'News & Politics', 'News & Politics', 'News & Politics', 'News & Politics', 'News & Politics', 'News & Politics', 'Science & Technology', 'News & Politics', 'News & Politics', 'News & Politics', 'Music', 'Education', 'Pets & Animals', 'Film & Animation'], ['Music', 'Film & Animation', 'Pets & Animals', 'Music', 'Pets & Animals', 'Nonprofits & Activism', 'Entertainment', 'People & Blogs', 'Music', 'Entertainment', 'Gaming', 'Music', 'Entertainment', 'People & Blogs', 'Education', 'Music', 'Gaming', 'Comedy', 'Film & Animation', 'Gaming', 'Entertainment', 'Education', 'Comedy', 'Pets & Animals', 'Music', 'Sports', 'Pets & Animals', 'Film & Animation', 'News & Politics', 'Entertainment', 'News & Politics', 'News & Politics', 'News & Politics', 'News & Politics', 'News & Politics', 'News & Politics', 'Science & Technology', 'News & Politics', 'News & Politics', 'News & Politics', 'Science & Technology', 'Music', 'Film & Animation', 'Education'], ['Entertainment', 'Music', 'Nonprofits & Activism', 'Travel & Events', 'Comedy', 'Music', 'People & Blogs', 'Music', 'Music', 'Entertainment', 'Gaming', 'Music', 'Entertainment', 'People & Blogs', 'Education', 'Music', 'Gaming', 'Comedy', 'Film & Animation', 'Gaming', 'Autos & Vehicles', 'Pets & Animals', 'Entertainment', 'Music', 'Education', 'Entertainment', 'Music', 'Entertainment', 'News & Politics', 'Entertainment', 'News & Politics', 'News & Politics', 'News & Politics', 'News & Politics', 'News & Politics', 'News & Politics', 'Science & Technology', 'News & Politics', 'News & Politics', 'News & Politics', 'Science & Technology', 'People & Blogs', 'Sports', 'Sports'], ['Entertainment', 'Film & Animation', 'Sports', 'Music', 'Pets & Animals', 'Nonprofits & Activism', 'Travel & Events', 'News & Politics', 'Music', 'Entertainment', 'Gaming', 'Music', 'Entertainment', 'People & Blogs', 'Education', 'Music', 'Gaming', 'Comedy', 'Film & Animation', 'Gaming', 'Music', 'Music', 'Autos & Vehicles', 'Film & Animation', 'Education', 'Music', 'Entertainment', 'Entertainment', 'News & Politics', 'Entertainment', 'News & Politics', 'News & Politics', 'News & Politics', 'News & Politics', 'News & Politics', 'News & Politics', 'Science & Technology', 'News & Politics', 'News & Politics', 'News & Politics', 'Entertainment', 'Pets & Animals', 'Science & Technology', 'Music'], ['People & Blogs', 'Music', 'Sports', 'Film & Animation', 'Film & Animation', 'Science & Technology', 'Music', 'Music', 'Music', 'Entertainment', 'Gaming', 'Music', 'People & Blogs', 'Entertainment', 'Music', 'Gaming', 'Education', 'Film & Animation', 'Comedy', 'Gaming', 'Pets & Animals', 'Music', 'Autos & Vehicles', 'Education', 'Entertainment', 'News & Politics', 'Film & Animation', 'Pets & Animals', 'News & Politics', 'Entertainment', 'News & Politics', 'News & Politics', 'News & Politics', 'News & Politics', 'News & Politics', 'News & Politics', 'Science & Technology', 'News & Politics', 'News & Politics', 'News & Politics', 'Film & Animation', 'Music', 'Science & Technology', 'Music'], ['Pets & Animals', 'Music', 'Music', 'Comedy', 'News & Politics', 'People & Blogs', 'Film & Animation', 'Sports', 'Music', 'Entertainment', 'Gaming', 'Music', 'People & Blogs', 'Entertainment', 'Music', 'Education', 'Gaming', 'Film & Animation', 'Comedy', 'Gaming', 'Science & Technology', 'Music', 'Entertainment', 'Pets & Animals', 'Entertainment', 'Education', 'Autos & Vehicles', 'Music', 'News & Politics', 'Entertainment', 'News & Politics', 'News & Politics', 'News & Politics', 'News & Politics', 'News & Politics', 'News & Politics', 'Science & Technology', 'News & Politics', 'News & Politics', 'News & Politics', 'Pets & Animals', 'Entertainment', 'Pets & Animals', 'Music'], ['Pets & Animals', 'Music', 'Music', 'Science & Technology', 'Music', 'Entertainment', 'Autos & Vehicles', 'Music', 'Music', 'Entertainment', 'Gaming', 'Music', 'People & Blogs', 'Entertainment', 'Education', 'Gaming', 'Music', 'Film & Animation', 'Comedy', 'Gaming', 'Music', 'Music', 'News & Politics', 'Science & Technology', 'Pets & Animals', 'Entertainment', 'News & Politics', 'Sports', 'News & Politics', 'Entertainment', 'News & Politics', 'News & Politics', 'News & Politics', 'News & Politics', 'News & Politics', 'News & Politics', 'Science & Technology', 'News & Politics', 'News & Politics', 'News & Politics', 'Pets & Animals', 'Comedy', 'Education', 'Music'], ['People & Blogs', 'Music', 'Film & Animation', 'Pets & Animals', 'Music', 'XnGU6E_deSo', 'Music', 'Music', 'Music', 'Entertainment', 'Gaming', 'Music', 'People & Blogs', 'Entertainment', 'Education', 'Gaming', 'Music', 'Film & Animation', 'Comedy', 'Gaming', 'Science & Technology', 'Music', 'People & Blogs', 'Education', 'Entertainment', 'Pets & Animals', 'Music', 'Comedy', 'News & Politics', 'Entertainment', 'News & Politics', 'News & Politics', 'News & Politics', 'News & Politics', 'News & Politics', 'News & Politics', 'Science & Technology', 'News & Politics', 'News & Politics', 'News & Politics', 'Pets & Animals', 'Music', 'Music'], ['People & Blogs', 'Music', 'Music', 'Science & Technology', 'Music', 'Pets & Animals', 'Music', 'Entertainment', 'Music', 'Entertainment', 'Gaming', 'Music', 'Entertainment', 'People & Blogs', 'Music', 'Gaming', 'Education', 'Film & Animation', 'Comedy', 'Gaming', 'Music', 'Education', 'Entertainment', 'Pets & Animals', 'Music', 'People & Blogs', 'Entertainment', 'Music', 'News & Politics', 'Entertainment', 'News & Politics', 'News & Politics', 'News & Politics', 'News & Politics', 'News & Politics', 'News & Politics', 'Science & Technology', 'News & Politics', 'News & Politics', 'News & Politics', 'Comedy', 'People & Blogs', 'Sports', 'Education'], ['Entertainment', 'Music', 'Education', 'People & Blogs', 'Music', 'Entertainment', 'Music', 'Film & Animation', 'Music', 'Entertainment', 'Gaming', 'Music', 'People & Blogs', 'Entertainment', 'Music', 'Education', 'Gaming', 'Film & Animation', 'Comedy', 'Gaming', 'Film & Animation', 'Science & Technology', 'Sports', 'Music', 'Pets & Animals', 'RJzFICvJhGQ', 'People & Blogs', 'Music', 'News & Politics', 'Entertainment', 'News & Politics', 'News & Politics', 'News & Politics', 'News & Politics', 'News & Politics', 'News & Politics', 'Science & Technology', 'News & Politics', 'News & Politics', 'News & Politics', 'Education', 'Music', 'Music'], ['Pets & Animals', 'Music', 'Film & Animation', 'Comedy', 'Entertainment', 'Music', 'Music', 'Education', 'Music', 'Entertainment', 'Gaming', 'Music', 'Entertainment', 'People & Blogs', 'Education', 'Music', 'Gaming', 'Film & Animation', 'Comedy', 'Gaming', 'Sports', 'fJBbA3tJ8EA', 'Pets & Animals', 'Entertainment', 'Education', 'Pets & Animals', 'Sports', 'Music', 'News & Politics', 'Entertainment', 'News & Politics', 'News & Politics', 'News & Politics', 'News & Politics', 'News & Politics', 'News & Politics', 'Science & Technology', 'News & Politics', 'News & Politics', 'News & Politics', 'Entertainment', 'Music', 'Pets & Animals'], ['Entertainment', 'Music', 'Entertainment', 'Entertainment', 'Film & Animation', 'Music', 'Music', 'Pets & Animals', 'Music', 'Entertainment', 'Gaming', 'Music', 'Education', 'Entertainment', 'People & Blogs', 'Music', 'Gaming', 'Film & Animation', 'Comedy', 'Gaming', 'Education', 'V3RioRkFvv0', 'Entertainment', 'Autos & Vehicles', 'Music', 'Education', 'Film & Animation', 'People & Blogs', 'News & Politics', 'Entertainment', 'News & Politics', 'News & Politics', 'News & Politics', 'News & Politics', 'News & Politics', 'News & Politics', 'Science & Technology', 'News & Politics', 'News & Politics', 'News & Politics', 'Music', 'Sports', 'News & Politics'], ['People & Blogs', 'Music', 'Entertainment', 'Music', 'People & Blogs', 'Music', 'Autos & Vehicles', 'Music', 'Music', 'Entertainment', 'Gaming', 'Music', 'Education', 'Entertainment', 'People & Blogs', 'Gaming', 'Music', 'Film & Animation', 'Comedy', 'Gaming', 'Pets & Animals', 'wPRwhu7WKp4', 'Music', 'Pets & Animals', 'Education', 'Entertainment', 'Comedy', 'Music', 'News & Politics', 'Entertainment', 'News & Politics', 'News & Politics', 'News & Politics', 'News & Politics', 'News & Politics', 'News & Politics', 'Science & Technology', 'News & Politics', 'News & Politics', 'News & Politics', 'Sports', 'Entertainment', 'Music'], ['Gaming', 'Music', 'Music', 'People & Blogs', 'Entertainment', 'Music', 'Music', 'Music', 'Music', 'Entertainment', 'Gaming', 'Music', 'People & Blogs', 'Entertainment', 'Education', 'Gaming', 'Music', 'Film & Animation', 'Comedy', 'Gaming', 'Pets & Animals', 'Education', 'fJBbA3tJ8EA', 'Pets & Animals', 'yn-TfAzobDI', 'Sports', 'Entertainment', 'Comedy', 'News & Politics', 'Entertainment', 'News & Politics', 'News & Politics', 'News & Politics', 'News & Politics', 'News & Politics', 'News & Politics', 'Science & Technology', 'News & Politics', 'News & Politics', 'News & Politics', 'Music', 'People & Blogs', 'Music'], ['Pets & Animals', 'Music', 'Music', 'Entertainment', 'Pets & Animals', 'Entertainment', 'Entertainment', '-2X-pL06628', 'Music', 'Gaming', 'Entertainment', 'Music', 'People & Blogs', 'Entertainment', 'Education', 'Music', 'Gaming', 'Film & Animation', 'Comedy', 'Gaming', 'Pets & Animals', 'Music', 'Autos & Vehicles', 'Music', 'Education', 'Sports', 'Entertainment', 'News & Politics', 'News & Politics', 'Entertainment', 'News & Politics', 'News & Politics', 'News & Politics', 'News & Politics', 'News & Politics', 'News & Politics', 'Science & Technology', 'News & Politics', 'News & Politics', 'News & Politics', 'Music', 'Pets & Animals', 'Music'], ['Pets & Animals', 'Music', 'Music', 'Film & Animation', 'Sports', 'Pets & Animals', 'Music', 'Music', 'Music', 'Gaming', 'Entertainment', 'Music', 'Entertainment', 'People & Blogs', 'Music', 'Education', 'Gaming', 'Film & Animation', 'Comedy', 'Gaming', 'Autos & Vehicles', 'People & Blogs', 'Music', 'I4WNGZfLMDs', 'Music', 'Education', 'Pets & Animals', 'Music', 'News & Politics', 'Entertainment', 'News & Politics', 'News & Politics', 'News & Politics', 'News & Politics', 'News & Politics', 'News & Politics', 'Science & Technology', 'News & Politics', 'News & Politics', 'News & Politics', 'Sports', 'Entertainment', 'Entertainment'], ['People & Blogs', 'Music', 'Pets & Animals', 'Music', 'Film & Animation', 'Sports', 'I4WNGZfLMDs', 'Music', 'Music', 'Gaming', 'Entertainment', 'Music', 'Education', 'Entertainment', 'Music', 'People & Blogs', 'Gaming', 'Comedy', 'Film & Animation', 'Gaming', 'Entertainment', 'Education', 'Entertainment', 'Entertainment', 'People & Blogs', 'Entertainment', 'People & Blogs', 'People & Blogs', 'News & Politics', 'Entertainment', 'News & Politics', 'News & Politics', 'News & Politics', 'News & Politics', 'News & Politics', 'News & Politics', 'Science & Technology', 'News & Politics', 'News & Politics', 'News & Politics'], ['Pets & Animals', 'Music', 'Music', 'Comedy', 'Entertainment', 'Autos & Vehicles', 'fJBbA3tJ8EA', 'Pets & Animals', 'Music', 'Gaming', 'Entertainment', 'Music', 'Education', 'Entertainment', 'Music', 'People & Blogs', 'Gaming', 'Film & Animation', 'Comedy', 'Gaming', 'Entertainment', 'Education', 'Music', 'Entertainment', 'Music', 'Pets & Animals', 'Music', 'News & Politics', 'News & Politics', 'Entertainment', 'News & Politics', 'News & Politics', 'News & Politics', 'News & Politics', 'News & Politics', 'News & Politics', 'Science & Technology', 'News & Politics', 'News & Politics', 'News & Politics'], ['Music', 'Music', 'Film & Animation', 'Pets & Animals', 'People & Blogs', 'People & Blogs', 'Music', 'Entertainment', 'Music', 'Gaming', 'Entertainment', 'Music', 'Education', 'Music', 'Entertainment', 'People & Blogs', 'Gaming', 'Film & Animation', 'Comedy', 'Gaming', 'Music', 'cCKOl5li6YM', 'Education', 'Film & Animation', 'Autos & Vehicles', 'Pets & Animals', 'People & Blogs', 'Entertainment', 'News & Politics', 'Entertainment', 'News & Politics', 'News & Politics', 'News & Politics', 'News & Politics', 'News & Politics', 'News & Politics', 'Science & Technology', 'News & Politics', 'News & Politics', 'News & Politics', 'News & Politics', 'Entertainment', 'Entertainment'], ['Entertainment', 'People & Blogs', 'Music', 'Pets & Animals', 'Autos & Vehicles', 'Pets & Animals', 'Music', 'Music', 'Music', 'Gaming', 'Entertainment', 'Music', 'Education', 'Music', 'Entertainment', 'People & Blogs', 'Gaming', 'Film & Animation', 'Comedy', 'Gaming', 'Pets & Animals', 'cCKOl5li6YM', 'Education', 'People & Blogs', 'Entertainment', 'Entertainment', 'Howto & Style', 'Entertainment', 'News & Politics', 'Entertainment', 'News & Politics', 'News & Politics', 'News & Politics', 'News & Politics', 'News & Politics', 'News & Politics', 'Science & Technology', 'News & Politics', 'News & Politics', 'News & Politics', 'Music', 'Music', 'Music'], ['Autos & Vehicles', 'Music', 'Comedy', 'Music', 'Entertainment', 'Entertainment', 'Entertainment', 'Pets & Animals', 'Music', 'Gaming', 'Entertainment', 'Music', 'Education', 'Music', 'Entertainment', 'People & Blogs', 'Gaming', 'Comedy', 'Film & Animation', 'Gaming', 'cCKOl5li6YM', 'Education', 'People & Blogs', 'Sports', 'Entertainment', 'Entertainment', 'People & Blogs', 'Travel & Events', 'News & Politics', 'Entertainment', 'News & Politics', 'News & Politics', 'News & Politics', 'News & Politics', 'News & Politics', 'News & Politics', 'Science & Technology', 'News & Politics', 'News & Politics', 'News & Politics'], ['Pets & Animals', 'Music', 'Entertainment', 'Music', 'Sports', 'Pets & Animals', 'Zv1fgmd1pr4', 'Entertainment', 'Music', 'Gaming', 'Entertainment', 'Music', 'Education', 'Music', 'Entertainment', 'Gaming', 'People & Blogs', 'Comedy', 'Film & Animation', 'Gaming', 'Education', 'People & Blogs', 'Music', 'Film & Animation', 'Entertainment', 'Sports', 'Music', 'Entertainment', 'News & Politics', 'Entertainment', 'News & Politics', 'News & Politics', 'News & Politics', 'News & Politics', 'News & Politics', 'News & Politics', 'Science & Technology', 'News & Politics', 'News & Politics', 'News & Politics'], ['Entertainment', 'Music', 'Pets & Animals', 'News & Politics', 'Film & Animation', 'Entertainment', 'rokxoxFsWPU', 'Pets & Animals', 'Music', 'Gaming', 'Entertainment', 'Education', 'Music', 'Music', 'Entertainment', 'People & Blogs', 'Gaming', 'Film & Animation', 'Comedy', 'Gaming', 'Entertainment', 'Music', 'Education', 'Music', 'Music', 'Entertainment', 'Entertainment', 'Music', 'News & Politics', 'Entertainment', 'News & Politics', 'News & Politics', 'News & Politics', 'News & Politics', 'News & Politics', 'News & Politics', 'Science & Technology', 'News & Politics', 'News & Politics', 'News & Politics'], ['Entertainment', 'Music', 'Entertainment', 'Entertainment', 'Entertainment', 'News & Politics', 'hIdsjNGCGz4', 'Film & Animation', 'Music', 'Gaming', 'Entertainment', 'Music', 'Education', 'Music', 'Entertainment', 'People & Blogs', 'Gaming', 'Film & Animation', 'Comedy', 'Gaming', 'Pets & Animals', 'People & Blogs', 'Education', 'Entertainment', 'Science & Technology', 'Music', 'Music', 'Entertainment', 'News & Politics', 'Entertainment', 'News & Politics', 'News & Politics', 'News & Politics', 'News & Politics', 'News & Politics', 'News & Politics', 'Science & Technology', 'News & Politics', 'News & Politics', 'News & Politics']]\n"
          ]
        }
      ]
    },
    {
      "cell_type": "code",
      "metadata": {
        "id": "Jfzz9UhtRHbi"
      },
      "source": [
        "count=0\n",
        "\n",
        "for key in obfuscated_recommendations_raw.keys():\n",
        "  for i in range(len(obfuscated_recommendations_raw[key])):\n",
        "    for j in range(len(obfuscated_recommendations_raw[key][i])):\n",
        "      video=obfuscated_recommendations_raw[key][i][j]\n",
        "      try:\n",
        "        read_item[video]['categories']\n",
        "        obfuscated_recommendations_categories[key][i][j]=read_item[video]['categories']\n",
        "      except:\n",
        "        for kill in obfuscated_recommendations_categories[key][i]:\n",
        "          if kill == video:\n",
        "            obfuscated_recommendations_categories[key][i].remove(kill)\n",
        "        count=count+1"
      ],
      "execution_count": null,
      "outputs": []
    },
    {
      "cell_type": "code",
      "metadata": {
        "colab": {
          "base_uri": "https://localhost:8080/"
        },
        "id": "ro-IcsJ6S-ww",
        "outputId": "7f3ddd96-4c83-4813-cb17-8fde10d74d88"
      },
      "source": [
        "print(obfuscated_recommendations_categories['obfu_0'])"
      ],
      "execution_count": null,
      "outputs": [
        {
          "output_type": "stream",
          "name": "stdout",
          "text": [
            "[['People & Blogs', 'Gaming', 'Music', 'Pets & Animals', 'Music', 'Education', 'Gaming', 'Science & Technology', 'People & Blogs', 'Comedy', 'Music', 'Entertainment', 'Music', 'Entertainment', 'Gaming', 'Gaming', 'Science & Technology', 'Entertainment', 'Music', 'People & Blogs', 'Pets & Animals', 'Entertainment', 'Sports', 'Film & Animation', 'People & Blogs', 'Music', 'Sports', 'Entertainment', 'News & Politics', 'Entertainment', 'News & Politics', 'News & Politics', 'News & Politics', 'News & Politics', 'News & Politics', 'News & Politics', 'Science & Technology', 'News & Politics', 'News & Politics', 'News & Politics', 'Entertainment', 'Film & Animation', 'News & Politics', 'Pets & Animals'], ['Pets & Animals', 'Music', 'Gaming', 'Entertainment', 'Music', 'People & Blogs', 'Music', 'Pets & Animals', 'People & Blogs', 'Entertainment', 'Music', 'Music', 'Entertainment', 'Gaming', 'Gaming', 'Science & Technology', 'Entertainment', 'Music', 'People & Blogs', 'Film & Animation', 'Sports', 'Gaming', '75DHx3Z-FbM', 'Entertainment', 'Comedy', 'Education', 'People & Blogs', 'Entertainment', 'News & Politics', 'Entertainment', 'News & Politics', 'News & Politics', 'News & Politics', 'News & Politics', 'News & Politics', 'News & Politics', 'Science & Technology', 'News & Politics', 'News & Politics', 'News & Politics', 'Music', 'Film & Animation', 'Nonprofits & Activism'], ['Pets & Animals', 'Music', 'Gaming', 'Entertainment', 'Music', 'Film & Animation', 'Music', 'Pets & Animals', 'People & Blogs', 'Entertainment', 'Music', 'Music', 'Entertainment', 'Gaming', 'Gaming', 'Science & Technology', 'Entertainment', 'Music', 'People & Blogs', 'Film & Animation', 'People & Blogs', 'Sports', 'Music', 'Gaming', 'Film & Animation', 'People & Blogs', 'Education', 'Entertainment', 'News & Politics', 'Entertainment', 'News & Politics', 'News & Politics', 'News & Politics', 'News & Politics', 'News & Politics', 'News & Politics', 'Science & Technology', 'News & Politics', 'News & Politics', 'News & Politics', 'Sports', 'Music', 'Film & Animation', 'Education'], ['Pets & Animals', 'People & Blogs', 'Entertainment', 'Music', 'Sports', 'Music', 'Film & Animation', 'Gaming', 'People & Blogs', 'Music', 'Entertainment', 'Music', 'Entertainment', 'Gaming', 'Gaming', 'Science & Technology', 'Entertainment', 'Music', 'People & Blogs', 'Film & Animation', 'Pets & Animals', 'Sports', 'Music', 'Entertainment', '4pq9N8qrTT0', 'News & Politics', 'Gaming', 'People & Blogs', 'News & Politics', 'Entertainment', 'News & Politics', 'News & Politics', 'News & Politics', 'News & Politics', 'News & Politics', 'News & Politics', 'Science & Technology', 'News & Politics', 'News & Politics', 'News & Politics', 'Music', 'Comedy', 'Music'], ['Pets & Animals', 'People & Blogs', 'Film & Animation', 'Film & Animation', 'Music', 'Music', 'Film & Animation', 'Sports', 'People & Blogs', 'Music', 'Entertainment', 'Music', 'Entertainment', 'Gaming', 'Gaming', 'Science & Technology', 'Entertainment', 'Music', 'People & Blogs', 'Film & Animation', 'Pets & Animals', 'Sports', 'r5htsV462SM', 'Entertainment', 'Pets & Animals', 'Education', 'Film & Animation', 'Music', 'News & Politics', 'Entertainment', 'News & Politics', 'News & Politics', 'News & Politics', 'News & Politics', 'News & Politics', 'News & Politics', 'Science & Technology', 'News & Politics', 'News & Politics', 'News & Politics', 'Sports', 'Entertainment', 'Pets & Animals'], ['Pets & Animals', 'Film & Animation', 'rbE53XUtVw0', 'Sports', 'Entertainment', 'Pets & Animals', 'Entertainment', 'Comedy', 'People & Blogs', 'Entertainment', 'Music', 'Music', 'Entertainment', 'Gaming', 'Gaming', 'Science & Technology', 'Entertainment', 'Music', 'People & Blogs', 'Film & Animation', 'Music', 'Gaming', 'Music', 'News & Politics', 'Pets & Animals', 'Entertainment', 'Sports', 'Comedy', 'News & Politics', 'Entertainment', 'News & Politics', 'News & Politics', 'News & Politics', 'News & Politics', 'News & Politics', 'News & Politics', 'Science & Technology', 'News & Politics', 'News & Politics', 'News & Politics', 'Pets & Animals', 'People & Blogs', 'Education'], ['Pets & Animals', 'Entertainment', 'Entertainment', 'Sports', 'Sports', 'Music', 'Pets & Animals', 'People & Blogs', 'People & Blogs', 'Entertainment', 'Music', 'Music', 'Entertainment', 'Gaming', 'Gaming', 'Science & Technology', 'Entertainment', 'Music', 'People & Blogs', 'Film & Animation', 'Pets & Animals', 'Music', 'Gaming', 'Sports', '3nGQLQF1b6I', 'Film & Animation', 'News & Politics', 'People & Blogs', 'News & Politics', 'Entertainment', 'News & Politics', 'News & Politics', 'News & Politics', 'News & Politics', 'News & Politics', 'News & Politics', 'Science & Technology', 'News & Politics', 'News & Politics', 'News & Politics', 'Education', 'People & Blogs', 'Sports'], ['Entertainment', 'People & Blogs', 'Music', 'Sports', 'Pets & Animals', 'Music', 'Gaming', 'Film & Animation', 'People & Blogs', 'Entertainment', 'Music', 'Music', 'Entertainment', 'Gaming', 'Gaming', 'Science & Technology', 'Entertainment', 'Music', 'People & Blogs', 'Film & Animation', 'Pets & Animals', 'Music', 'Entertainment', 'Pets & Animals', 'Education', 'Comedy', 'Music', 'Comedy', 'News & Politics', 'Entertainment', 'News & Politics', 'News & Politics', 'News & Politics', 'News & Politics', 'News & Politics', 'News & Politics', 'Science & Technology', 'News & Politics', 'News & Politics', 'News & Politics', 'yn-TfAzobDI', 'Sports', 'People & Blogs'], ['Music', 'Pets & Animals', 'Entertainment', 'Sports', 'Pets & Animals', 'Music', 'Gaming', 'People & Blogs', 'People & Blogs', 'Entertainment', 'Music', 'Music', 'Entertainment', 'Gaming', 'Gaming', 'Science & Technology', 'Entertainment', 'Music', 'People & Blogs', 'Film & Animation', 'Entertainment', 'Sports', 'Music', 'Pets & Animals', 'Education', 'Film & Animation', 'Entertainment', 'Sports', 'News & Politics', 'Entertainment', 'News & Politics', 'News & Politics', 'News & Politics', 'News & Politics', 'News & Politics', 'News & Politics', 'Science & Technology', 'News & Politics', 'News & Politics', 'News & Politics', 'Film & Animation', 'Music', 'People & Blogs', 'Comedy'], ['Music', 'Pets & Animals', 'Film & Animation', 'Sports', 'Music', 'Pets & Animals', 'Entertainment', 'Music', 'People & Blogs', 'Entertainment', 'Music', 'Music', 'Entertainment', 'Gaming', 'Gaming', 'Science & Technology', 'Entertainment', 'Music', 'People & Blogs', 'Film & Animation', 'Film & Animation', 'Pets & Animals', 'Film & Animation', 'Comedy', 'Gaming', 'News & Politics', 'Music', 'People & Blogs', 'News & Politics', 'Entertainment', 'News & Politics', 'News & Politics', 'News & Politics', 'News & Politics', 'News & Politics', 'News & Politics', 'Science & Technology', 'News & Politics', 'News & Politics', 'News & Politics', 'Howto & Style', 'Entertainment'], ['Music', 'Pets & Animals', 'Film & Animation', 'Pets & Animals', 'Music', 'People & Blogs', 'Film & Animation', 'Music', 'People & Blogs', 'Entertainment', 'Music', 'Music', 'Entertainment', 'Gaming', 'Gaming', 'Science & Technology', 'Entertainment', 'Music', 'People & Blogs', 'Film & Animation', 'Pets & Animals', 'Sports', 'Gaming', 'Entertainment', 'News & Politics', 'Film & Animation', 'Pets & Animals', 'Music', 'News & Politics', 'Entertainment', 'News & Politics', 'News & Politics', 'News & Politics', 'News & Politics', 'News & Politics', 'News & Politics', 'Science & Technology', 'News & Politics', 'News & Politics', 'News & Politics', 'Sports', 'News & Politics'], ['Pets & Animals', 'Music', 'News & Politics', 'Music', 'Pets & Animals', 'Sports', 'Education', 'People & Blogs', 'Entertainment', 'People & Blogs', 'Music', 'Music', 'Entertainment', 'Gaming', 'Gaming', 'Science & Technology', 'Entertainment', 'Music', 'People & Blogs', 'Film & Animation', 'Gaming', 'Comedy', 'Music', 'Pets & Animals', 'Music', 'Pets & Animals', 'Comedy', 'Film & Animation', 'News & Politics', 'Entertainment', 'News & Politics', 'News & Politics', 'News & Politics', 'News & Politics', 'News & Politics', 'News & Politics', 'Science & Technology', 'News & Politics', 'News & Politics', 'News & Politics', 'Music', '4pq9N8qrTT0', 'News & Politics'], ['Entertainment', 'People & Blogs', 'Gaming', 'Comedy', 'Music', 'Pets & Animals', 'Comedy', 'Film & Animation', 'Entertainment', 'People & Blogs', 'Music', 'Music', 'Entertainment', 'Gaming', 'Gaming', 'Science & Technology', 'Entertainment', 'Music', 'People & Blogs', 'Film & Animation', 'Pets & Animals', 'Sports', 'Education', 'Pets & Animals', 'Gaming', 'People & Blogs', 'Film & Animation', 'Pets & Animals', 'News & Politics', 'Entertainment', 'News & Politics', 'News & Politics', 'News & Politics', 'News & Politics', 'News & Politics', 'News & Politics', 'Science & Technology', 'News & Politics', 'News & Politics', 'News & Politics', 'Education', 'Music', 'Sports', 'Entertainment'], ['People & Blogs', 'Pets & Animals', 'Comedy', 'Gaming', 'Pets & Animals', 'News & Politics', 'Pets & Animals', 'Gaming', 'Entertainment', 'People & Blogs', 'Music', 'Music', 'Entertainment', 'Gaming', 'Gaming', 'Science & Technology', 'Entertainment', 'Music', 'People & Blogs', 'Film & Animation', 'Education', 'Music', 'Pets & Animals', 'Film & Animation', 'Entertainment', 'People & Blogs', 'Sports', 'Music', 'News & Politics', 'Entertainment', 'News & Politics', 'News & Politics', 'News & Politics', 'News & Politics', 'News & Politics', 'News & Politics', 'Science & Technology', 'News & Politics', 'News & Politics', 'News & Politics', 'Music', 'Pets & Animals', 'Entertainment', 'Film & Animation'], ['People & Blogs', 'Pets & Animals', 'Comedy', 'Sports', 'Science & Technology', 'Pets & Animals', 'Music', 'Entertainment', 'Entertainment', 'People & Blogs', 'Music', 'Music', 'Entertainment', 'Gaming', 'Gaming', 'Science & Technology', 'Entertainment', 'Music', 'People & Blogs', 'Film & Animation', 'Education', 'People & Blogs', 'Entertainment', 'Pets & Animals', 'Comedy', 'Music', 'Film & Animation', 'Education', 'News & Politics', 'Entertainment', 'News & Politics', 'News & Politics', 'News & Politics', 'News & Politics', 'News & Politics', 'News & Politics', 'Science & Technology', 'News & Politics', 'News & Politics', 'News & Politics', 'Pets & Animals', 'Sports', 'Comedy', 'People & Blogs'], ['Pets & Animals', 'Entertainment', 'Music', 'Entertainment', 'Comedy', 'News & Politics', 'Pets & Animals', 'Entertainment', 'People & Blogs', 'Entertainment', 'Music', 'Music', 'Entertainment', 'Gaming', 'Gaming', 'Science & Technology', 'Entertainment', 'Music', 'People & Blogs', 'Film & Animation', 'Sports', 'Education', 'People & Blogs', 'People & Blogs', 'Film & Animation', 'Pets & Animals', 'People & Blogs', 'Sports', 'News & Politics', 'Entertainment', 'News & Politics', 'News & Politics', 'News & Politics', 'News & Politics', 'News & Politics', 'News & Politics', 'Science & Technology', 'News & Politics', 'News & Politics', 'News & Politics', 'Music', 'Education', 'Music', 'Sports'], ['People & Blogs', 'Film & Animation', 'Autos & Vehicles', 'Entertainment', 'Sports', 'News & Politics', 'Pets & Animals', 'People & Blogs', 'People & Blogs', 'Entertainment', 'Music', 'Music', 'Entertainment', 'Gaming', 'Gaming', 'Science & Technology', 'Entertainment', 'Music', 'People & Blogs', 'Film & Animation', 'Music', 'Entertainment', 'Pets & Animals', 'Education', 'Science & Technology', 'Entertainment', 'Film & Animation', 'Comedy', 'News & Politics', 'Entertainment', 'News & Politics', 'News & Politics', 'News & Politics', 'News & Politics', 'News & Politics', 'News & Politics', 'Science & Technology', 'News & Politics', 'News & Politics', 'News & Politics', 'Pets & Animals', 'Music', 'Nonprofits & Activism', 'Sports'], ['Pets & Animals', 'Entertainment', 'Music', 'People & Blogs', 'Gaming', 'News & Politics', 'Comedy', 'Music', 'People & Blogs', 'Entertainment', 'Music', 'Music', 'Entertainment', 'Gaming', 'Gaming', 'Science & Technology', 'Entertainment', 'Music', 'People & Blogs', 'Film & Animation', 'Sports', 'Pets & Animals', 'Science & Technology', 'Entertainment', 'Pets & Animals', 'Education', 'Sports', 'Comedy', 'News & Politics', 'Entertainment', 'News & Politics', 'News & Politics', 'News & Politics', 'News & Politics', 'News & Politics', 'News & Politics', 'Science & Technology', 'News & Politics', 'News & Politics', 'News & Politics', 'People & Blogs', 'People & Blogs', 'Sports', 'Education'], ['Pets & Animals', 'rQIntekPlfo', 'Sports', 'News & Politics', 'Film & Animation', 'Pets & Animals', 'Science & Technology', 'Comedy', 'People & Blogs', 'Entertainment', 'Music', 'Music', 'Entertainment', 'Gaming', 'Gaming', 'Science & Technology', 'Entertainment', 'Music', 'People & Blogs', 'Film & Animation', 'Music', 'Sports', 'Sports', 'Education', 'Sports', 'Music', 'People & Blogs', 'Comedy', 'News & Politics', 'Entertainment', 'News & Politics', 'News & Politics', 'News & Politics', 'News & Politics', 'News & Politics', 'News & Politics', 'Science & Technology', 'News & Politics', 'News & Politics', 'News & Politics', 'News & Politics', 'Education', 'Pets & Animals'], ['Pets & Animals', 'People & Blogs', 'Film & Animation', 'Music', 'Sports', 'Gaming', 'Pets & Animals', 'Science & Technology', 'People & Blogs', 'Entertainment', 'Music', 'Music', 'Entertainment', 'Gaming', 'Gaming', 'Science & Technology', 'Entertainment', 'Music', 'People & Blogs', 'Film & Animation', 'Comedy', 'Pets & Animals', 'Sports', 'Sports', 'People & Blogs', 'Music', 'Film & Animation', 'Pets & Animals', 'News & Politics', 'Entertainment', 'News & Politics', 'News & Politics', 'News & Politics', 'News & Politics', 'News & Politics', 'News & Politics', 'Science & Technology', 'News & Politics', 'News & Politics', 'News & Politics', 'Sports', 'a67ldOixq3U', 'Film & Animation'], ['People & Blogs', 'Film & Animation', 'Pets & Animals', 'Entertainment', 'Music', 'Pets & Animals', 'Sports', 'Film & Animation', 'People & Blogs', 'Entertainment', 'Music', 'Music', 'Entertainment', 'Gaming', 'Gaming', 'Science & Technology', 'Entertainment', 'Music', 'People & Blogs', 'Film & Animation', 'Music', 'Film & Animation', 'Sports', 'Pets & Animals', 'Education', 'Sports', 'Comedy', 'Music', 'News & Politics', 'Entertainment', 'News & Politics', 'News & Politics', 'News & Politics', 'News & Politics', 'News & Politics', 'News & Politics', 'Science & Technology', 'News & Politics', 'News & Politics', 'News & Politics', 'Science & Technology', 'Education', 'Film & Animation', 'Sports'], ['Pets & Animals', 'Entertainment', 'Gaming', 'Comedy', 'People & Blogs', 'Sports', 'Pets & Animals', 'Film & Animation', 'People & Blogs', 'Entertainment', 'Music', 'Music', 'Entertainment', 'Gaming', 'Gaming', 'Science & Technology', 'Entertainment', 'Music', 'People & Blogs', 'Film & Animation', 'Sports', 'Pets & Animals', 'Entertainment', 'Film & Animation', 'Sports', 'LKT7fGL_Uh0', 'Education', 'Entertainment', 'News & Politics', 'Entertainment', 'News & Politics', 'News & Politics', 'News & Politics', 'News & Politics', 'News & Politics', 'News & Politics', 'Science & Technology', 'News & Politics', 'News & Politics', 'News & Politics', 'Gaming', 'Music', 'Music'], ['Pets & Animals', 'Gaming', 'Entertainment', 'Sports', 'Music', 'Entertainment', 'Pets & Animals', 'Sports', 'People & Blogs', 'Entertainment', 'Music', 'Music', 'Entertainment', 'Gaming', 'Gaming', 'Science & Technology', 'Entertainment', 'Music', 'People & Blogs', 'Film & Animation', 'Pets & Animals', 'Music', 'Film & Animation', 'Music', 'Sports', 'Sports', 'Film & Animation', 'Entertainment', 'News & Politics', 'Entertainment', 'News & Politics', 'News & Politics', 'News & Politics', 'News & Politics', 'News & Politics', 'News & Politics', 'Science & Technology', 'News & Politics', 'News & Politics', 'News & Politics', 'Howto & Style', 'Autos & Vehicles', 'Comedy'], ['Entertainment', 'Pets & Animals', 'Entertainment', 'Entertainment', 'Sports', 'Pets & Animals', 'Science & Technology', 'Comedy', 'People & Blogs', 'Entertainment', 'Music', 'Music', 'Entertainment', 'Gaming', 'Gaming', 'Science & Technology', 'Entertainment', 'Music', 'People & Blogs', 'Film & Animation', 'Sports', 'Film & Animation', 'People & Blogs', 'Comedy', 'Gaming', 'Sports', 'Music', 'OR93WkCSOKw', 'News & Politics', 'Entertainment', 'News & Politics', 'News & Politics', 'News & Politics', 'News & Politics', 'News & Politics', 'News & Politics', 'Science & Technology', 'News & Politics', 'News & Politics', 'News & Politics', 'Science & Technology', 'Sports', 'Pets & Animals'], ['Entertainment', 'Pets & Animals', 'Film & Animation', 'Film & Animation', 'Sports', 'Music', 'Pets & Animals', 'Comedy', 'People & Blogs', 'Entertainment', 'Music', 'Music', 'Entertainment', 'Gaming', 'Gaming', 'Science & Technology', 'Entertainment', 'Music', 'People & Blogs', 'Film & Animation', 'Sports', 'Gaming', 'Pets & Animals', 'Entertainment', 'Music', 'Howto & Style', 'Gaming', 'OR93WkCSOKw', 'News & Politics', 'Entertainment', 'News & Politics', 'News & Politics', 'News & Politics', 'News & Politics', 'News & Politics', 'News & Politics', 'Science & Technology', 'News & Politics', 'News & Politics', 'News & Politics', 'Music', 'Education', 'Pets & Animals'], ['Music', 'Pets & Animals', 'People & Blogs', 'Sports', 'People & Blogs', 'Comedy', 'Music', 'People & Blogs', 'People & Blogs', 'Entertainment', 'Music', 'Music', 'Entertainment', 'Gaming', 'Gaming', 'Science & Technology', 'Entertainment', 'Music', 'People & Blogs', 'Film & Animation', 'Sports', 'Pets & Animals', 'Film & Animation', 'Gaming', 'Science & Technology', 'Howto & Style', 'Sports', 'Music', 'News & Politics', 'Entertainment', 'News & Politics', 'News & Politics', 'News & Politics', 'News & Politics', 'News & Politics', 'News & Politics', 'Science & Technology', 'News & Politics', 'News & Politics', 'News & Politics', 'Autos & Vehicles', 'Education', 'Entertainment', 'Nonprofits & Activism'], ['Music', 'Film & Animation', 'People & Blogs', 'Howto & Style', 'People & Blogs', 'News & Politics', 'Music', 'Science & Technology', 'People & Blogs', 'Entertainment', 'Music', 'Music', 'Entertainment', 'Gaming', 'Gaming', 'Science & Technology', 'Entertainment', 'Music', 'People & Blogs', 'Film & Animation', 'Sports', 'Entertainment', 'Education', 'Music', 'People & Blogs', 'Comedy', 'Film & Animation', 'Music', 'News & Politics', 'Entertainment', 'News & Politics', 'News & Politics', 'News & Politics', 'News & Politics', 'News & Politics', 'News & Politics', 'Science & Technology', 'News & Politics', 'News & Politics', 'News & Politics', 'Autos & Vehicles', 'Film & Animation', 'Sports', 'Music'], ['Pets & Animals', 'Comedy', 'Science & Technology', 'Music', 'Howto & Style', 'People & Blogs', 'Sports', 'Nonprofits & Activism', 'Entertainment', 'People & Blogs', 'Music', 'Music', 'Entertainment', 'Gaming', 'Gaming', 'Science & Technology', 'Entertainment', 'Music', 'People & Blogs', 'Film & Animation', 'Pets & Animals', 'People & Blogs', 'Entertainment', 'Music', 'Autos & Vehicles', 'Film & Animation', 'Music', 'Sports', 'News & Politics', 'Entertainment', 'News & Politics', 'News & Politics', 'News & Politics', 'News & Politics', 'News & Politics', 'News & Politics', 'Science & Technology', 'News & Politics', 'News & Politics', 'News & Politics', 'Music', 'Education', 'Comedy'], ['Pets & Animals', 'Film & Animation', 'Howto & Style', 'Music', 'Science & Technology', 'Sports', 'Music', 'Entertainment', 'Entertainment', 'People & Blogs', 'Music', 'Music', 'Entertainment', 'Gaming', 'Gaming', 'Science & Technology', 'Entertainment', 'Music', 'People & Blogs', 'Film & Animation', 'Entertainment', 'Education', 'Gaming', 'Howto & Style', 'Autos & Vehicles', 'People & Blogs', 'News & Politics', 'OR93WkCSOKw', 'News & Politics', 'Entertainment', 'News & Politics', 'News & Politics', 'News & Politics', 'News & Politics', 'News & Politics', 'News & Politics', 'Science & Technology', 'News & Politics', 'News & Politics', 'News & Politics', 'Comedy', 'Music', 'Science & Technology'], ['Pets & Animals', 'Film & Animation', 'Music', 'Music', 'Sports', 'Music', 'News & Politics', 'Dn6u3SdgGKI', 'People & Blogs', 'Entertainment', 'Music', 'Music', 'Entertainment', 'Gaming', 'Gaming', 'Science & Technology', 'Entertainment', 'Music', 'People & Blogs', 'Film & Animation', 'Film & Animation', 'Music', 'Sports', 'Science & Technology', 'Autos & Vehicles', 'Gaming', 'Music', 'Science & Technology', 'News & Politics', 'Entertainment', 'News & Politics', 'News & Politics', 'News & Politics', 'News & Politics', 'News & Politics', 'News & Politics', 'Science & Technology', 'News & Politics', 'News & Politics', 'News & Politics', 'Entertainment', 'Music', 'Howto & Style'], ['People & Blogs', 'Music', 'Entertainment', 'Sports', 'Music', 'Pets & Animals', 'Nonprofits & Activism', 'Education', 'People & Blogs', 'Entertainment', 'Music', 'Music', 'Entertainment', 'Gaming', 'Gaming', 'Science & Technology', 'Entertainment', 'Music', 'People & Blogs', 'Film & Animation', 'Science & Technology', '_qHiCIKdgLc', 'Sports', 'People & Blogs', 'Entertainment', 'Music', 'News & Politics', 'Autos & Vehicles', 'News & Politics', 'Entertainment', 'News & Politics', 'News & Politics', 'News & Politics', 'News & Politics', 'News & Politics', 'News & Politics', 'Science & Technology', 'News & Politics', 'News & Politics', 'News & Politics'], ['People & Blogs', 'Sports', 'Pets & Animals', 'Comedy', 'Entertainment', 'Nonprofits & Activism', '_PVPB3sGgBQ', 'Science & Technology', 'People & Blogs', 'Entertainment', 'Music', 'Music', 'Entertainment', 'Gaming', 'Gaming', 'Science & Technology', 'Entertainment', 'Music', 'People & Blogs', 'Film & Animation', 'Music', 'Sports', 'Film & Animation', 'Music', 'Education', 'Music', 'Comedy', 'Autos & Vehicles', 'News & Politics', 'Entertainment', 'News & Politics', 'News & Politics', 'News & Politics', 'News & Politics', 'News & Politics', 'News & Politics', 'Science & Technology', 'News & Politics', 'News & Politics', 'News & Politics', 'Entertainment', 'Music', 'News & Politics'], ['People & Blogs', 'People & Blogs', 'News & Politics', 'Pets & Animals', 'Music', 'Science & Technology', 'Music', 'Gaming', 'People & Blogs', 'Entertainment', 'Music', 'Music', 'Entertainment', 'Gaming', 'Gaming', 'Science & Technology', 'Entertainment', 'Music', 'People & Blogs', 'Film & Animation', 'Gaming', 'oRvwlX3ihRg', 'Sports', 'Nonprofits & Activism', 'Entertainment', 'Comedy', 'Education', 'Music', 'News & Politics', 'Entertainment', 'News & Politics', 'News & Politics', 'News & Politics', 'News & Politics', 'News & Politics', 'News & Politics', 'Science & Technology', 'News & Politics', 'News & Politics', 'News & Politics', 'Science & Technology', 'Film & Animation', 'Autos & Vehicles'], ['Gaming', 'Pets & Animals', 'Gaming', 'Sports', 'Music', 'Film & Animation', 'Pets & Animals', 'Education', 'People & Blogs', 'Entertainment', 'Music', 'Entertainment', 'Gaming', 'Gaming', 'Science & Technology', 'Entertainment', 'Music', 'People & Blogs', 'Film & Animation', 'Music', 'Music', 'Entertainment', 'Education', 'People & Blogs', 'Science & Technology', 'People & Blogs', 'Entertainment', 'Howto & Style', 'News & Politics', 'Entertainment', 'News & Politics', 'News & Politics', 'News & Politics', 'News & Politics', 'News & Politics', 'News & Politics', 'Science & Technology', 'News & Politics', 'News & Politics', 'News & Politics', 'Science & Technology', 'Music', 'Comedy', 'People & Blogs'], ['Music', 'Music', 'Film & Animation', 'Music', 'News & Politics', 'A99sZ0ngd_U', 'Music', 'Science & Technology', 'People & Blogs', 'Entertainment', 'Music', 'Music', 'Entertainment', 'Gaming', 'Gaming', 'Science & Technology', 'Entertainment', 'Music', 'People & Blogs', 'Film & Animation', 'Nonprofits & Activism', 'Sports', 'Music', 'Comedy', 'Education', 'Autos & Vehicles', 'Music', 'People & Blogs', 'News & Politics', 'Entertainment', 'News & Politics', 'News & Politics', 'News & Politics', 'News & Politics', 'News & Politics', 'News & Politics', 'Science & Technology', 'News & Politics', 'News & Politics', 'News & Politics'], ['Pets & Animals', 'Film & Animation', 'Education', 'Pets & Animals', 'Music', 'Entertainment', 'Education', 'Dn6u3SdgGKI', 'People & Blogs', 'Entertainment', 'Music', 'Music', 'Entertainment', 'Gaming', 'Gaming', 'Science & Technology', 'Entertainment', 'Music', 'People & Blogs', 'Film & Animation', 'Music', 'Nonprofits & Activism', 'News & Politics', 'People & Blogs', 'Science & Technology', 'Music', 'Film & Animation', 'Pets & Animals', 'News & Politics', 'Entertainment', 'News & Politics', 'News & Politics', 'News & Politics', 'News & Politics', 'News & Politics', 'News & Politics', 'Science & Technology', 'News & Politics', 'News & Politics', 'News & Politics', 'Comedy', 'Autos & Vehicles', 'Music'], ['Music', 'Science & Technology', 'Sports', 'Music', 'Nonprofits & Activism', 'Music', 'Music', 'Dn6u3SdgGKI', 'People & Blogs', 'Entertainment', 'Music', 'Music', 'Entertainment', 'Gaming', 'Gaming', 'Science & Technology', 'Entertainment', 'Music', 'People & Blogs', 'Film & Animation', 'Autos & Vehicles', 'Howto & Style', 'Music', 'News & Politics', 'Music', 'Music', 'Education', 'Music', 'News & Politics', 'Entertainment', 'News & Politics', 'News & Politics', 'News & Politics', 'News & Politics', 'News & Politics', 'News & Politics', 'Science & Technology', 'News & Politics', 'News & Politics', 'News & Politics', 'Education', 'Entertainment', 'Music'], ['People & Blogs', 'Music', 'Pets & Animals', 'Sports', 'Nonprofits & Activism', 'News & Politics', 'Music', 'Dn6u3SdgGKI', 'People & Blogs', 'Entertainment', 'Music', 'Entertainment', 'Gaming', 'Gaming', 'Science & Technology', 'Entertainment', 'Music', 'People & Blogs', 'Film & Animation', 'Music', 'Comedy', 'Howto & Style', 'People & Blogs', 'Autos & Vehicles', 'Sports', 'Education', 'Music', 'Science & Technology', 'News & Politics', 'Entertainment', 'News & Politics', 'News & Politics', 'News & Politics', 'News & Politics', 'News & Politics', 'News & Politics', 'Science & Technology', 'News & Politics', 'News & Politics', 'News & Politics'], ['Pets & Animals', 'Sports', 'People & Blogs', 'Entertainment', 'Howto & Style', 'Music', 'Nonprofits & Activism', 'Comedy', 'People & Blogs', 'Entertainment', 'Music', 'Music', 'Entertainment', 'Gaming', 'Gaming', 'Science & Technology', 'Entertainment', 'Music', 'People & Blogs', 'Film & Animation', 'buzsasTfC4s', 'Autos & Vehicles', 'Music', 'News & Politics', 'Music', 'Science & Technology', 'Music', 'Comedy', 'News & Politics', 'Entertainment', 'News & Politics', 'News & Politics', 'News & Politics', 'News & Politics', 'News & Politics', 'News & Politics', 'Science & Technology', 'News & Politics', 'News & Politics', 'News & Politics'], ['Entertainment', 'Pets & Animals', 'Entertainment', 'Music', 'Pets & Animals', 'vP9rcviIev4', 'Comedy', 'Education', 'Gaming', 'People & Blogs', 'Entertainment', 'Music', 'Entertainment', 'Gaming', 'Gaming', 'Science & Technology', 'Entertainment', 'Music', 'People & Blogs', 'Film & Animation', 'Nonprofits & Activism', 'People & Blogs', 'Autos & Vehicles', 'Howto & Style', 'Music', 'Entertainment', 'Film & Animation', 'Education', 'News & Politics', 'Entertainment', 'News & Politics', 'News & Politics', 'News & Politics', 'News & Politics', 'News & Politics', 'News & Politics', 'Science & Technology', 'News & Politics', 'News & Politics', 'News & Politics'], ['Entertainment', 'People & Blogs', 'Comedy', 'Comedy', 'Music', 'Nonprofits & Activism', 'Autos & Vehicles', 'Dn6u3SdgGKI', 'People & Blogs', 'Entertainment', 'Music', 'Music', 'Entertainment', 'Gaming', 'Gaming', 'Science & Technology', 'Entertainment', 'Music', 'People & Blogs', 'Film & Animation', 'People & Blogs', 'Entertainment', 'Education', 'Pets & Animals', 'Music', 'Sports', 'Music', 'Film & Animation', 'News & Politics', 'Entertainment', 'News & Politics', 'News & Politics', 'News & Politics', 'News & Politics', 'News & Politics', 'News & Politics', 'Science & Technology', 'News & Politics', 'News & Politics', 'News & Politics'], ['Pets & Animals', 'Music', 'Howto & Style', 'Nonprofits & Activism', 'People & Blogs', 'jzn045EtcQc', 'News & Politics', 'Music', 'Entertainment', 'People & Blogs', 'Music', 'Music', 'Entertainment', 'Gaming', 'Gaming', 'Science & Technology', 'Entertainment', 'Music', 'People & Blogs', 'Film & Animation', 'People & Blogs', 'Autos & Vehicles', 'Music', 'Howto & Style', 'Pets & Animals', 'Education', 'Music', 'Entertainment', 'News & Politics', 'Entertainment', 'News & Politics', 'News & Politics', 'News & Politics', 'News & Politics', 'News & Politics', 'News & Politics', 'Science & Technology', 'News & Politics', 'News & Politics', 'News & Politics'], ['Pets & Animals', 'Music', 'News & Politics', 'Entertainment', 'Entertainment', 'Nonprofits & Activism', 'Autos & Vehicles', 'Howto & Style', 'People & Blogs', 'Entertainment', 'Music', 'Music', 'Entertainment', 'Gaming', 'Gaming', 'Science & Technology', 'Entertainment', 'Music', 'People & Blogs', 'Film & Animation', 'Music', 'EyML24G1P_Q', 'Education', 'Pets & Animals', 'Gaming', 'People & Blogs', 'Education', 'Film & Animation', 'News & Politics', 'Entertainment', 'News & Politics', 'News & Politics', 'News & Politics', 'News & Politics', 'News & Politics', 'News & Politics', 'Science & Technology', 'News & Politics', 'News & Politics', 'News & Politics'], ['Pets & Animals', 'Entertainment', 'People & Blogs', 'Gaming', 'Music', 'TyX0twnnyHA', 'Nonprofits & Activism', 'Autos & Vehicles', 'People & Blogs', 'Entertainment', 'Music', 'Entertainment', 'Gaming', 'Gaming', 'Science & Technology', 'Entertainment', 'Music', 'People & Blogs', 'Film & Animation', 'Music', 'Music', 'Howto & Style', 'People & Blogs', 'Film & Animation', 'Education', 'Entertainment', 'People & Blogs', 'Music', 'News & Politics', 'Entertainment', 'News & Politics', 'News & Politics', 'News & Politics', 'News & Politics', 'News & Politics', 'News & Politics', 'Science & Technology', 'News & Politics', 'News & Politics', 'News & Politics'], ['Music', 'Nonprofits & Activism', 'Autos & Vehicles', 'Pets & Animals', 'People & Blogs', 'Music', 'a67ldOixq3U', 'Film & Animation', 'People & Blogs', 'Entertainment', 'Entertainment', 'Gaming', 'Gaming', 'Science & Technology', 'Entertainment', 'Music', 'People & Blogs', 'Film & Animation', 'Music', 'Howto & Style', 'Sports', 'Music', 'Howto & Style', 'People & Blogs', 'Music', 'Film & Animation', 'Gaming', 'Pets & Animals', 'News & Politics', 'Entertainment', 'News & Politics', 'News & Politics', 'News & Politics', 'News & Politics', 'News & Politics', 'News & Politics', 'Science & Technology', 'News & Politics', 'News & Politics', 'News & Politics'], ['Music', 'dK72pPa_gSE', 'Education', 'Music', 'Pets & Animals', 'Autos & Vehicles', 'Music', 'Music', 'People & Blogs', 'Entertainment', 'Entertainment', 'Gaming', 'Gaming', 'Science & Technology', 'Entertainment', 'Music', 'People & Blogs', 'Film & Animation', 'Music', 'Howto & Style', 'People & Blogs', 'Howto & Style', 'People & Blogs', 'Music', 'Education', 'Education', 'Sports', 'Film & Animation', 'News & Politics', 'Entertainment', 'News & Politics', 'News & Politics', 'News & Politics', 'News & Politics', 'News & Politics', 'News & Politics', 'Science & Technology', 'News & Politics', 'News & Politics', 'News & Politics'], ['Pets & Animals', '1JYjcwW9MmM', 'Music', 'Film & Animation', 'Music', 'Howto & Style', 'Autos & Vehicles', 'Music', 'People & Blogs', 'Entertainment', 'Entertainment', 'Gaming', 'Gaming', 'Science & Technology', 'Entertainment', 'Music', 'People & Blogs', 'Film & Animation', 'Music', 'Howto & Style', 'Pets & Animals', 'Sports', 'People & Blogs', 'Education', 'Gaming', 'Entertainment', 'Sports', 'Film & Animation', 'News & Politics', 'Entertainment', 'News & Politics', 'News & Politics', 'News & Politics', 'News & Politics', 'News & Politics', 'News & Politics', 'Science & Technology', 'News & Politics', 'News & Politics', 'News & Politics'], ['Pets & Animals', 'lL0Awp-uah4', 'Music', 'People & Blogs', 'People & Blogs', 'Music', 'Howto & Style', 'Music', 'People & Blogs', 'Entertainment', 'Entertainment', 'Gaming', 'Gaming', 'Science & Technology', 'Entertainment', 'Music', 'People & Blogs', 'Film & Animation', 'Music', 'Howto & Style', 'Autos & Vehicles', 'Pets & Animals', 'Sports', 'Education', 'Film & Animation', 'Sports', 'News & Politics', 'Gaming', 'News & Politics', 'Entertainment', 'News & Politics', 'News & Politics', 'News & Politics', 'News & Politics', 'News & Politics', 'News & Politics', 'Science & Technology', 'News & Politics', 'News & Politics', 'News & Politics'], ['Pets & Animals', 'n068fel-W9I', 'Education', 'Film & Animation', 'Music', 'Film & Animation', 'Music', 'Howto & Style', 'People & Blogs', 'Entertainment', 'Entertainment', 'Gaming', 'Gaming', 'Science & Technology', 'Entertainment', 'Music', 'People & Blogs', 'Film & Animation', 'Music', 'Howto & Style', 'Pets & Animals', 'Sports', 'Pets & Animals', 'People & Blogs', 'Autos & Vehicles', 'Entertainment', 'Music', 'Film & Animation', 'News & Politics', 'Entertainment', 'News & Politics', 'News & Politics', 'News & Politics', 'News & Politics', 'News & Politics', 'News & Politics', 'Science & Technology', 'News & Politics', 'News & Politics', 'News & Politics'], ['Music', 'Pets & Animals', 'Film & Animation', 'Music', 'Howto & Style', 'Pets & Animals', 'People & Blogs', 'People & Blogs', 'Entertainment', 'People & Blogs', 'Entertainment', 'Gaming', 'Gaming', 'Science & Technology', 'Entertainment', 'Music', 'People & Blogs', 'Film & Animation', 'Music', 'Howto & Style', 'Education', 'Entertainment', 'Music', 'Education', 'People & Blogs', 'Comedy', 'Gaming', 'People & Blogs', 'News & Politics', 'Entertainment', 'News & Politics', 'News & Politics', 'News & Politics', 'News & Politics', 'News & Politics', 'News & Politics', 'Science & Technology', 'News & Politics', 'News & Politics', 'News & Politics', 'People & Blogs', 'Education', 'Music']]\n"
          ]
        }
      ]
    },
    {
      "cell_type": "code",
      "metadata": {
        "id": "Z2miirKpTC2T"
      },
      "source": [
        "with open('video_ids_rl_final_new2_cate_test4.json', 'r') as f:\n",
        "    \n",
        "    read_item1=json.load(f)"
      ],
      "execution_count": null,
      "outputs": []
    },
    {
      "cell_type": "code",
      "metadata": {
        "colab": {
          "base_uri": "https://localhost:8080/"
        },
        "id": "6gKgiBV-UQfv",
        "outputId": "4eaeb25f-3e9d-4546-9b84-1e05a39cfd21"
      },
      "source": [
        "print(read_item1['--1uHerc2Ns'])"
      ],
      "execution_count": null,
      "outputs": [
        {
          "output_type": "stream",
          "name": "stdout",
          "text": [
            "30171\n"
          ]
        }
      ]
    },
    {
      "cell_type": "code",
      "metadata": {
        "id": "6-oPvfxaUTmk"
      },
      "source": [
        "for keys in unobfuscated_videos_raw.keys():\n",
        "  for i in range(len(unobfuscated_videos_raw[keys])):\n",
        "    code=unobfuscated_videos_raw[keys][i]\n",
        "    ID=read_item1[code]\n",
        "    unobfuscated_videos_raw[keys][i]=ID"
      ],
      "execution_count": null,
      "outputs": []
    },
    {
      "cell_type": "code",
      "metadata": {
        "id": "2yDVm4Utpe3G"
      },
      "source": [
        "for keys in obfuscated_videos_raw.keys():\n",
        "  for i in range(len(obfuscated_videos_raw[keys])):\n",
        "    code=obfuscated_videos_raw[keys][i]\n",
        "    ID=read_item1[code]\n",
        "    obfuscated_videos_raw[keys][i]=ID"
      ],
      "execution_count": null,
      "outputs": []
    },
    {
      "cell_type": "code",
      "metadata": {
        "colab": {
          "base_uri": "https://localhost:8080/"
        },
        "id": "OHumYBf1qnDO",
        "outputId": "e6633c75-43fc-49f1-a60e-457fbf2a324d"
      },
      "source": [
        "print(unobfuscated_videos_raw['base_89'])\n",
        "print(obfuscated_videos_raw['obfu_89'])"
      ],
      "execution_count": null,
      "outputs": [
        {
          "output_type": "stream",
          "name": "stdout",
          "text": [
            "[7157, 7158, 7159, 7160, 7161, 6902, 5550, 7162, 7163, 7164, 7165, 7166, 7167, 7168, 7169, 7170, 7171, 7172, 7173, 7174, 7175, 7176, 7177, 7178, 7179, 7180, 7181, 7182, 7183, 7184, 4777, 7185, 7186, 7187, 7188, 7165, 7189, 7190, 7191, 7192]\n",
            "[7157, 7158, 7159, 7160, 7161, 6902, 5550, 7162, 7163, 7164, 43698, 7165, 7166, 7167, 7168, 7169, 55074, 7170, 7171, 7172, 7173, 7174, 40032, 7175, 7176, 7177, 56450, 7178, 7179, 7180, 7181, 7182, 7183, 7184, 4777, 7185, 7186, 7187, 7188, 7165, 37288, 59876, 7189, 7190, 7191, 49276, 7192]\n"
          ]
        }
      ]
    },
    {
      "cell_type": "code",
      "metadata": {
        "id": "_gVnEqAuq8lp"
      },
      "source": [
        "with h5py.File('video_embeddings_rl_final_new2_cate_test4.hdf5', 'r') as f:\n",
        "  emb=f['embeddings']\n",
        "  for keys in unobfuscated_videos_raw.keys():\n",
        "    for i in range(len(unobfuscated_videos_raw[keys])):\n",
        "      code=unobfuscated_videos_raw[keys][i]\n",
        "      embed=emb[code]\n",
        "      unobfuscated_videos_raw[keys][i]=embed  \n",
        "      \n",
        "  for keys in obfuscated_videos_raw.keys():\n",
        "    for i in range(len(obfuscated_videos_raw[keys])):\n",
        "      code=obfuscated_videos_raw[keys][i]\n",
        "      embed=emb[code]\n",
        "      obfuscated_videos_raw[keys][i]=embed   "
      ],
      "execution_count": null,
      "outputs": []
    },
    {
      "cell_type": "code",
      "metadata": {
        "colab": {
          "base_uri": "https://localhost:8080/"
        },
        "id": "ROWGiJffzTkR",
        "outputId": "7e581109-8eac-4192-b876-47f46295dbd8"
      },
      "source": [
        "print(len(unobfuscated_videos_raw.keys()))"
      ],
      "execution_count": null,
      "outputs": [
        {
          "output_type": "stream",
          "name": "stdout",
          "text": [
            "1499\n"
          ]
        }
      ]
    },
    {
      "cell_type": "code",
      "metadata": {
        "id": "8nitwUdFuLWV"
      },
      "source": [
        "lst=[]\n",
        "for keys in unobfuscated_videos_raw.keys():\n",
        "  lst.append(unobfuscated_videos_raw[keys])"
      ],
      "execution_count": null,
      "outputs": []
    },
    {
      "cell_type": "code",
      "metadata": {
        "colab": {
          "base_uri": "https://localhost:8080/"
        },
        "id": "ECxNd5zw2YBm",
        "outputId": "f1ac6e7d-718d-41c9-c073-df7f034dd928"
      },
      "source": [
        "count=0\n",
        "\n",
        "zero=np.zeros(384)\n",
        "\n",
        "print(zero.shape)\n",
        "\n",
        "\n",
        "for i in range(len(lst)):\n",
        "  if len(lst[i]) != 40:\n",
        "   while True:\n",
        "      lst[i].append(zero)\n",
        "      if len(lst[i]) == 40:\n",
        "        break\n",
        "    \n"
      ],
      "execution_count": null,
      "outputs": [
        {
          "output_type": "stream",
          "name": "stdout",
          "text": [
            "(384,)\n"
          ]
        }
      ]
    },
    {
      "cell_type": "code",
      "metadata": {
        "id": "i1UnrrHa1yqL"
      },
      "source": [
        "I = np.array(lst)"
      ],
      "execution_count": null,
      "outputs": []
    },
    {
      "cell_type": "code",
      "metadata": {
        "colab": {
          "base_uri": "https://localhost:8080/"
        },
        "id": "paLNQ-_G1-RY",
        "outputId": "8ffabfd7-a845-446d-d36f-b2843a2d2dbf"
      },
      "source": [
        "print(I.shape)"
      ],
      "execution_count": null,
      "outputs": [
        {
          "output_type": "stream",
          "name": "stdout",
          "text": [
            "(1499, 40, 384)\n"
          ]
        }
      ]
    },
    {
      "cell_type": "code",
      "metadata": {
        "id": "K4W3HlxT2EQN"
      },
      "source": [
        "lst1=[]\n",
        "for keys in obfuscated_videos_raw.keys():\n",
        "  lst1.append(obfuscated_videos_raw[keys])"
      ],
      "execution_count": null,
      "outputs": []
    },
    {
      "cell_type": "code",
      "metadata": {
        "id": "-orY7qFt5VE5"
      },
      "source": [
        "for i in range(len(lst1)):\n",
        "  if len(lst1[i]) != 50:\n",
        "    while True:\n",
        "      lst1[i].append(zero)\n",
        "      if len(lst1[i]) == 50:\n",
        "        break\n",
        "   \n"
      ],
      "execution_count": null,
      "outputs": []
    },
    {
      "cell_type": "code",
      "metadata": {
        "id": "8gTJuUDm5KIB"
      },
      "source": [
        "Iprime=np.array(lst1)"
      ],
      "execution_count": null,
      "outputs": []
    },
    {
      "cell_type": "code",
      "metadata": {
        "colab": {
          "base_uri": "https://localhost:8080/"
        },
        "id": "OzpJ_9Tq5Ydu",
        "outputId": "7c37b4a7-8246-4f5d-c5ee-7afdb97b4dfb"
      },
      "source": [
        "print(Iprime.shape)"
      ],
      "execution_count": null,
      "outputs": [
        {
          "output_type": "stream",
          "name": "stdout",
          "text": [
            "(1499, 50, 384)\n"
          ]
        }
      ]
    },
    {
      "cell_type": "code",
      "metadata": {
        "colab": {
          "base_uri": "https://localhost:8080/"
        },
        "id": "GMBjc7Rz8iha",
        "outputId": "d97cd60a-449b-445a-f7fb-c764c43eab2e"
      },
      "source": [
        "print(unobfuscated_recommendations_categories['base_4'])"
      ],
      "execution_count": null,
      "outputs": [
        {
          "output_type": "stream",
          "name": "stdout",
          "text": [
            "[['Gaming', 'Sports', 'Education', 'News & Politics', 'Film & Animation', 'News & Politics', 'News & Politics', 'Sports', 'Education', 'Gaming', 'Education', 'Music', 'News & Politics', 'Entertainment', 'News & Politics', 'News & Politics', 'News & Politics', 'News & Politics', 'News & Politics', 'News & Politics', 'Science & Technology', 'News & Politics', 'News & Politics', 'News & Politics', 'News & Politics', 'Pets & Animals', 'Education', 'People & Blogs', 'People & Blogs', 'People & Blogs', 'Entertainment', 'Gaming'], ['Gaming', 'People & Blogs', 'News & Politics', 'Film & Animation', 'Education', 'News & Politics', 'Pets & Animals', 'Sports', 'Education', 'Gaming', 'Film & Animation', 'Music', 'News & Politics', 'Entertainment', 'News & Politics', 'News & Politics', 'News & Politics', 'News & Politics', 'News & Politics', 'News & Politics', 'Science & Technology', 'News & Politics', 'News & Politics', 'News & Politics', 'Education', 'News & Politics', 'People & Blogs', 'Sports', 'News & Politics', 'Education', 'Comedy', 'Film & Animation'], ['Gaming', 'News & Politics', 'People & Blogs', 'Entertainment', 'People & Blogs', 'News & Politics', 'Education', 'Sports', 'News & Politics', 'Gaming', 'Education', 'Education', 'News & Politics', 'Entertainment', 'News & Politics', 'News & Politics', 'News & Politics', 'News & Politics', 'News & Politics', 'News & Politics', 'Science & Technology', 'News & Politics', 'News & Politics', 'News & Politics', 'Film & Animation', 'Entertainment', 'News & Politics', 'Film & Animation', 'Sports', 'Education', 'News & Politics', 'People & Blogs'], ['Gaming', 'News & Politics', 'Sports', 'Pets & Animals', 'Education', 'Film & Animation', 'News & Politics', 'Music', 'Sports', 'Education', 'People & Blogs', 'Gaming', 'News & Politics', 'Entertainment', 'News & Politics', 'News & Politics', 'News & Politics', 'News & Politics', 'News & Politics', 'News & Politics', 'Science & Technology', 'News & Politics', 'News & Politics', 'News & Politics', 'Film & Animation', 'Film & Animation', 'Education', 'News & Politics', 'Education', 'Gaming', 'Sports', 'News & Politics'], ['News & Politics', 'Gaming', 'Sports', 'People & Blogs', 'Music', 'Entertainment', 'Education', 'Sports', 'News & Politics', 'Film & Animation', 'Education', 'Film & Animation', 'News & Politics', 'Entertainment', 'News & Politics', 'News & Politics', 'News & Politics', 'News & Politics', 'News & Politics', 'News & Politics', 'Science & Technology', 'News & Politics', 'News & Politics', 'News & Politics', 'People & Blogs', 'Gaming', 'Education', 'News & Politics', 'Entertainment', 'Sports', 'Education', 'Gaming'], ['Gaming', 'Sports', 'Music', 'News & Politics', 'Film & Animation', 'Education', 'Film & Animation', 'Education', 'Sports', 'News & Politics', 'Film & Animation', 'Education', 'News & Politics', 'Entertainment', 'News & Politics', 'News & Politics', 'News & Politics', 'News & Politics', 'News & Politics', 'News & Politics', 'Science & Technology', 'News & Politics', 'News & Politics', 'News & Politics', 'Gaming', 'Education', 'Entertainment', 'People & Blogs', 'Education', 'People & Blogs', 'News & Politics', 'Education'], ['Gaming', 'Film & Animation', 'Sports', 'Education', 'News & Politics', 'Film & Animation', 'Education', 'Gaming', 'News & Politics', 'Sports', 'Film & Animation', 'Entertainment', 'News & Politics', 'Entertainment', 'News & Politics', 'News & Politics', 'News & Politics', 'News & Politics', 'News & Politics', 'News & Politics', 'Science & Technology', 'News & Politics', 'News & Politics', 'News & Politics', 'Education', 'Music', 'News & Politics', 'People & Blogs', 'People & Blogs', 'Gaming', 'Education', 'News & Politics'], ['Sports', 'Gaming', 'Film & Animation', 'Education', 'News & Politics', 'Entertainment', 'News & Politics', 'Sports', 'Education', 'Film & Animation', 'Entertainment', 'Gaming', 'News & Politics', 'Entertainment', 'News & Politics', 'News & Politics', 'News & Politics', 'News & Politics', 'News & Politics', 'News & Politics', 'Science & Technology', 'News & Politics', 'News & Politics', 'News & Politics', 'Education', 'Entertainment', 'Music', 'Comedy', 'News & Politics', 'Sports', 'People & Blogs', 'Education'], ['Sports', 'Gaming', 'Education', 'Education', 'News & Politics', 'Gaming', 'Film & Animation', 'Sports', 'Entertainment', 'News & Politics', 'Education', 'Education', 'News & Politics', 'Entertainment', 'News & Politics', 'News & Politics', 'News & Politics', 'News & Politics', 'News & Politics', 'News & Politics', 'Science & Technology', 'News & Politics', 'News & Politics', 'News & Politics', 'Music', 'Film & Animation', 'Comedy', 'Gaming', 'Sports', 'Howto & Style', 'News & Politics', 'People & Blogs'], ['News & Politics', 'Gaming', 'Sports', 'Pets & Animals', 'Comedy', 'Entertainment', 'News & Politics', 'Sports', 'Entertainment', 'People & Blogs', 'Film & Animation', 'Education', 'News & Politics', 'Entertainment', 'News & Politics', 'News & Politics', 'News & Politics', 'News & Politics', 'News & Politics', 'News & Politics', 'Science & Technology', 'News & Politics', 'News & Politics', 'News & Politics', 'News & Politics', 'Pets & Animals', 'Education', 'Education', 'People & Blogs', 'Gaming', 'Sports', 'News & Politics'], ['Gaming', 'Sports', 'News & Politics', 'Entertainment', 'News & Politics', 'Pets & Animals', 'Sports', 'News & Politics', 'Comedy', 'People & Blogs', 'Entertainment', 'Howto & Style', 'News & Politics', 'Entertainment', 'News & Politics', 'News & Politics', 'News & Politics', 'News & Politics', 'News & Politics', 'News & Politics', 'Science & Technology', 'News & Politics', 'News & Politics', 'News & Politics', 'Comedy', 'News & Politics', 'Education', 'Gaming', 'Music', 'Sports', 'Entertainment', 'Education'], ['People & Blogs', 'Gaming', 'Pets & Animals', 'News & Politics', 'News & Politics', 'Education', 'Sports', 'Entertainment', 'Education', 'Entertainment', 'Film & Animation', 'Education', 'News & Politics', 'Entertainment', 'News & Politics', 'News & Politics', 'News & Politics', 'News & Politics', 'News & Politics', 'News & Politics', 'Science & Technology', 'News & Politics', 'News & Politics', 'News & Politics', 'Comedy', 'People & Blogs', 'News & Politics', 'Pets & Animals', 'Sports', 'People & Blogs', 'Gaming', 'Howto & Style'], ['Gaming', 'News & Politics', 'Sports', 'Pets & Animals', 'News & Politics', 'Comedy', 'News & Politics', 'Sports', 'People & Blogs', 'Education', 'People & Blogs', 'People & Blogs', 'News & Politics', 'Entertainment', 'News & Politics', 'News & Politics', 'News & Politics', 'News & Politics', 'News & Politics', 'News & Politics', 'Science & Technology', 'News & Politics', 'News & Politics', 'News & Politics', 'News & Politics', 'Howto & Style', 'Pets & Animals', 'News & Politics', 'Gaming', 'Sports', 'Education', 'Sports'], ['People & Blogs', 'Gaming', 'News & Politics', 'News & Politics', 'Comedy', 'Education', 'Sports', 'News & Politics', 'Education', 'Film & Animation', 'Entertainment', 'People & Blogs', 'News & Politics', 'Entertainment', 'News & Politics', 'News & Politics', 'News & Politics', 'News & Politics', 'News & Politics', 'News & Politics', 'Science & Technology', 'News & Politics', 'News & Politics', 'News & Politics', 'Howto & Style', 'Entertainment', 'Sports', 'People & Blogs', 'Education', 'Pets & Animals', 'Comedy', 'Education'], ['People & Blogs', 'Gaming', 'News & Politics', 'Film & Animation', 'Entertainment', 'News & Politics', 'People & Blogs', 'Pets & Animals', 'People & Blogs', 'Sports', 'Education', 'News & Politics', 'News & Politics', 'Entertainment', 'News & Politics', 'News & Politics', 'News & Politics', 'News & Politics', 'News & Politics', 'News & Politics', 'Science & Technology', 'News & Politics', 'News & Politics', 'News & Politics', 'Comedy', 'People & Blogs', 'Entertainment', 'Education', 'Sports', 'News & Politics', 'Howto & Style', 'News & Politics'], ['Sports', 'People & Blogs', 'Gaming', 'News & Politics', 'People & Blogs', 'Entertainment', 'Pets & Animals', 'News & Politics', 'News & Politics', 'Sports', 'Education', 'Comedy', 'News & Politics', 'Entertainment', 'News & Politics', 'News & Politics', 'News & Politics', 'News & Politics', 'News & Politics', 'News & Politics', 'Science & Technology', 'News & Politics', 'News & Politics', 'News & Politics', 'People & Blogs', 'Howto & Style', 'Film & Animation', 'News & Politics', 'Education', 'Sports', 'News & Politics', 'Education'], ['Sports', 'Music', 'Gaming', 'Comedy', 'News & Politics', 'Education', 'Sports', 'People & Blogs', 'Entertainment', 'Comedy', 'People & Blogs', 'Pets & Animals', 'News & Politics', 'Entertainment', 'News & Politics', 'News & Politics', 'News & Politics', 'News & Politics', 'News & Politics', 'News & Politics', 'Science & Technology', 'News & Politics', 'News & Politics', 'News & Politics', 'Entertainment', 'News & Politics', 'Sports', 'Howto & Style', 'Comedy', 'Music', 'Education', 'News & Politics'], ['Sports', 'News & Politics', 'Pets & Animals', 'People & Blogs', 'Entertainment', 'Comedy', 'Sports', 'News & Politics', 'Howto & Style', 'Education', 'Education', 'People & Blogs', 'News & Politics', 'Entertainment', 'News & Politics', 'News & Politics', 'News & Politics', 'News & Politics', 'News & Politics', 'News & Politics', 'Science & Technology', 'News & Politics', 'News & Politics', 'News & Politics', 'Comedy', 'Music', 'Pets & Animals', 'Gaming', 'News & Politics', 'People & Blogs', 'Sports', 'Education'], ['News & Politics', 'Sports', 'Education', 'Entertainment', 'Pets & Animals', 'Gaming', 'Comedy', 'Education', 'Sports', 'People & Blogs', 'Comedy', 'Howto & Style', 'News & Politics', 'Entertainment', 'News & Politics', 'News & Politics', 'News & Politics', 'News & Politics', 'News & Politics', 'News & Politics', 'Science & Technology', 'News & Politics', 'News & Politics', 'News & Politics', 'People & Blogs', 'News & Politics', 'Education', 'People & Blogs', 'Autos & Vehicles', 'Music', 'News & Politics', 'Film & Animation'], ['News & Politics', 'Music', 'Sports', 'Howto & Style', 'Gaming', 'Comedy', 'Education', 'News & Politics', 'Education', 'Comedy', 'Sports', 'Sports', 'News & Politics', 'Entertainment', 'News & Politics', 'News & Politics', 'News & Politics', 'News & Politics', 'News & Politics', 'News & Politics', 'Science & Technology', 'News & Politics', 'News & Politics', 'News & Politics', 'People & Blogs', 'Pets & Animals', 'Entertainment', 'Comedy', 'Education', 'People & Blogs', 'Education', 'News & Politics'], ['News & Politics', 'Comedy', 'Gaming', 'Entertainment', 'People & Blogs', 'Howto & Style', 'Sports', 'Pets & Animals', 'News & Politics', 'Comedy', 'Education', 'People & Blogs', 'News & Politics', 'Entertainment', 'News & Politics', 'News & Politics', 'News & Politics', 'News & Politics', 'News & Politics', 'News & Politics', 'Science & Technology', 'News & Politics', 'News & Politics', 'News & Politics', 'Pets & Animals', 'Comedy', 'Education', 'People & Blogs', 'Education', 'News & Politics', 'Autos & Vehicles', 'Education'], ['News & Politics', 'Comedy', 'Comedy', 'Gaming', 'Pets & Animals', 'Entertainment', 'Education', 'News & Politics', 'Entertainment', 'Sports', 'Education', 'News & Politics', 'News & Politics', 'Entertainment', 'News & Politics', 'News & Politics', 'News & Politics', 'News & Politics', 'News & Politics', 'News & Politics', 'Science & Technology', 'News & Politics', 'News & Politics', 'News & Politics', 'Sports', 'People & Blogs', 'News & Politics', 'Comedy', 'Education', 'People & Blogs', 'Entertainment', 'Sports'], ['People & Blogs', 'People & Blogs', 'Entertainment', 'Education', 'Film & Animation', 'Pets & Animals', 'Comedy', 'Gaming', 'Sports', 'News & Politics', 'News & Politics', 'Film & Animation', 'News & Politics', 'Entertainment', 'News & Politics', 'News & Politics', 'News & Politics', 'News & Politics', 'News & Politics', 'News & Politics', 'Science & Technology', 'News & Politics', 'News & Politics', 'News & Politics', 'Comedy', 'People & Blogs', 'People & Blogs', 'People & Blogs', 'Education', 'Education', 'News & Politics', 'Comedy'], ['Gaming', 'News & Politics', 'Music', 'Education', 'Sports', 'Pets & Animals', 'People & Blogs', 'News & Politics', 'Entertainment', 'Music', 'Education', 'Autos & Vehicles', 'News & Politics', 'Entertainment', 'News & Politics', 'News & Politics', 'News & Politics', 'News & Politics', 'News & Politics', 'News & Politics', 'Science & Technology', 'News & Politics', 'News & Politics', 'News & Politics', 'Film & Animation', 'News & Politics', 'People & Blogs', 'People & Blogs', 'Gaming', 'Education', 'Education', 'News & Politics'], ['Gaming', 'News & Politics', 'Entertainment', 'Sports', 'Pets & Animals', 'People & Blogs', 'Education', 'News & Politics', 'Music', 'News & Politics', 'Comedy', 'Gaming', 'News & Politics', 'Entertainment', 'News & Politics', 'News & Politics', 'News & Politics', 'News & Politics', 'News & Politics', 'News & Politics', 'Science & Technology', 'News & Politics', 'News & Politics', 'News & Politics', 'Education', 'News & Politics', 'People & Blogs', 'Sports', 'Entertainment', 'Comedy', 'Education', 'Autos & Vehicles'], ['News & Politics', 'Sports', 'People & Blogs', 'Pets & Animals', 'Music', 'Gaming', 'News & Politics', 'Comedy', 'Education', 'News & Politics', 'News & Politics', 'Comedy', 'News & Politics', 'Entertainment', 'News & Politics', 'News & Politics', 'News & Politics', 'News & Politics', 'News & Politics', 'News & Politics', 'Science & Technology', 'News & Politics', 'News & Politics', 'News & Politics', 'Sports', 'Film & Animation', 'News & Politics', 'People & Blogs', 'Autos & Vehicles', 'Education', 'Sports', 'Music'], ['Sports', 'Education', 'Pets & Animals', 'People & Blogs', 'News & Politics', 'Gaming', 'People & Blogs', 'News & Politics', 'Comedy', 'Sports', 'People & Blogs', 'Education', 'News & Politics', 'Entertainment', 'News & Politics', 'News & Politics', 'News & Politics', 'News & Politics', 'News & Politics', 'News & Politics', 'Science & Technology', 'News & Politics', 'News & Politics', 'News & Politics', 'Education', 'News & Politics', 'Autos & Vehicles', 'Sports', 'Comedy', 'Education', 'Entertainment', 'People & Blogs'], ['News & Politics', 'Music', 'Pets & Animals', 'People & Blogs', 'News & Politics', 'Gaming', 'People & Blogs', 'Education', 'Entertainment', 'Education', 'Education', 'Sports', 'News & Politics', 'Entertainment', 'News & Politics', 'News & Politics', 'News & Politics', 'News & Politics', 'News & Politics', 'News & Politics', 'Science & Technology', 'News & Politics', 'News & Politics', 'News & Politics', 'Entertainment', 'News & Politics', 'People & Blogs', 'Autos & Vehicles', 'People & Blogs', 'Education', 'News & Politics', 'Sports'], ['Sports', 'Entertainment', 'Gaming', 'Comedy', 'News & Politics', 'News & Politics', 'News & Politics', 'Education', 'People & Blogs', 'Sports', 'Music', 'People & Blogs', 'News & Politics', 'Entertainment', 'News & Politics', 'News & Politics', 'News & Politics', 'News & Politics', 'News & Politics', 'News & Politics', 'Science & Technology', 'News & Politics', 'News & Politics', 'News & Politics', 'Sports', 'Education', 'Autos & Vehicles', 'People & Blogs', 'People & Blogs', 'News & Politics', 'Comedy', 'Gaming'], ['Howto & Style', 'News & Politics', 'Gaming', 'Film & Animation', 'People & Blogs', 'News & Politics', 'Music', 'News & Politics', 'Entertainment', 'Sports', 'People & Blogs', 'Music', 'News & Politics', 'Entertainment', 'News & Politics', 'News & Politics', 'News & Politics', 'News & Politics', 'News & Politics', 'News & Politics', 'Science & Technology', 'News & Politics', 'News & Politics', 'News & Politics', 'Education', 'Comedy', 'Entertainment', 'Sports', 'Entertainment', 'People & Blogs', 'Science & Technology', 'Gaming'], ['Entertainment', 'People & Blogs', 'News & Politics', 'Sports', 'Education', 'Gaming', 'News & Politics', 'People & Blogs', 'Sports', 'News & Politics', 'Entertainment', 'Education', 'News & Politics', 'Entertainment', 'News & Politics', 'News & Politics', 'News & Politics', 'News & Politics', 'News & Politics', 'News & Politics', 'Science & Technology', 'News & Politics', 'News & Politics', 'News & Politics', 'People & Blogs', 'Sports', 'Comedy', 'Science & Technology', 'Entertainment', 'Autos & Vehicles', 'Education', 'Education'], ['News & Politics', 'People & Blogs', 'Music', 'Gaming', 'News & Politics', 'Comedy', 'News & Politics', 'People & Blogs', 'Entertainment', 'Education', 'News & Politics', 'Sports', 'News & Politics', 'Entertainment', 'News & Politics', 'News & Politics', 'News & Politics', 'News & Politics', 'News & Politics', 'News & Politics', 'Science & Technology', 'News & Politics', 'News & Politics', 'News & Politics', 'Music', 'News & Politics', 'Sports', 'Film & Animation', 'Education', 'Education', 'News & Politics', 'People & Blogs'], ['Entertainment', 'Sports', 'Entertainment', 'People & Blogs', 'News & Politics', 'People & Blogs', 'Autos & Vehicles', 'Education', 'Entertainment', 'News & Politics', 'Comedy', 'Film & Animation', 'News & Politics', 'Entertainment', 'News & Politics', 'News & Politics', 'News & Politics', 'News & Politics', 'News & Politics', 'News & Politics', 'Science & Technology', 'News & Politics', 'News & Politics', 'News & Politics', 'Education', 'Sports', 'People & Blogs', 'People & Blogs', 'Entertainment', 'Sports', 'Education', 'Entertainment'], ['Music', 'People & Blogs', 'Comedy', 'People & Blogs', 'News & Politics', 'Education', 'News & Politics', 'Entertainment', 'Entertainment', 'Pets & Animals', 'Sports', 'Education', 'News & Politics', 'Entertainment', 'News & Politics', 'News & Politics', 'News & Politics', 'News & Politics', 'News & Politics', 'News & Politics', 'Science & Technology', 'News & Politics', 'News & Politics', 'News & Politics', 'Film & Animation', 'Education', 'Autos & Vehicles', 'Entertainment', 'Sports', 'People & Blogs', 'Education', 'Science & Technology'], ['Gaming', 'Music', 'Sports', 'People & Blogs', 'Sports', 'Entertainment', 'News & Politics', 'News & Politics', 'People & Blogs', 'Film & Animation', 'Education', 'Sports', 'News & Politics', 'Entertainment', 'News & Politics', 'News & Politics', 'News & Politics', 'News & Politics', 'News & Politics', 'News & Politics', 'Science & Technology', 'News & Politics', 'News & Politics', 'News & Politics', 'Education', 'Autos & Vehicles', 'Film & Animation', 'Entertainment', 'News & Politics', 'Science & Technology', 'Education', 'Comedy'], ['Gaming', 'Sports', 'Education', 'News & Politics', 'Sports', 'People & Blogs', 'People & Blogs', 'Pets & Animals', 'Sports', 'Comedy', 'Education', 'Entertainment', 'News & Politics', 'Entertainment', 'News & Politics', 'News & Politics', 'News & Politics', 'News & Politics', 'News & Politics', 'News & Politics', 'Science & Technology', 'News & Politics', 'News & Politics', 'News & Politics', 'Education', 'Education', 'Film & Animation', 'Education', 'Entertainment', 'Film & Animation', 'News & Politics', 'Science & Technology'], ['News & Politics', 'Education', 'Sports', 'Pets & Animals', 'People & Blogs', 'Entertainment', 'News & Politics', 'Autos & Vehicles', 'Entertainment', 'Film & Animation', 'Comedy', 'Sports', 'News & Politics', 'Entertainment', 'News & Politics', 'News & Politics', 'News & Politics', 'News & Politics', 'News & Politics', 'News & Politics', 'Science & Technology', 'News & Politics', 'News & Politics', 'News & Politics', 'Education', 'Entertainment', 'People & Blogs', 'News & Politics', 'Education', 'News & Politics', 'Comedy', 'Sports'], ['News & Politics', 'Entertainment', 'Sports', 'Pets & Animals', 'Autos & Vehicles', 'Education', 'Sports', 'Music', 'People & Blogs', 'People & Blogs', 'Entertainment', 'Education', 'News & Politics', 'Entertainment', 'News & Politics', 'News & Politics', 'News & Politics', 'News & Politics', 'News & Politics', 'News & Politics', 'Science & Technology', 'News & Politics', 'News & Politics', 'News & Politics', 'Entertainment', 'Comedy', 'Education', 'News & Politics', 'Film & Animation', 'Science & Technology', 'People & Blogs', 'Education'], ['News & Politics', 'Film & Animation', 'Music', 'People & Blogs', 'Entertainment', 'Entertainment', 'Science & Technology', 'Education', 'News & Politics', 'Education', 'Sports', 'Music', 'News & Politics', 'Entertainment', 'News & Politics', 'News & Politics', 'News & Politics', 'News & Politics', 'News & Politics', 'News & Politics', 'Science & Technology', 'News & Politics', 'News & Politics', 'News & Politics', 'Music', 'Education', 'Film & Animation', 'Pets & Animals', 'Autos & Vehicles', 'People & Blogs', 'People & Blogs', 'Education'], ['Education', 'Entertainment', 'Sports', 'Education', 'People & Blogs', 'News & Politics', 'Education', 'Entertainment', 'Sports', 'Science & Technology', 'Education', 'Film & Animation', 'News & Politics', 'Entertainment', 'News & Politics', 'News & Politics', 'News & Politics', 'News & Politics', 'News & Politics', 'News & Politics', 'Science & Technology', 'News & Politics', 'News & Politics', 'News & Politics', 'People & Blogs', 'News & Politics', 'Autos & Vehicles', 'Education', 'Pets & Animals', 'Education', 'Entertainment', 'People & Blogs'], ['Sports', 'News & Politics', 'Entertainment', 'Education', 'Entertainment', 'People & Blogs', 'Education', 'Education', 'Sports', 'Education', 'Education', 'People & Blogs', 'News & Politics', 'Entertainment', 'News & Politics', 'News & Politics', 'News & Politics', 'News & Politics', 'News & Politics', 'News & Politics', 'Science & Technology', 'News & Politics', 'News & Politics', 'News & Politics', 'Autos & Vehicles', 'Education', 'News & Politics', 'Sports', 'People & Blogs', 'News & Politics', 'Education', 'Gaming'], ['Sports', 'People & Blogs', 'Music', 'Entertainment', 'News & Politics', 'Entertainment', 'News & Politics', 'Autos & Vehicles', 'Gaming', 'Education', 'Science & Technology', 'Film & Animation', 'News & Politics', 'Entertainment', 'News & Politics', 'News & Politics', 'News & Politics', 'News & Politics', 'News & Politics', 'News & Politics', 'Science & Technology', 'News & Politics', 'News & Politics', 'News & Politics', 'Sports', 'Education', 'People & Blogs', 'Comedy', 'Education', 'People & Blogs', 'Education', 'Science & Technology'], ['Gaming', 'Education', 'News & Politics', 'Education', 'Sports', 'Entertainment', 'Entertainment', 'Entertainment', 'Pets & Animals', 'Entertainment', 'Entertainment', 'People & Blogs', 'News & Politics', 'Entertainment', 'News & Politics', 'News & Politics', 'News & Politics', 'News & Politics', 'News & Politics', 'News & Politics', 'Science & Technology', 'News & Politics', 'News & Politics', 'News & Politics', 'Entertainment', 'Science & Technology', 'Autos & Vehicles', 'Education', 'People & Blogs', 'Music', 'Education', 'Comedy'], ['People & Blogs', 'People & Blogs', 'Comedy', 'News & Politics', 'News & Politics', 'Sports', 'News & Politics', 'Education', 'People & Blogs', 'Science & Technology', 'Education', 'Comedy', 'News & Politics', 'Entertainment', 'News & Politics', 'News & Politics', 'News & Politics', 'News & Politics', 'News & Politics', 'News & Politics', 'Science & Technology', 'News & Politics', 'News & Politics', 'News & Politics', 'Entertainment', 'Autos & Vehicles', 'People & Blogs', 'Entertainment', 'Music', 'Gaming', 'Sports', 'Film & Animation'], ['Gaming', 'People & Blogs', 'News & Politics', 'Entertainment', 'News & Politics', 'Entertainment', 'Education', 'News & Politics', 'Film & Animation', 'Sports', 'Sports', 'Education', 'News & Politics', 'Entertainment', 'News & Politics', 'News & Politics', 'News & Politics', 'News & Politics', 'News & Politics', 'News & Politics', 'Science & Technology', 'News & Politics', 'News & Politics', 'News & Politics', 'Entertainment', 'Autos & Vehicles', 'Education', 'Comedy', 'Education', 'Science & Technology', 'People & Blogs', 'People & Blogs'], ['Sports', 'Education', 'Entertainment', 'People & Blogs', 'News & Politics', 'Education', 'News & Politics', 'Sports', 'Science & Technology', 'Gaming', 'Music', 'Entertainment', 'News & Politics', 'Entertainment', 'News & Politics', 'News & Politics', 'News & Politics', 'News & Politics', 'News & Politics', 'News & Politics', 'Science & Technology', 'News & Politics', 'News & Politics', 'News & Politics', 'Entertainment', 'Music', 'Entertainment', 'People & Blogs', 'People & Blogs', 'Education', 'Pets & Animals', 'Education'], ['Music', 'Gaming', 'Music', 'News & Politics', 'News & Politics', 'Science & Technology', 'People & Blogs', 'Comedy', 'Music', 'Comedy', 'Entertainment', 'Education', 'News & Politics', 'Entertainment', 'News & Politics', 'News & Politics', 'News & Politics', 'News & Politics', 'News & Politics', 'News & Politics', 'Science & Technology', 'News & Politics', 'News & Politics', 'News & Politics', 'People & Blogs', 'Music', 'Education', 'Entertainment', 'Education', 'Pets & Animals', 'Education', 'Sports'], ['Sports', 'Entertainment', 'News & Politics', 'Education', 'News & Politics', 'Film & Animation', 'Sports', 'People & Blogs', 'Music', 'Entertainment', 'Sports', 'Autos & Vehicles', 'News & Politics', 'Entertainment', 'News & Politics', 'News & Politics', 'News & Politics', 'News & Politics', 'News & Politics', 'News & Politics', 'Science & Technology', 'News & Politics', 'News & Politics', 'News & Politics', 'People & Blogs', 'Education', 'Sports', 'News & Politics', 'Pets & Animals', 'Music', 'Comedy', 'Entertainment'], ['Sports', 'Music', 'News & Politics', 'News & Politics', 'Pets & Animals', 'Entertainment', 'Education', 'Sports', 'News & Politics', 'Education', 'Entertainment', 'People & Blogs', 'News & Politics', 'Entertainment', 'News & Politics', 'News & Politics', 'News & Politics', 'News & Politics', 'News & Politics', 'News & Politics', 'Science & Technology', 'News & Politics', 'News & Politics', 'News & Politics', 'Education', 'Film & Animation', 'Music', 'Autos & Vehicles', 'Education', 'Comedy', 'Entertainment', 'People & Blogs'], ['Gaming', 'Sports', 'Entertainment', 'People & Blogs', 'Education', 'Music', 'People & Blogs', 'Comedy', 'Science & Technology', 'Pets & Animals', 'People & Blogs', 'News & Politics', 'News & Politics', 'Entertainment', 'News & Politics', 'News & Politics', 'News & Politics', 'News & Politics', 'News & Politics', 'News & Politics', 'Science & Technology', 'News & Politics', 'News & Politics', 'News & Politics', 'Autos & Vehicles', 'People & Blogs', 'News & Politics', 'People & Blogs', 'Education', 'News & Politics', 'Comedy', 'Education']]\n"
          ]
        }
      ]
    },
    {
      "cell_type": "code",
      "metadata": {
        "id": "aIdDXfqPYUmm"
      },
      "source": [
        "count_cat=np.zeros(15)"
      ],
      "execution_count": null,
      "outputs": []
    },
    {
      "cell_type": "code",
      "metadata": {
        "colab": {
          "base_uri": "https://localhost:8080/"
        },
        "id": "BFhN-v2xgyUL",
        "outputId": "512b40da-44a7-42ee-b747-403c930228e3"
      },
      "source": [
        "len(unobfuscated_recommendations_categories['base_0'])"
      ],
      "execution_count": null,
      "outputs": [
        {
          "output_type": "execute_result",
          "data": {
            "text/plain": [
              "50"
            ]
          },
          "metadata": {},
          "execution_count": 38
        }
      ]
    },
    {
      "cell_type": "code",
      "metadata": {
        "id": "uVDgO-0pQ8Xa"
      },
      "source": [
        "for key in unobfuscated_recommendations_categories.keys():\n",
        "  count_cat=np.zeros(15)\n",
        "  for i in range (len(unobfuscated_recommendations_categories[key])):\n",
        "    for j in range(len(unobfuscated_recommendations_categories[key][i])):\n",
        "      if unobfuscated_recommendations_categories[key][i][j] == \"Film & Animation\":\n",
        "        count_cat[0]=count_cat[0]+1\n",
        "      if unobfuscated_recommendations_categories[key][i][j] == \"Music\":\n",
        "        count_cat[1]=count_cat[1]+1\n",
        "      if unobfuscated_recommendations_categories[key][i][j] == \"Autos & Vehicles\":\n",
        "        count_cat[2]=count_cat[2]+1\n",
        "      if unobfuscated_recommendations_categories[key][i][j] == \"Travel & Events\":\n",
        "        count_cat[3]=count_cat[3]+1\n",
        "      if unobfuscated_recommendations_categories[key][i][j] == \"Pets & Animals\":\n",
        "        count_cat[4]=count_cat[4]+1\n",
        "      if unobfuscated_recommendations_categories[key][i][j] == \"Sports\":\n",
        "        count_cat[5]=count_cat[5]+1\n",
        "      if unobfuscated_recommendations_categories[key][i][j] == \"People & Blogs\":\n",
        "        count_cat[6]=count_cat[6]+1\n",
        "      if unobfuscated_recommendations_categories[key][i][j] == \"Gaming\":\n",
        "        count_cat[7]=count_cat[7]+1\n",
        "      if unobfuscated_recommendations_categories[key][i][j] == \"Comedy\":\n",
        "        count_cat[8]=count_cat[8]+1\n",
        "      if unobfuscated_recommendations_categories[key][i][j] == \"Entertainment\":\n",
        "        count_cat[9]=count_cat[9]+1\n",
        "      if unobfuscated_recommendations_categories[key][i][j] == \"How-To & Style\":\n",
        "        count_cat[10]=count_cat[10]+1  \n",
        "      if unobfuscated_recommendations_categories[key][i][j] == \"News & Politics\":\n",
        "        count_cat[11]=count_cat[11]+1\n",
        "      if unobfuscated_recommendations_categories[key][i][j] == \"Nonprofits & Activism\":\n",
        "        count_cat[12]=count_cat[12]+1\n",
        "      if unobfuscated_recommendations_categories[key][i][j] == \"Education\":\n",
        "        count_cat[13]=count_cat[13]+1\n",
        "      if unobfuscated_recommendations_categories[key][i][j] == \"Science & Technology\":\n",
        "        count_cat[14]=count_cat[14]+1\n",
        "  sum = np.sum(count_cat)\n",
        "  count_cat_norm=count_cat/sum\n",
        "  unobfuscated_recommendations_categories[key]=count_cat_norm"
      ],
      "execution_count": null,
      "outputs": []
    },
    {
      "cell_type": "code",
      "metadata": {
        "colab": {
          "base_uri": "https://localhost:8080/"
        },
        "id": "5NZlHo6xhTaH",
        "outputId": "267e83c4-c034-4cb9-e4b4-5f2fe96dc960"
      },
      "source": [
        "print(np.sum(count_cat_norm))"
      ],
      "execution_count": null,
      "outputs": [
        {
          "output_type": "stream",
          "name": "stdout",
          "text": [
            "0.9999999999999999\n"
          ]
        }
      ]
    },
    {
      "cell_type": "code",
      "metadata": {
        "colab": {
          "base_uri": "https://localhost:8080/"
        },
        "id": "PrsizOxBhYxl",
        "outputId": "9ee56dcb-9044-4fb9-a9b5-eefc6a3af950"
      },
      "source": [
        "print(unobfuscated_recommendations_categories['base_1200'])"
      ],
      "execution_count": null,
      "outputs": [
        {
          "output_type": "stream",
          "name": "stdout",
          "text": [
            "[0.01460886 0.22808671 0.00047125 0.00801131 0.05089538 0.02591894\n",
            " 0.07492931 0.04901037 0.0598492  0.14844486 0.         0.26343073\n",
            " 0.00094251 0.066918   0.00848256]\n"
          ]
        }
      ]
    },
    {
      "cell_type": "code",
      "metadata": {
        "id": "rA8qTdqkimVw"
      },
      "source": [
        "for key in obfuscated_recommendations_categories.keys():\n",
        "  count_cat=np.zeros(15)\n",
        "  for i in range (len(obfuscated_recommendations_categories[key])):\n",
        "    for j in range(len(obfuscated_recommendations_categories[key][i])):\n",
        "      if obfuscated_recommendations_categories[key][i][j] == \"Film & Animation\":\n",
        "        count_cat[0]=count_cat[0]+1\n",
        "      if obfuscated_recommendations_categories[key][i][j] == \"Music\":\n",
        "        count_cat[1]=count_cat[1]+1\n",
        "      if obfuscated_recommendations_categories[key][i][j] == \"Autos & Vehicles\":\n",
        "        count_cat[2]=count_cat[2]+1\n",
        "      if obfuscated_recommendations_categories[key][i][j] == \"Travel & Events\":\n",
        "        count_cat[3]=count_cat[3]+1\n",
        "      if obfuscated_recommendations_categories[key][i][j] == \"Pets & Animals\":\n",
        "        count_cat[4]=count_cat[4]+1\n",
        "      if obfuscated_recommendations_categories[key][i][j] == \"Sports\":\n",
        "        count_cat[5]=count_cat[5]+1\n",
        "      if obfuscated_recommendations_categories[key][i][j] == \"People & Blogs\":\n",
        "        count_cat[6]=count_cat[6]+1\n",
        "      if obfuscated_recommendations_categories[key][i][j] == \"Gaming\":\n",
        "        count_cat[7]=count_cat[7]+1\n",
        "      if obfuscated_recommendations_categories[key][i][j] == \"Comedy\":\n",
        "        count_cat[8]=count_cat[8]+1\n",
        "      if obfuscated_recommendations_categories[key][i][j] == \"Entertainment\":\n",
        "        count_cat[9]=count_cat[9]+1\n",
        "      if obfuscated_recommendations_categories[key][i][j] == \"How-To & Style\":\n",
        "        count_cat[10]=count_cat[10]+1  \n",
        "      if obfuscated_recommendations_categories[key][i][j] == \"News & Politics\":\n",
        "        count_cat[11]=count_cat[11]+1\n",
        "      if obfuscated_recommendations_categories[key][i][j] == \"Nonprofits & Activism\":\n",
        "        count_cat[12]=count_cat[12]+1\n",
        "      if obfuscated_recommendations_categories[key][i][j] == \"Education\":\n",
        "        count_cat[13]=count_cat[13]+1\n",
        "      if obfuscated_recommendations_categories[key][i][j] == \"Science & Technology\":\n",
        "        count_cat[14]=count_cat[14]+1\n",
        "  sum = np.sum(count_cat)\n",
        "  count_cat_norm=count_cat/sum\n",
        "  obfuscated_recommendations_categories[key]=count_cat_norm"
      ],
      "execution_count": null,
      "outputs": []
    },
    {
      "cell_type": "code",
      "metadata": {
        "colab": {
          "base_uri": "https://localhost:8080/"
        },
        "id": "WqNyOM1Zj0GF",
        "outputId": "63326f35-ee0f-45b2-845c-a5a83e4026fd"
      },
      "source": [
        "print(np.sum(obfuscated_recommendations_categories['obfu_1497']))"
      ],
      "execution_count": null,
      "outputs": [
        {
          "output_type": "stream",
          "name": "stdout",
          "text": [
            "1.0000000000000002\n"
          ]
        }
      ]
    },
    {
      "cell_type": "code",
      "metadata": {
        "id": "55Q_ztEEnYoP"
      },
      "source": [
        ""
      ],
      "execution_count": null,
      "outputs": []
    },
    {
      "cell_type": "code",
      "metadata": {
        "id": "rC56BjCdj9Go"
      },
      "source": [
        "llist=[]\n",
        "\n",
        "for key in unobfuscated_recommendations_categories.keys():\n",
        "  llist.append(unobfuscated_recommendations_categories[key])\n"
      ],
      "execution_count": null,
      "outputs": []
    },
    {
      "cell_type": "code",
      "metadata": {
        "id": "RMa7tthPnoP9"
      },
      "source": [
        "O = np.array(llist)"
      ],
      "execution_count": null,
      "outputs": []
    },
    {
      "cell_type": "code",
      "metadata": {
        "colab": {
          "base_uri": "https://localhost:8080/"
        },
        "id": "Hwe299e8n3U8",
        "outputId": "e5ebd75f-8ac1-4d2c-e59c-63b5ca559631"
      },
      "source": [
        "print(O.shape)"
      ],
      "execution_count": null,
      "outputs": [
        {
          "output_type": "stream",
          "name": "stdout",
          "text": [
            "(1499, 15)\n"
          ]
        }
      ]
    },
    {
      "cell_type": "code",
      "metadata": {
        "id": "AmmvD_GWn7vp"
      },
      "source": [
        "llist1=[]\n",
        "\n",
        "for key in obfuscated_recommendations_categories.keys():\n",
        "  llist1.append(obfuscated_recommendations_categories[key])"
      ],
      "execution_count": null,
      "outputs": []
    },
    {
      "cell_type": "code",
      "metadata": {
        "id": "E9IT9PdtoE30"
      },
      "source": [
        "Oprime = np.array(llist1)"
      ],
      "execution_count": null,
      "outputs": []
    },
    {
      "cell_type": "code",
      "metadata": {
        "colab": {
          "base_uri": "https://localhost:8080/"
        },
        "id": "FNZ5BjiBoJnm",
        "outputId": "fb9d9f1e-961a-40a8-fb9e-5ae93f6db81f"
      },
      "source": [
        "print(Oprime.shape)"
      ],
      "execution_count": null,
      "outputs": [
        {
          "output_type": "stream",
          "name": "stdout",
          "text": [
            "(1499, 15)\n"
          ]
        }
      ]
    },
    {
      "cell_type": "code",
      "metadata": {
        "id": "7nNwV4ntoOQl"
      },
      "source": [
        "I_train, I_test, Iprime_train, Iprime_test, O_train, O_test, Oprime_train, Oprime_test = train_test_split(I, Iprime, O, Oprime, test_size=0.2, random_state=42)"
      ],
      "execution_count": null,
      "outputs": []
    },
    {
      "cell_type": "code",
      "metadata": {
        "colab": {
          "base_uri": "https://localhost:8080/"
        },
        "id": "586fcgvfo2RV",
        "outputId": "a9283767-4b38-4414-da8e-ba9438e85d5f"
      },
      "source": [
        "print(I_train.shape)\n",
        "print(Iprime_train.shape)"
      ],
      "execution_count": null,
      "outputs": [
        {
          "output_type": "stream",
          "name": "stdout",
          "text": [
            "(1199, 40, 384)\n",
            "(1199, 50, 384)\n"
          ]
        }
      ]
    },
    {
      "cell_type": "code",
      "metadata": {
        "id": "VX-6boiMo--_"
      },
      "source": [
        "I_test = np.expand_dims(I_test, axis=3)\n",
        "Iprime_test= np.expand_dims(Iprime_test, axis=3)"
      ],
      "execution_count": null,
      "outputs": []
    },
    {
      "cell_type": "code",
      "metadata": {
        "colab": {
          "base_uri": "https://localhost:8080/"
        },
        "id": "RhN2QGw6o_5S",
        "outputId": "d80d36b4-b95e-44a4-bdd8-d41bc23cf65c"
      },
      "source": [
        "I_train = np.expand_dims(I_train, axis=3)\n",
        "Iprime_train= np.expand_dims(Iprime_train, axis=3)\n",
        "I_train.shape"
      ],
      "execution_count": null,
      "outputs": [
        {
          "output_type": "execute_result",
          "data": {
            "text/plain": [
              "(1199, 40, 384, 1)"
            ]
          },
          "metadata": {},
          "execution_count": 53
        }
      ]
    },
    {
      "cell_type": "code",
      "metadata": {
        "id": "trVDvov9pC7L"
      },
      "source": [
        "input_I=Input(\n",
        "    shape=(40,384,1), name=\"Input_I\")\n",
        "\n",
        "input_Iprime=Input(\n",
        "    shape=(50,384,1), name=\"Input_Iprime\")\n",
        "\n",
        "input_Oprime=Input(\n",
        "    shape=(15), name=\"Input_Oprime\")"
      ],
      "execution_count": null,
      "outputs": []
    },
    {
      "cell_type": "code",
      "metadata": {
        "id": "MuyuDcwIpZEo"
      },
      "source": [
        "I_CNN_1=Conv2D(1, (3, 3), padding=\"same\", activation= 'relu', name='I_CNN_1', input_shape = (40,384,1))(input_I)\n",
        "Iprime_CNN_1=Conv2D(1, (3, 3), padding=\"same\",activation= 'relu', name='Iprime_CNN_1', input_shape = (50,384,1))(input_Iprime)\n",
        "Oprime_FC_1=Dense(15,activation= 'relu', name='Oprime_FC_1')(input_Oprime)\n",
        "max_pool_I_CNN_1=MaxPooling2D(pool_size=(2,4), padding='valid')(I_CNN_1)\n",
        "max_pool_I_CNN_2=MaxPooling2D(pool_size=(2, 4),  padding='valid')(Iprime_CNN_1)\n"
      ],
      "execution_count": null,
      "outputs": []
    },
    {
      "cell_type": "code",
      "metadata": {
        "id": "tzCeJBBQpotO"
      },
      "source": [
        "concat=concatenate([Flatten()(max_pool_I_CNN_1), Flatten()(max_pool_I_CNN_2), Flatten()(Oprime_FC_1)])"
      ],
      "execution_count": null,
      "outputs": []
    },
    {
      "cell_type": "code",
      "metadata": {
        "id": "hXFbgGdx1cxt"
      },
      "source": [
        "concat=Dropout(0.2)(concat)"
      ],
      "execution_count": null,
      "outputs": []
    },
    {
      "cell_type": "code",
      "metadata": {
        "id": "BOE5uI1apqx1"
      },
      "source": [
        "output_layer=Dense(15, activation= 'softmax', name='Output_layer')(concat)"
      ],
      "execution_count": null,
      "outputs": []
    },
    {
      "cell_type": "code",
      "metadata": {
        "id": "xupxK7C4qJem"
      },
      "source": [
        "model=keras.Model(inputs=[input_I, input_Iprime, input_Oprime], outputs=output_layer)"
      ],
      "execution_count": null,
      "outputs": []
    },
    {
      "cell_type": "code",
      "metadata": {
        "colab": {
          "base_uri": "https://localhost:8080/"
        },
        "id": "ws9EaulnqKVI",
        "outputId": "d98ca8af-eab8-43e1-b2e3-254a587fd7b8"
      },
      "source": [
        "model.summary()"
      ],
      "execution_count": null,
      "outputs": [
        {
          "output_type": "stream",
          "name": "stdout",
          "text": [
            "Model: \"model\"\n",
            "__________________________________________________________________________________________________\n",
            " Layer (type)                   Output Shape         Param #     Connected to                     \n",
            "==================================================================================================\n",
            " Input_I (InputLayer)           [(None, 40, 384, 1)  0           []                               \n",
            "                                ]                                                                 \n",
            "                                                                                                  \n",
            " Input_Iprime (InputLayer)      [(None, 50, 384, 1)  0           []                               \n",
            "                                ]                                                                 \n",
            "                                                                                                  \n",
            " I_CNN_1 (Conv2D)               (None, 40, 384, 1)   10          ['Input_I[0][0]']                \n",
            "                                                                                                  \n",
            " Iprime_CNN_1 (Conv2D)          (None, 50, 384, 1)   10          ['Input_Iprime[0][0]']           \n",
            "                                                                                                  \n",
            " Input_Oprime (InputLayer)      [(None, 15)]         0           []                               \n",
            "                                                                                                  \n",
            " max_pooling2d (MaxPooling2D)   (None, 20, 96, 1)    0           ['I_CNN_1[0][0]']                \n",
            "                                                                                                  \n",
            " max_pooling2d_1 (MaxPooling2D)  (None, 25, 96, 1)   0           ['Iprime_CNN_1[0][0]']           \n",
            "                                                                                                  \n",
            " Oprime_FC_1 (Dense)            (None, 15)           240         ['Input_Oprime[0][0]']           \n",
            "                                                                                                  \n",
            " flatten (Flatten)              (None, 1920)         0           ['max_pooling2d[0][0]']          \n",
            "                                                                                                  \n",
            " flatten_1 (Flatten)            (None, 2400)         0           ['max_pooling2d_1[0][0]']        \n",
            "                                                                                                  \n",
            " flatten_2 (Flatten)            (None, 15)           0           ['Oprime_FC_1[0][0]']            \n",
            "                                                                                                  \n",
            " concatenate (Concatenate)      (None, 4335)         0           ['flatten[0][0]',                \n",
            "                                                                  'flatten_1[0][0]',              \n",
            "                                                                  'flatten_2[0][0]']              \n",
            "                                                                                                  \n",
            " dropout (Dropout)              (None, 4335)         0           ['concatenate[0][0]']            \n",
            "                                                                                                  \n",
            " Output_layer (Dense)           (None, 15)           65040       ['dropout[0][0]']                \n",
            "                                                                                                  \n",
            "==================================================================================================\n",
            "Total params: 65,300\n",
            "Trainable params: 65,300\n",
            "Non-trainable params: 0\n",
            "__________________________________________________________________________________________________\n"
          ]
        }
      ]
    },
    {
      "cell_type": "code",
      "metadata": {
        "id": "5G8yodGSqNFS"
      },
      "source": [
        "model.compile(optimizer='adam', loss= tf.keras.losses.KLDivergence(), metrics=[tf.keras.losses.KLDivergence()])"
      ],
      "execution_count": null,
      "outputs": []
    },
    {
      "cell_type": "code",
      "metadata": {
        "colab": {
          "base_uri": "https://localhost:8080/"
        },
        "id": "Ox2kywD8vBDg",
        "outputId": "3426ba7b-0a8b-474d-f477-b298ff322978"
      },
      "source": [
        "model.fit(\n",
        "    [I_train, Iprime_train, Oprime_train],\n",
        "    [O_train],\n",
        "    batch_size=16,\n",
        "    epochs=300)"
      ],
      "execution_count": null,
      "outputs": [
        {
          "output_type": "stream",
          "name": "stdout",
          "text": [
            "Epoch 1/300\n",
            "75/75 [==============================] - 13s 9ms/step - loss: 0.1695 - kl_divergence: 0.1695\n",
            "Epoch 2/300\n",
            "75/75 [==============================] - 1s 8ms/step - loss: 0.1122 - kl_divergence: 0.1122\n",
            "Epoch 3/300\n",
            "75/75 [==============================] - 1s 8ms/step - loss: 0.0919 - kl_divergence: 0.0919\n",
            "Epoch 4/300\n",
            "75/75 [==============================] - 1s 8ms/step - loss: 0.0795 - kl_divergence: 0.0795\n",
            "Epoch 5/300\n",
            "75/75 [==============================] - 1s 8ms/step - loss: 0.0748 - kl_divergence: 0.0748\n",
            "Epoch 6/300\n",
            "75/75 [==============================] - 1s 8ms/step - loss: 0.0718 - kl_divergence: 0.0718\n",
            "Epoch 7/300\n",
            "75/75 [==============================] - 1s 8ms/step - loss: 0.0684 - kl_divergence: 0.0684\n",
            "Epoch 8/300\n",
            "75/75 [==============================] - 1s 8ms/step - loss: 0.0663 - kl_divergence: 0.0663\n",
            "Epoch 9/300\n",
            "75/75 [==============================] - 1s 8ms/step - loss: 0.0645 - kl_divergence: 0.0645\n",
            "Epoch 10/300\n",
            "75/75 [==============================] - 1s 8ms/step - loss: 0.0634 - kl_divergence: 0.0634\n",
            "Epoch 11/300\n",
            "75/75 [==============================] - 1s 8ms/step - loss: 0.0618 - kl_divergence: 0.0618\n",
            "Epoch 12/300\n",
            "75/75 [==============================] - 1s 8ms/step - loss: 0.0610 - kl_divergence: 0.0610\n",
            "Epoch 13/300\n",
            "75/75 [==============================] - 1s 8ms/step - loss: 0.0596 - kl_divergence: 0.0596\n",
            "Epoch 14/300\n",
            "75/75 [==============================] - 1s 8ms/step - loss: 0.0587 - kl_divergence: 0.0587\n",
            "Epoch 15/300\n",
            "75/75 [==============================] - 1s 8ms/step - loss: 0.0575 - kl_divergence: 0.0575\n",
            "Epoch 16/300\n",
            "75/75 [==============================] - 1s 8ms/step - loss: 0.0575 - kl_divergence: 0.0575\n",
            "Epoch 17/300\n",
            "75/75 [==============================] - 1s 8ms/step - loss: 0.0571 - kl_divergence: 0.0571\n",
            "Epoch 18/300\n",
            "75/75 [==============================] - 1s 8ms/step - loss: 0.0550 - kl_divergence: 0.0550\n",
            "Epoch 19/300\n",
            "75/75 [==============================] - 1s 8ms/step - loss: 0.0544 - kl_divergence: 0.0544\n",
            "Epoch 20/300\n",
            "75/75 [==============================] - 1s 8ms/step - loss: 0.0534 - kl_divergence: 0.0534\n",
            "Epoch 21/300\n",
            "75/75 [==============================] - 1s 8ms/step - loss: 0.0525 - kl_divergence: 0.0525\n",
            "Epoch 22/300\n",
            "75/75 [==============================] - 1s 8ms/step - loss: 0.0532 - kl_divergence: 0.0532\n",
            "Epoch 23/300\n",
            "75/75 [==============================] - 1s 8ms/step - loss: 0.0510 - kl_divergence: 0.0510\n",
            "Epoch 24/300\n",
            "75/75 [==============================] - 1s 8ms/step - loss: 0.0507 - kl_divergence: 0.0507\n",
            "Epoch 25/300\n",
            "75/75 [==============================] - 1s 8ms/step - loss: 0.0499 - kl_divergence: 0.0499\n",
            "Epoch 26/300\n",
            "75/75 [==============================] - 1s 8ms/step - loss: 0.0497 - kl_divergence: 0.0497\n",
            "Epoch 27/300\n",
            "75/75 [==============================] - 1s 8ms/step - loss: 0.0491 - kl_divergence: 0.0491\n",
            "Epoch 28/300\n",
            "75/75 [==============================] - 1s 8ms/step - loss: 0.0483 - kl_divergence: 0.0483\n",
            "Epoch 29/300\n",
            "75/75 [==============================] - 1s 8ms/step - loss: 0.0475 - kl_divergence: 0.0475\n",
            "Epoch 30/300\n",
            "75/75 [==============================] - 1s 8ms/step - loss: 0.0469 - kl_divergence: 0.0469\n",
            "Epoch 31/300\n",
            "75/75 [==============================] - 1s 8ms/step - loss: 0.0466 - kl_divergence: 0.0466\n",
            "Epoch 32/300\n",
            "75/75 [==============================] - 1s 8ms/step - loss: 0.0460 - kl_divergence: 0.0460\n",
            "Epoch 33/300\n",
            "75/75 [==============================] - 1s 8ms/step - loss: 0.0457 - kl_divergence: 0.0457\n",
            "Epoch 34/300\n",
            "75/75 [==============================] - 1s 8ms/step - loss: 0.0450 - kl_divergence: 0.0450\n",
            "Epoch 35/300\n",
            "75/75 [==============================] - 1s 8ms/step - loss: 0.0451 - kl_divergence: 0.0451\n",
            "Epoch 36/300\n",
            "75/75 [==============================] - 1s 8ms/step - loss: 0.0444 - kl_divergence: 0.0445\n",
            "Epoch 37/300\n",
            "75/75 [==============================] - 1s 8ms/step - loss: 0.0443 - kl_divergence: 0.0443\n",
            "Epoch 38/300\n",
            "75/75 [==============================] - 1s 8ms/step - loss: 0.0437 - kl_divergence: 0.0437\n",
            "Epoch 39/300\n",
            "75/75 [==============================] - 1s 8ms/step - loss: 0.0429 - kl_divergence: 0.0429\n",
            "Epoch 40/300\n",
            "75/75 [==============================] - 1s 8ms/step - loss: 0.0432 - kl_divergence: 0.0432\n",
            "Epoch 41/300\n",
            "75/75 [==============================] - 1s 8ms/step - loss: 0.0426 - kl_divergence: 0.0426\n",
            "Epoch 42/300\n",
            "75/75 [==============================] - 1s 8ms/step - loss: 0.0423 - kl_divergence: 0.0423\n",
            "Epoch 43/300\n",
            "75/75 [==============================] - 1s 8ms/step - loss: 0.0416 - kl_divergence: 0.0416\n",
            "Epoch 44/300\n",
            "75/75 [==============================] - 1s 8ms/step - loss: 0.0416 - kl_divergence: 0.0416\n",
            "Epoch 45/300\n",
            "75/75 [==============================] - 1s 8ms/step - loss: 0.0412 - kl_divergence: 0.0412\n",
            "Epoch 46/300\n",
            "75/75 [==============================] - 1s 8ms/step - loss: 0.0407 - kl_divergence: 0.0407\n",
            "Epoch 47/300\n",
            "75/75 [==============================] - 1s 8ms/step - loss: 0.0404 - kl_divergence: 0.0404\n",
            "Epoch 48/300\n",
            "75/75 [==============================] - 1s 8ms/step - loss: 0.0400 - kl_divergence: 0.0400\n",
            "Epoch 49/300\n",
            "75/75 [==============================] - 1s 8ms/step - loss: 0.0403 - kl_divergence: 0.0403\n",
            "Epoch 50/300\n",
            "75/75 [==============================] - 1s 8ms/step - loss: 0.0398 - kl_divergence: 0.0398\n",
            "Epoch 51/300\n",
            "75/75 [==============================] - 1s 8ms/step - loss: 0.0386 - kl_divergence: 0.0386\n",
            "Epoch 52/300\n",
            "75/75 [==============================] - 1s 8ms/step - loss: 0.0385 - kl_divergence: 0.0385\n",
            "Epoch 53/300\n",
            "75/75 [==============================] - 1s 8ms/step - loss: 0.0390 - kl_divergence: 0.0389\n",
            "Epoch 54/300\n",
            "75/75 [==============================] - 1s 8ms/step - loss: 0.0379 - kl_divergence: 0.0379\n",
            "Epoch 55/300\n",
            "75/75 [==============================] - 1s 8ms/step - loss: 0.0387 - kl_divergence: 0.0387\n",
            "Epoch 56/300\n",
            "75/75 [==============================] - 1s 8ms/step - loss: 0.0384 - kl_divergence: 0.0384\n",
            "Epoch 57/300\n",
            "75/75 [==============================] - 1s 8ms/step - loss: 0.0378 - kl_divergence: 0.0378\n",
            "Epoch 58/300\n",
            "75/75 [==============================] - 1s 8ms/step - loss: 0.0378 - kl_divergence: 0.0378\n",
            "Epoch 59/300\n",
            "75/75 [==============================] - 1s 8ms/step - loss: 0.0376 - kl_divergence: 0.0376\n",
            "Epoch 60/300\n",
            "75/75 [==============================] - 1s 8ms/step - loss: 0.0373 - kl_divergence: 0.0374\n",
            "Epoch 61/300\n",
            "75/75 [==============================] - 1s 8ms/step - loss: 0.0379 - kl_divergence: 0.0379\n",
            "Epoch 62/300\n",
            "75/75 [==============================] - 1s 8ms/step - loss: 0.0372 - kl_divergence: 0.0372\n",
            "Epoch 63/300\n",
            "75/75 [==============================] - 1s 8ms/step - loss: 0.0367 - kl_divergence: 0.0367\n",
            "Epoch 64/300\n",
            "75/75 [==============================] - 1s 8ms/step - loss: 0.0365 - kl_divergence: 0.0365\n",
            "Epoch 65/300\n",
            "75/75 [==============================] - 1s 8ms/step - loss: 0.0371 - kl_divergence: 0.0371\n",
            "Epoch 66/300\n",
            "75/75 [==============================] - 1s 8ms/step - loss: 0.0366 - kl_divergence: 0.0366\n",
            "Epoch 67/300\n",
            "75/75 [==============================] - 1s 8ms/step - loss: 0.0361 - kl_divergence: 0.0360\n",
            "Epoch 68/300\n",
            "75/75 [==============================] - 1s 8ms/step - loss: 0.0361 - kl_divergence: 0.0361\n",
            "Epoch 69/300\n",
            "75/75 [==============================] - 1s 8ms/step - loss: 0.0362 - kl_divergence: 0.0362\n",
            "Epoch 70/300\n",
            "75/75 [==============================] - 1s 8ms/step - loss: 0.0357 - kl_divergence: 0.0357\n",
            "Epoch 71/300\n",
            "75/75 [==============================] - 1s 8ms/step - loss: 0.0364 - kl_divergence: 0.0364\n",
            "Epoch 72/300\n",
            "75/75 [==============================] - 1s 8ms/step - loss: 0.0353 - kl_divergence: 0.0353\n",
            "Epoch 73/300\n",
            "75/75 [==============================] - 1s 8ms/step - loss: 0.0364 - kl_divergence: 0.0363\n",
            "Epoch 74/300\n",
            "75/75 [==============================] - 1s 8ms/step - loss: 0.0355 - kl_divergence: 0.0355\n",
            "Epoch 75/300\n",
            "75/75 [==============================] - 1s 8ms/step - loss: 0.0351 - kl_divergence: 0.0351\n",
            "Epoch 76/300\n",
            "75/75 [==============================] - 1s 8ms/step - loss: 0.0355 - kl_divergence: 0.0355\n",
            "Epoch 77/300\n",
            "75/75 [==============================] - 1s 8ms/step - loss: 0.0355 - kl_divergence: 0.0355\n",
            "Epoch 78/300\n",
            "75/75 [==============================] - 1s 8ms/step - loss: 0.0347 - kl_divergence: 0.0347\n",
            "Epoch 79/300\n",
            "75/75 [==============================] - 1s 8ms/step - loss: 0.0339 - kl_divergence: 0.0339\n",
            "Epoch 80/300\n",
            "75/75 [==============================] - 1s 8ms/step - loss: 0.0344 - kl_divergence: 0.0343\n",
            "Epoch 81/300\n",
            "75/75 [==============================] - 1s 8ms/step - loss: 0.0345 - kl_divergence: 0.0344\n",
            "Epoch 82/300\n",
            "75/75 [==============================] - 1s 8ms/step - loss: 0.0344 - kl_divergence: 0.0344\n",
            "Epoch 83/300\n",
            "75/75 [==============================] - 1s 8ms/step - loss: 0.0353 - kl_divergence: 0.0353\n",
            "Epoch 84/300\n",
            "75/75 [==============================] - 1s 8ms/step - loss: 0.0338 - kl_divergence: 0.0339\n",
            "Epoch 85/300\n",
            "75/75 [==============================] - 1s 8ms/step - loss: 0.0353 - kl_divergence: 0.0353\n",
            "Epoch 86/300\n",
            "75/75 [==============================] - 1s 8ms/step - loss: 0.0343 - kl_divergence: 0.0343\n",
            "Epoch 87/300\n",
            "75/75 [==============================] - 1s 8ms/step - loss: 0.0347 - kl_divergence: 0.0347\n",
            "Epoch 88/300\n",
            "75/75 [==============================] - 1s 8ms/step - loss: 0.0339 - kl_divergence: 0.0339\n",
            "Epoch 89/300\n",
            "75/75 [==============================] - 1s 8ms/step - loss: 0.0335 - kl_divergence: 0.0335\n",
            "Epoch 90/300\n",
            "75/75 [==============================] - 1s 8ms/step - loss: 0.0333 - kl_divergence: 0.0333\n",
            "Epoch 91/300\n",
            "75/75 [==============================] - 1s 8ms/step - loss: 0.0331 - kl_divergence: 0.0331\n",
            "Epoch 92/300\n",
            "75/75 [==============================] - 1s 8ms/step - loss: 0.0339 - kl_divergence: 0.0339\n",
            "Epoch 93/300\n",
            "75/75 [==============================] - 1s 8ms/step - loss: 0.0330 - kl_divergence: 0.0330\n",
            "Epoch 94/300\n",
            "75/75 [==============================] - 1s 8ms/step - loss: 0.0331 - kl_divergence: 0.0331\n",
            "Epoch 95/300\n",
            "75/75 [==============================] - 1s 8ms/step - loss: 0.0332 - kl_divergence: 0.0332\n",
            "Epoch 96/300\n",
            "75/75 [==============================] - 1s 8ms/step - loss: 0.0333 - kl_divergence: 0.0333\n",
            "Epoch 97/300\n",
            "75/75 [==============================] - 1s 8ms/step - loss: 0.0324 - kl_divergence: 0.0324\n",
            "Epoch 98/300\n",
            "75/75 [==============================] - 1s 8ms/step - loss: 0.0337 - kl_divergence: 0.0337\n",
            "Epoch 99/300\n",
            "75/75 [==============================] - 1s 8ms/step - loss: 0.0327 - kl_divergence: 0.0327\n",
            "Epoch 100/300\n",
            "75/75 [==============================] - 1s 8ms/step - loss: 0.0325 - kl_divergence: 0.0325\n",
            "Epoch 101/300\n",
            "75/75 [==============================] - 1s 8ms/step - loss: 0.0322 - kl_divergence: 0.0322\n",
            "Epoch 102/300\n",
            "75/75 [==============================] - 1s 8ms/step - loss: 0.0323 - kl_divergence: 0.0323\n",
            "Epoch 103/300\n",
            "75/75 [==============================] - 1s 8ms/step - loss: 0.0322 - kl_divergence: 0.0322\n",
            "Epoch 104/300\n",
            "75/75 [==============================] - 1s 8ms/step - loss: 0.0332 - kl_divergence: 0.0332\n",
            "Epoch 105/300\n",
            "75/75 [==============================] - 1s 8ms/step - loss: 0.0330 - kl_divergence: 0.0330\n",
            "Epoch 106/300\n",
            "75/75 [==============================] - 1s 8ms/step - loss: 0.0323 - kl_divergence: 0.0323\n",
            "Epoch 107/300\n",
            "75/75 [==============================] - 1s 8ms/step - loss: 0.0323 - kl_divergence: 0.0323\n",
            "Epoch 108/300\n",
            "75/75 [==============================] - 1s 8ms/step - loss: 0.0325 - kl_divergence: 0.0325\n",
            "Epoch 109/300\n",
            "75/75 [==============================] - 1s 8ms/step - loss: 0.0330 - kl_divergence: 0.0330\n",
            "Epoch 110/300\n",
            "75/75 [==============================] - 1s 8ms/step - loss: 0.0325 - kl_divergence: 0.0325\n",
            "Epoch 111/300\n",
            "75/75 [==============================] - 1s 8ms/step - loss: 0.0327 - kl_divergence: 0.0327\n",
            "Epoch 112/300\n",
            "75/75 [==============================] - 1s 8ms/step - loss: 0.0321 - kl_divergence: 0.0321\n",
            "Epoch 113/300\n",
            "75/75 [==============================] - 1s 8ms/step - loss: 0.0324 - kl_divergence: 0.0324\n",
            "Epoch 114/300\n",
            "75/75 [==============================] - 1s 8ms/step - loss: 0.0320 - kl_divergence: 0.0320\n",
            "Epoch 115/300\n",
            "75/75 [==============================] - 1s 8ms/step - loss: 0.0316 - kl_divergence: 0.0316\n",
            "Epoch 116/300\n",
            "75/75 [==============================] - 1s 8ms/step - loss: 0.0319 - kl_divergence: 0.0319\n",
            "Epoch 117/300\n",
            "75/75 [==============================] - 1s 8ms/step - loss: 0.0317 - kl_divergence: 0.0317\n",
            "Epoch 118/300\n",
            "75/75 [==============================] - 1s 8ms/step - loss: 0.0319 - kl_divergence: 0.0319\n",
            "Epoch 119/300\n",
            "75/75 [==============================] - 1s 8ms/step - loss: 0.0316 - kl_divergence: 0.0316\n",
            "Epoch 120/300\n",
            "75/75 [==============================] - 1s 8ms/step - loss: 0.0318 - kl_divergence: 0.0318\n",
            "Epoch 121/300\n",
            "75/75 [==============================] - 1s 8ms/step - loss: 0.0316 - kl_divergence: 0.0316\n",
            "Epoch 122/300\n",
            "75/75 [==============================] - 1s 8ms/step - loss: 0.0313 - kl_divergence: 0.0313\n",
            "Epoch 123/300\n",
            "75/75 [==============================] - 1s 8ms/step - loss: 0.0322 - kl_divergence: 0.0322\n",
            "Epoch 124/300\n",
            "75/75 [==============================] - 1s 8ms/step - loss: 0.0316 - kl_divergence: 0.0316\n",
            "Epoch 125/300\n",
            "75/75 [==============================] - 1s 8ms/step - loss: 0.0315 - kl_divergence: 0.0315\n",
            "Epoch 126/300\n",
            "75/75 [==============================] - 1s 9ms/step - loss: 0.0322 - kl_divergence: 0.0322\n",
            "Epoch 127/300\n",
            "75/75 [==============================] - 1s 8ms/step - loss: 0.0317 - kl_divergence: 0.0317\n",
            "Epoch 128/300\n",
            "75/75 [==============================] - 1s 8ms/step - loss: 0.0311 - kl_divergence: 0.0311\n",
            "Epoch 129/300\n",
            "75/75 [==============================] - 1s 8ms/step - loss: 0.0317 - kl_divergence: 0.0317\n",
            "Epoch 130/300\n",
            "75/75 [==============================] - 1s 8ms/step - loss: 0.0312 - kl_divergence: 0.0312\n",
            "Epoch 131/300\n",
            "75/75 [==============================] - 1s 8ms/step - loss: 0.0313 - kl_divergence: 0.0313\n",
            "Epoch 132/300\n",
            "75/75 [==============================] - 1s 8ms/step - loss: 0.0308 - kl_divergence: 0.0308\n",
            "Epoch 133/300\n",
            "75/75 [==============================] - 1s 8ms/step - loss: 0.0315 - kl_divergence: 0.0315\n",
            "Epoch 134/300\n",
            "75/75 [==============================] - 1s 8ms/step - loss: 0.0315 - kl_divergence: 0.0315\n",
            "Epoch 135/300\n",
            "75/75 [==============================] - 1s 8ms/step - loss: 0.0313 - kl_divergence: 0.0313\n",
            "Epoch 136/300\n",
            "75/75 [==============================] - 1s 8ms/step - loss: 0.0308 - kl_divergence: 0.0308\n",
            "Epoch 137/300\n",
            "75/75 [==============================] - 1s 9ms/step - loss: 0.0307 - kl_divergence: 0.0307\n",
            "Epoch 138/300\n",
            "75/75 [==============================] - 1s 8ms/step - loss: 0.0301 - kl_divergence: 0.0301\n",
            "Epoch 139/300\n",
            "75/75 [==============================] - 1s 8ms/step - loss: 0.0305 - kl_divergence: 0.0305\n",
            "Epoch 140/300\n",
            "75/75 [==============================] - 1s 8ms/step - loss: 0.0311 - kl_divergence: 0.0311\n",
            "Epoch 141/300\n",
            "75/75 [==============================] - 1s 8ms/step - loss: 0.0306 - kl_divergence: 0.0306\n",
            "Epoch 142/300\n",
            "75/75 [==============================] - 1s 8ms/step - loss: 0.0313 - kl_divergence: 0.0313\n",
            "Epoch 143/300\n",
            "75/75 [==============================] - 1s 8ms/step - loss: 0.0298 - kl_divergence: 0.0298\n",
            "Epoch 144/300\n",
            "75/75 [==============================] - 1s 8ms/step - loss: 0.0302 - kl_divergence: 0.0302\n",
            "Epoch 145/300\n",
            "75/75 [==============================] - 1s 8ms/step - loss: 0.0307 - kl_divergence: 0.0306\n",
            "Epoch 146/300\n",
            "75/75 [==============================] - 1s 8ms/step - loss: 0.0304 - kl_divergence: 0.0304\n",
            "Epoch 147/300\n",
            "75/75 [==============================] - 1s 8ms/step - loss: 0.0304 - kl_divergence: 0.0304\n",
            "Epoch 148/300\n",
            "75/75 [==============================] - 1s 8ms/step - loss: 0.0299 - kl_divergence: 0.0299\n",
            "Epoch 149/300\n",
            "75/75 [==============================] - 1s 8ms/step - loss: 0.0290 - kl_divergence: 0.0290\n",
            "Epoch 150/300\n",
            "75/75 [==============================] - 1s 9ms/step - loss: 0.0302 - kl_divergence: 0.0302\n",
            "Epoch 151/300\n",
            "75/75 [==============================] - 1s 8ms/step - loss: 0.0300 - kl_divergence: 0.0300\n",
            "Epoch 152/300\n",
            "75/75 [==============================] - 1s 8ms/step - loss: 0.0303 - kl_divergence: 0.0303\n",
            "Epoch 153/300\n",
            "75/75 [==============================] - 1s 8ms/step - loss: 0.0294 - kl_divergence: 0.0294\n",
            "Epoch 154/300\n",
            "75/75 [==============================] - 1s 8ms/step - loss: 0.0307 - kl_divergence: 0.0307\n",
            "Epoch 155/300\n",
            "75/75 [==============================] - 1s 8ms/step - loss: 0.0303 - kl_divergence: 0.0304\n",
            "Epoch 156/300\n",
            "75/75 [==============================] - 1s 8ms/step - loss: 0.0307 - kl_divergence: 0.0307\n",
            "Epoch 157/300\n",
            "75/75 [==============================] - 1s 8ms/step - loss: 0.0303 - kl_divergence: 0.0303\n",
            "Epoch 158/300\n",
            "75/75 [==============================] - 1s 8ms/step - loss: 0.0299 - kl_divergence: 0.0299\n",
            "Epoch 159/300\n",
            "75/75 [==============================] - 1s 8ms/step - loss: 0.0303 - kl_divergence: 0.0303\n",
            "Epoch 160/300\n",
            "75/75 [==============================] - 1s 8ms/step - loss: 0.0303 - kl_divergence: 0.0303\n",
            "Epoch 161/300\n",
            "75/75 [==============================] - 1s 8ms/step - loss: 0.0299 - kl_divergence: 0.0299\n",
            "Epoch 162/300\n",
            "75/75 [==============================] - 1s 8ms/step - loss: 0.0296 - kl_divergence: 0.0296\n",
            "Epoch 163/300\n",
            "75/75 [==============================] - 1s 8ms/step - loss: 0.0298 - kl_divergence: 0.0298\n",
            "Epoch 164/300\n",
            "75/75 [==============================] - 1s 8ms/step - loss: 0.0304 - kl_divergence: 0.0304\n",
            "Epoch 165/300\n",
            "75/75 [==============================] - 1s 8ms/step - loss: 0.0291 - kl_divergence: 0.0291\n",
            "Epoch 166/300\n",
            "75/75 [==============================] - 1s 8ms/step - loss: 0.0289 - kl_divergence: 0.0289\n",
            "Epoch 167/300\n",
            "75/75 [==============================] - 1s 8ms/step - loss: 0.0303 - kl_divergence: 0.0303\n",
            "Epoch 168/300\n",
            "75/75 [==============================] - 1s 8ms/step - loss: 0.0296 - kl_divergence: 0.0296\n",
            "Epoch 169/300\n",
            "75/75 [==============================] - 1s 8ms/step - loss: 0.0291 - kl_divergence: 0.0291\n",
            "Epoch 170/300\n",
            "75/75 [==============================] - 1s 8ms/step - loss: 0.0293 - kl_divergence: 0.0293\n",
            "Epoch 171/300\n",
            "75/75 [==============================] - 1s 8ms/step - loss: 0.0295 - kl_divergence: 0.0295\n",
            "Epoch 172/300\n",
            "75/75 [==============================] - 1s 8ms/step - loss: 0.0295 - kl_divergence: 0.0295\n",
            "Epoch 173/300\n",
            "75/75 [==============================] - 1s 8ms/step - loss: 0.0293 - kl_divergence: 0.0292\n",
            "Epoch 174/300\n",
            "75/75 [==============================] - 1s 8ms/step - loss: 0.0293 - kl_divergence: 0.0293\n",
            "Epoch 175/300\n",
            "75/75 [==============================] - 1s 8ms/step - loss: 0.0298 - kl_divergence: 0.0298\n",
            "Epoch 176/300\n",
            "75/75 [==============================] - 1s 8ms/step - loss: 0.0296 - kl_divergence: 0.0296\n",
            "Epoch 177/300\n",
            "75/75 [==============================] - 1s 8ms/step - loss: 0.0286 - kl_divergence: 0.0286\n",
            "Epoch 178/300\n",
            "75/75 [==============================] - 1s 8ms/step - loss: 0.0287 - kl_divergence: 0.0287\n",
            "Epoch 179/300\n",
            "75/75 [==============================] - 1s 8ms/step - loss: 0.0290 - kl_divergence: 0.0290\n",
            "Epoch 180/300\n",
            "75/75 [==============================] - 1s 8ms/step - loss: 0.0293 - kl_divergence: 0.0293\n",
            "Epoch 181/300\n",
            "75/75 [==============================] - 1s 8ms/step - loss: 0.0294 - kl_divergence: 0.0294\n",
            "Epoch 182/300\n",
            "75/75 [==============================] - 1s 8ms/step - loss: 0.0286 - kl_divergence: 0.0286\n",
            "Epoch 183/300\n",
            "75/75 [==============================] - 1s 8ms/step - loss: 0.0293 - kl_divergence: 0.0293\n",
            "Epoch 184/300\n",
            "75/75 [==============================] - 1s 8ms/step - loss: 0.0295 - kl_divergence: 0.0295\n",
            "Epoch 185/300\n",
            "75/75 [==============================] - 1s 8ms/step - loss: 0.0287 - kl_divergence: 0.0287\n",
            "Epoch 186/300\n",
            "75/75 [==============================] - 1s 8ms/step - loss: 0.0291 - kl_divergence: 0.0291\n",
            "Epoch 187/300\n",
            "75/75 [==============================] - 1s 8ms/step - loss: 0.0294 - kl_divergence: 0.0294\n",
            "Epoch 188/300\n",
            "75/75 [==============================] - 1s 8ms/step - loss: 0.0281 - kl_divergence: 0.0281\n",
            "Epoch 189/300\n",
            "75/75 [==============================] - 1s 8ms/step - loss: 0.0291 - kl_divergence: 0.0291\n",
            "Epoch 190/300\n",
            "75/75 [==============================] - 1s 9ms/step - loss: 0.0290 - kl_divergence: 0.0289\n",
            "Epoch 191/300\n",
            "75/75 [==============================] - 1s 8ms/step - loss: 0.0290 - kl_divergence: 0.0290\n",
            "Epoch 192/300\n",
            "75/75 [==============================] - 1s 8ms/step - loss: 0.0289 - kl_divergence: 0.0289\n",
            "Epoch 193/300\n",
            "75/75 [==============================] - 1s 9ms/step - loss: 0.0290 - kl_divergence: 0.0290\n",
            "Epoch 194/300\n",
            "75/75 [==============================] - 1s 8ms/step - loss: 0.0292 - kl_divergence: 0.0292\n",
            "Epoch 195/300\n",
            "75/75 [==============================] - 1s 8ms/step - loss: 0.0292 - kl_divergence: 0.0292\n",
            "Epoch 196/300\n",
            "75/75 [==============================] - 1s 8ms/step - loss: 0.0292 - kl_divergence: 0.0292\n",
            "Epoch 197/300\n",
            "75/75 [==============================] - 1s 9ms/step - loss: 0.0288 - kl_divergence: 0.0288\n",
            "Epoch 198/300\n",
            "75/75 [==============================] - 1s 8ms/step - loss: 0.0290 - kl_divergence: 0.0290\n",
            "Epoch 199/300\n",
            "75/75 [==============================] - 1s 8ms/step - loss: 0.0291 - kl_divergence: 0.0291\n",
            "Epoch 200/300\n",
            "75/75 [==============================] - 1s 8ms/step - loss: 0.0296 - kl_divergence: 0.0296\n",
            "Epoch 201/300\n",
            "75/75 [==============================] - 1s 8ms/step - loss: 0.0284 - kl_divergence: 0.0284\n",
            "Epoch 202/300\n",
            "75/75 [==============================] - 1s 8ms/step - loss: 0.0294 - kl_divergence: 0.0294\n",
            "Epoch 203/300\n",
            "75/75 [==============================] - 1s 8ms/step - loss: 0.0288 - kl_divergence: 0.0288\n",
            "Epoch 204/300\n",
            "75/75 [==============================] - 1s 8ms/step - loss: 0.0288 - kl_divergence: 0.0288\n",
            "Epoch 205/300\n",
            "75/75 [==============================] - 1s 8ms/step - loss: 0.0282 - kl_divergence: 0.0282\n",
            "Epoch 206/300\n",
            "75/75 [==============================] - 1s 8ms/step - loss: 0.0289 - kl_divergence: 0.0289\n",
            "Epoch 207/300\n",
            "75/75 [==============================] - 1s 8ms/step - loss: 0.0284 - kl_divergence: 0.0284\n",
            "Epoch 208/300\n",
            "75/75 [==============================] - 1s 8ms/step - loss: 0.0285 - kl_divergence: 0.0285\n",
            "Epoch 209/300\n",
            "75/75 [==============================] - 1s 8ms/step - loss: 0.0293 - kl_divergence: 0.0293\n",
            "Epoch 210/300\n",
            "75/75 [==============================] - 1s 8ms/step - loss: 0.0285 - kl_divergence: 0.0285\n",
            "Epoch 211/300\n",
            "75/75 [==============================] - 1s 8ms/step - loss: 0.0290 - kl_divergence: 0.0290\n",
            "Epoch 212/300\n",
            "75/75 [==============================] - 1s 8ms/step - loss: 0.0289 - kl_divergence: 0.0289\n",
            "Epoch 213/300\n",
            "75/75 [==============================] - 1s 8ms/step - loss: 0.0282 - kl_divergence: 0.0282\n",
            "Epoch 214/300\n",
            "75/75 [==============================] - 1s 8ms/step - loss: 0.0287 - kl_divergence: 0.0287\n",
            "Epoch 215/300\n",
            "75/75 [==============================] - 1s 8ms/step - loss: 0.0291 - kl_divergence: 0.0291\n",
            "Epoch 216/300\n",
            "75/75 [==============================] - 1s 8ms/step - loss: 0.0280 - kl_divergence: 0.0280\n",
            "Epoch 217/300\n",
            "75/75 [==============================] - 1s 8ms/step - loss: 0.0280 - kl_divergence: 0.0280\n",
            "Epoch 218/300\n",
            "75/75 [==============================] - 1s 8ms/step - loss: 0.0286 - kl_divergence: 0.0286\n",
            "Epoch 219/300\n",
            "75/75 [==============================] - 1s 8ms/step - loss: 0.0284 - kl_divergence: 0.0284\n",
            "Epoch 220/300\n",
            "75/75 [==============================] - 1s 8ms/step - loss: 0.0283 - kl_divergence: 0.0283\n",
            "Epoch 221/300\n",
            "75/75 [==============================] - 1s 8ms/step - loss: 0.0278 - kl_divergence: 0.0278\n",
            "Epoch 222/300\n",
            "75/75 [==============================] - 1s 8ms/step - loss: 0.0284 - kl_divergence: 0.0284\n",
            "Epoch 223/300\n",
            "75/75 [==============================] - 1s 8ms/step - loss: 0.0275 - kl_divergence: 0.0275\n",
            "Epoch 224/300\n",
            "75/75 [==============================] - 1s 8ms/step - loss: 0.0283 - kl_divergence: 0.0283\n",
            "Epoch 225/300\n",
            "75/75 [==============================] - 1s 8ms/step - loss: 0.0285 - kl_divergence: 0.0285\n",
            "Epoch 226/300\n",
            "75/75 [==============================] - 1s 8ms/step - loss: 0.0280 - kl_divergence: 0.0280\n",
            "Epoch 227/300\n",
            "75/75 [==============================] - 1s 8ms/step - loss: 0.0275 - kl_divergence: 0.0275\n",
            "Epoch 228/300\n",
            "75/75 [==============================] - 1s 8ms/step - loss: 0.0280 - kl_divergence: 0.0280\n",
            "Epoch 229/300\n",
            "75/75 [==============================] - 1s 8ms/step - loss: 0.0279 - kl_divergence: 0.0279\n",
            "Epoch 230/300\n",
            "75/75 [==============================] - 1s 9ms/step - loss: 0.0280 - kl_divergence: 0.0280\n",
            "Epoch 231/300\n",
            "75/75 [==============================] - 1s 9ms/step - loss: 0.0282 - kl_divergence: 0.0282\n",
            "Epoch 232/300\n",
            "75/75 [==============================] - 1s 8ms/step - loss: 0.0280 - kl_divergence: 0.0280\n",
            "Epoch 233/300\n",
            "75/75 [==============================] - 1s 8ms/step - loss: 0.0283 - kl_divergence: 0.0283\n",
            "Epoch 234/300\n",
            "75/75 [==============================] - 1s 8ms/step - loss: 0.0278 - kl_divergence: 0.0278\n",
            "Epoch 235/300\n",
            "75/75 [==============================] - 1s 8ms/step - loss: 0.0279 - kl_divergence: 0.0279\n",
            "Epoch 236/300\n",
            "75/75 [==============================] - 1s 8ms/step - loss: 0.0275 - kl_divergence: 0.0275\n",
            "Epoch 237/300\n",
            "75/75 [==============================] - 1s 8ms/step - loss: 0.0279 - kl_divergence: 0.0279\n",
            "Epoch 238/300\n",
            "75/75 [==============================] - 1s 8ms/step - loss: 0.0276 - kl_divergence: 0.0276\n",
            "Epoch 239/300\n",
            "75/75 [==============================] - 1s 8ms/step - loss: 0.0280 - kl_divergence: 0.0280\n",
            "Epoch 240/300\n",
            "75/75 [==============================] - 1s 8ms/step - loss: 0.0272 - kl_divergence: 0.0272\n",
            "Epoch 241/300\n",
            "75/75 [==============================] - 1s 8ms/step - loss: 0.0272 - kl_divergence: 0.0272\n",
            "Epoch 242/300\n",
            "75/75 [==============================] - 1s 8ms/step - loss: 0.0277 - kl_divergence: 0.0277\n",
            "Epoch 243/300\n",
            "75/75 [==============================] - 1s 8ms/step - loss: 0.0278 - kl_divergence: 0.0278\n",
            "Epoch 244/300\n",
            "75/75 [==============================] - 1s 8ms/step - loss: 0.0278 - kl_divergence: 0.0278\n",
            "Epoch 245/300\n",
            "75/75 [==============================] - 1s 8ms/step - loss: 0.0271 - kl_divergence: 0.0271\n",
            "Epoch 246/300\n",
            "75/75 [==============================] - 1s 8ms/step - loss: 0.0277 - kl_divergence: 0.0277\n",
            "Epoch 247/300\n",
            "75/75 [==============================] - 1s 9ms/step - loss: 0.0280 - kl_divergence: 0.0280\n",
            "Epoch 248/300\n",
            "75/75 [==============================] - 1s 8ms/step - loss: 0.0276 - kl_divergence: 0.0276\n",
            "Epoch 249/300\n",
            "75/75 [==============================] - 1s 8ms/step - loss: 0.0274 - kl_divergence: 0.0274\n",
            "Epoch 250/300\n",
            "75/75 [==============================] - 1s 8ms/step - loss: 0.0274 - kl_divergence: 0.0274\n",
            "Epoch 251/300\n",
            "75/75 [==============================] - 1s 8ms/step - loss: 0.0277 - kl_divergence: 0.0277\n",
            "Epoch 252/300\n",
            "75/75 [==============================] - 1s 8ms/step - loss: 0.0271 - kl_divergence: 0.0271\n",
            "Epoch 253/300\n",
            "75/75 [==============================] - 1s 8ms/step - loss: 0.0274 - kl_divergence: 0.0274\n",
            "Epoch 254/300\n",
            "75/75 [==============================] - 1s 9ms/step - loss: 0.0277 - kl_divergence: 0.0277\n",
            "Epoch 255/300\n",
            "75/75 [==============================] - 1s 8ms/step - loss: 0.0270 - kl_divergence: 0.0270\n",
            "Epoch 256/300\n",
            "75/75 [==============================] - 1s 8ms/step - loss: 0.0281 - kl_divergence: 0.0281\n",
            "Epoch 257/300\n",
            "75/75 [==============================] - 1s 8ms/step - loss: 0.0273 - kl_divergence: 0.0273\n",
            "Epoch 258/300\n",
            "75/75 [==============================] - 1s 9ms/step - loss: 0.0272 - kl_divergence: 0.0272\n",
            "Epoch 259/300\n",
            "75/75 [==============================] - 1s 8ms/step - loss: 0.0273 - kl_divergence: 0.0273\n",
            "Epoch 260/300\n",
            "75/75 [==============================] - 1s 9ms/step - loss: 0.0279 - kl_divergence: 0.0279\n",
            "Epoch 261/300\n",
            "75/75 [==============================] - 1s 8ms/step - loss: 0.0277 - kl_divergence: 0.0277\n",
            "Epoch 262/300\n",
            "75/75 [==============================] - 1s 8ms/step - loss: 0.0274 - kl_divergence: 0.0274\n",
            "Epoch 263/300\n",
            "75/75 [==============================] - 1s 9ms/step - loss: 0.0270 - kl_divergence: 0.0270\n",
            "Epoch 264/300\n",
            "75/75 [==============================] - 1s 9ms/step - loss: 0.0272 - kl_divergence: 0.0271\n",
            "Epoch 265/300\n",
            "75/75 [==============================] - 1s 8ms/step - loss: 0.0277 - kl_divergence: 0.0277\n",
            "Epoch 266/300\n",
            "75/75 [==============================] - 1s 9ms/step - loss: 0.0272 - kl_divergence: 0.0272\n",
            "Epoch 267/300\n",
            "75/75 [==============================] - 1s 8ms/step - loss: 0.0274 - kl_divergence: 0.0274\n",
            "Epoch 268/300\n",
            "75/75 [==============================] - 1s 8ms/step - loss: 0.0279 - kl_divergence: 0.0279\n",
            "Epoch 269/300\n",
            "75/75 [==============================] - 1s 8ms/step - loss: 0.0278 - kl_divergence: 0.0278\n",
            "Epoch 270/300\n",
            "75/75 [==============================] - 1s 9ms/step - loss: 0.0272 - kl_divergence: 0.0272\n",
            "Epoch 271/300\n",
            "75/75 [==============================] - 1s 8ms/step - loss: 0.0273 - kl_divergence: 0.0273\n",
            "Epoch 272/300\n",
            "75/75 [==============================] - 1s 8ms/step - loss: 0.0280 - kl_divergence: 0.0280\n",
            "Epoch 273/300\n",
            "75/75 [==============================] - 1s 9ms/step - loss: 0.0276 - kl_divergence: 0.0276\n",
            "Epoch 274/300\n",
            "75/75 [==============================] - 1s 9ms/step - loss: 0.0271 - kl_divergence: 0.0271\n",
            "Epoch 275/300\n",
            "75/75 [==============================] - 1s 8ms/step - loss: 0.0272 - kl_divergence: 0.0273\n",
            "Epoch 276/300\n",
            "75/75 [==============================] - 1s 8ms/step - loss: 0.0276 - kl_divergence: 0.0276\n",
            "Epoch 277/300\n",
            "75/75 [==============================] - 1s 9ms/step - loss: 0.0269 - kl_divergence: 0.0269\n",
            "Epoch 278/300\n",
            "75/75 [==============================] - 1s 8ms/step - loss: 0.0273 - kl_divergence: 0.0273\n",
            "Epoch 279/300\n",
            "75/75 [==============================] - 1s 8ms/step - loss: 0.0277 - kl_divergence: 0.0277\n",
            "Epoch 280/300\n",
            "75/75 [==============================] - 1s 9ms/step - loss: 0.0275 - kl_divergence: 0.0275\n",
            "Epoch 281/300\n",
            "75/75 [==============================] - 1s 8ms/step - loss: 0.0265 - kl_divergence: 0.0265\n",
            "Epoch 282/300\n",
            "75/75 [==============================] - 1s 8ms/step - loss: 0.0271 - kl_divergence: 0.0271\n",
            "Epoch 283/300\n",
            "75/75 [==============================] - 1s 8ms/step - loss: 0.0273 - kl_divergence: 0.0273\n",
            "Epoch 284/300\n",
            "75/75 [==============================] - 1s 8ms/step - loss: 0.0267 - kl_divergence: 0.0267\n",
            "Epoch 285/300\n",
            "75/75 [==============================] - 1s 9ms/step - loss: 0.0273 - kl_divergence: 0.0273\n",
            "Epoch 286/300\n",
            "75/75 [==============================] - 1s 9ms/step - loss: 0.0268 - kl_divergence: 0.0268\n",
            "Epoch 287/300\n",
            "75/75 [==============================] - 1s 8ms/step - loss: 0.0264 - kl_divergence: 0.0264\n",
            "Epoch 288/300\n",
            "75/75 [==============================] - 1s 9ms/step - loss: 0.0269 - kl_divergence: 0.0269\n",
            "Epoch 289/300\n",
            "75/75 [==============================] - 1s 9ms/step - loss: 0.0270 - kl_divergence: 0.0270\n",
            "Epoch 290/300\n",
            "75/75 [==============================] - 1s 8ms/step - loss: 0.0273 - kl_divergence: 0.0273\n",
            "Epoch 291/300\n",
            "75/75 [==============================] - 1s 8ms/step - loss: 0.0276 - kl_divergence: 0.0276\n",
            "Epoch 292/300\n",
            "75/75 [==============================] - 1s 9ms/step - loss: 0.0266 - kl_divergence: 0.0266\n",
            "Epoch 293/300\n",
            "75/75 [==============================] - 1s 9ms/step - loss: 0.0271 - kl_divergence: 0.0271\n",
            "Epoch 294/300\n",
            "75/75 [==============================] - 1s 9ms/step - loss: 0.0271 - kl_divergence: 0.0271\n",
            "Epoch 295/300\n",
            "75/75 [==============================] - 1s 9ms/step - loss: 0.0272 - kl_divergence: 0.0272\n",
            "Epoch 296/300\n",
            "75/75 [==============================] - 1s 9ms/step - loss: 0.0272 - kl_divergence: 0.0273\n",
            "Epoch 297/300\n",
            "75/75 [==============================] - 1s 9ms/step - loss: 0.0271 - kl_divergence: 0.0271\n",
            "Epoch 298/300\n",
            "75/75 [==============================] - 1s 8ms/step - loss: 0.0273 - kl_divergence: 0.0273\n",
            "Epoch 299/300\n",
            "75/75 [==============================] - 1s 8ms/step - loss: 0.0269 - kl_divergence: 0.0269\n",
            "Epoch 300/300\n",
            "75/75 [==============================] - 1s 8ms/step - loss: 0.0271 - kl_divergence: 0.0271\n"
          ]
        },
        {
          "output_type": "execute_result",
          "data": {
            "text/plain": [
              "<keras.callbacks.History at 0x7f6bd6ea39d0>"
            ]
          },
          "metadata": {},
          "execution_count": 62
        }
      ]
    },
    {
      "cell_type": "code",
      "metadata": {
        "colab": {
          "base_uri": "https://localhost:8080/"
        },
        "id": "0jjLEaOSy4MP",
        "outputId": "1e0a5da9-0e08-4eca-bbee-d9244cbbff56"
      },
      "source": [
        "model.evaluate([I_test, Iprime_test, Oprime_test],\n",
        "    [O_test],\n",
        "    batch_size=16)"
      ],
      "execution_count": null,
      "outputs": [
        {
          "output_type": "stream",
          "name": "stdout",
          "text": [
            "19/19 [==============================] - 0s 8ms/step - loss: 0.0868 - kl_divergence: 0.0868\n"
          ]
        },
        {
          "output_type": "execute_result",
          "data": {
            "text/plain": [
              "[0.08675587922334671, 0.08678098767995834]"
            ]
          },
          "metadata": {},
          "execution_count": 63
        }
      ]
    },
    {
      "cell_type": "code",
      "metadata": {
        "id": "_bjl8LZ91rFU"
      },
      "source": [
        "from scipy.stats import norm\n",
        "import numpy as np\n",
        "import matplotlib.pyplot as plt"
      ],
      "execution_count": null,
      "outputs": []
    },
    {
      "cell_type": "code",
      "metadata": {
        "id": "DCc9exja4Aks"
      },
      "source": [
        "y_pred=model.predict([I_test, Iprime_test, Oprime_test])"
      ],
      "execution_count": null,
      "outputs": []
    },
    {
      "cell_type": "code",
      "metadata": {
        "colab": {
          "base_uri": "https://localhost:8080/",
          "height": 265
        },
        "id": "ECY9n67Q3ky_",
        "outputId": "d35866da-1ed9-4578-910b-60176ca668b8"
      },
      "source": [
        "x= np.arange(-4,4,0.0267)\n",
        "y_true=O_test\n",
        "\n",
        "plt.plot(x,y_true)\n",
        "plt.plot(x,y_pred)\n",
        "\n",
        "plt.show()"
      ],
      "execution_count": null,
      "outputs": [
        {
          "output_type": "display_data",
          "data": {
            "image/png": "[encoded data removed]",
            "text/plain": [
              "<Figure size 432x288 with 1 Axes>"
            ]
          },
          "metadata": {
            "needs_background": "light"
          }
        }
      ]
    },
    {
      "cell_type": "code",
      "metadata": {
        "id": "5NcpcgQD58ik"
      },
      "source": [
        "#Testing for I only"
      ],
      "execution_count": null,
      "outputs": []
    },
    {
      "cell_type": "code",
      "metadata": {
        "id": "WQOllOTJyqw_"
      },
      "source": [
        "input_surrogate=Input(\n",
        "    shape=(40,384,1), name=\"Input_surrogate\")"
      ],
      "execution_count": null,
      "outputs": []
    },
    {
      "cell_type": "code",
      "metadata": {
        "id": "RkP3op7Ry7IR"
      },
      "source": [
        "I_CNN_1=Conv2D(1, (3, 3), padding=\"same\", activation= 'relu', name='I_CNN_1', input_shape = (40,384,1))(input_surrogate)"
      ],
      "execution_count": null,
      "outputs": []
    },
    {
      "cell_type": "code",
      "metadata": {
        "id": "BAkV_hXFy-07"
      },
      "source": [
        "max_pool_I_CNN_1=MaxPooling2D(pool_size=(2,4), padding='valid')(I_CNN_1)\n"
      ],
      "execution_count": null,
      "outputs": []
    },
    {
      "cell_type": "code",
      "metadata": {
        "id": "nKPc8f2WzByP"
      },
      "source": [
        "concat=concatenate([Flatten()(max_pool_I_CNN_1)])"
      ],
      "execution_count": null,
      "outputs": []
    },
    {
      "cell_type": "code",
      "metadata": {
        "id": "7bWUXM4NzEWN"
      },
      "source": [
        "concat=Dropout(0.2)(concat)"
      ],
      "execution_count": null,
      "outputs": []
    },
    {
      "cell_type": "code",
      "metadata": {
        "id": "Hbircum8zHaI"
      },
      "source": [
        "output_layer=Dense(15, activation= 'softmax', name='Output_layer')(concat)"
      ],
      "execution_count": null,
      "outputs": []
    },
    {
      "cell_type": "code",
      "metadata": {
        "id": "_KrQMqNDzJ1f"
      },
      "source": [
        "model=keras.Model(inputs=[input_surrogate], outputs=output_layer)"
      ],
      "execution_count": null,
      "outputs": []
    },
    {
      "cell_type": "code",
      "metadata": {
        "colab": {
          "base_uri": "https://localhost:8080/"
        },
        "id": "nl6u0adwzNSx",
        "outputId": "b46b1058-2917-4484-ce54-55bf28885664"
      },
      "source": [
        "model.summary()"
      ],
      "execution_count": null,
      "outputs": [
        {
          "output_type": "stream",
          "name": "stdout",
          "text": [
            "Model: \"model_1\"\n",
            "_________________________________________________________________\n",
            " Layer (type)                Output Shape              Param #   \n",
            "=================================================================\n",
            " Input_surrogate (InputLayer  [(None, 40, 384, 1)]     0         \n",
            " )                                                               \n",
            "                                                                 \n",
            " I_CNN_1 (Conv2D)            (None, 40, 384, 1)        10        \n",
            "                                                                 \n",
            " max_pooling2d_2 (MaxPooling  (None, 20, 96, 1)        0         \n",
            " 2D)                                                             \n",
            "                                                                 \n",
            " flatten_3 (Flatten)         (None, 1920)              0         \n",
            "                                                                 \n",
            " concatenate_1 (Concatenate)  (None, 1920)             0         \n",
            "                                                                 \n",
            " dropout_1 (Dropout)         (None, 1920)              0         \n",
            "                                                                 \n",
            " Output_layer (Dense)        (None, 15)                28815     \n",
            "                                                                 \n",
            "=================================================================\n",
            "Total params: 28,825\n",
            "Trainable params: 28,825\n",
            "Non-trainable params: 0\n",
            "_________________________________________________________________\n"
          ]
        }
      ]
    },
    {
      "cell_type": "code",
      "metadata": {
        "id": "Tg3GWnJEzQKj"
      },
      "source": [
        "model.compile(optimizer='adam', loss= tf.keras.losses.KLDivergence(), metrics=[tf.keras.losses.KLDivergence()])"
      ],
      "execution_count": null,
      "outputs": []
    },
    {
      "cell_type": "code",
      "metadata": {
        "colab": {
          "base_uri": "https://localhost:8080/"
        },
        "id": "AqLkb3GgzSU4",
        "outputId": "43cdb39d-f342-469c-9780-9daf7ad8c7fe"
      },
      "source": [
        "model.fit(\n",
        "    [I_train],\n",
        "    [O_train],\n",
        "    batch_size=16,\n",
        "    epochs=300)"
      ],
      "execution_count": null,
      "outputs": [
        {
          "output_type": "stream",
          "name": "stdout",
          "text": [
            "Epoch 1/300\n",
            "75/75 [==============================] - 1s 6ms/step - loss: 0.2032 - kl_divergence: 0.2032\n",
            "Epoch 2/300\n",
            "75/75 [==============================] - 0s 6ms/step - loss: 0.1346 - kl_divergence: 0.1346\n",
            "Epoch 3/300\n",
            "75/75 [==============================] - 0s 6ms/step - loss: 0.1217 - kl_divergence: 0.1217\n",
            "Epoch 4/300\n",
            "75/75 [==============================] - 0s 6ms/step - loss: 0.1075 - kl_divergence: 0.1075\n",
            "Epoch 5/300\n",
            "75/75 [==============================] - 0s 6ms/step - loss: 0.0953 - kl_divergence: 0.0953\n",
            "Epoch 6/300\n",
            "75/75 [==============================] - 0s 6ms/step - loss: 0.0860 - kl_divergence: 0.0860\n",
            "Epoch 7/300\n",
            "75/75 [==============================] - 0s 5ms/step - loss: 0.0797 - kl_divergence: 0.0797\n",
            "Epoch 8/300\n",
            "75/75 [==============================] - 0s 6ms/step - loss: 0.0759 - kl_divergence: 0.0759\n",
            "Epoch 9/300\n",
            "75/75 [==============================] - 0s 6ms/step - loss: 0.0743 - kl_divergence: 0.0744\n",
            "Epoch 10/300\n",
            "75/75 [==============================] - 0s 6ms/step - loss: 0.0730 - kl_divergence: 0.0730\n",
            "Epoch 11/300\n",
            "75/75 [==============================] - 0s 6ms/step - loss: 0.0717 - kl_divergence: 0.0717\n",
            "Epoch 12/300\n",
            "75/75 [==============================] - 0s 6ms/step - loss: 0.0705 - kl_divergence: 0.0705\n",
            "Epoch 13/300\n",
            "75/75 [==============================] - 0s 6ms/step - loss: 0.0704 - kl_divergence: 0.0703\n",
            "Epoch 14/300\n",
            "75/75 [==============================] - 0s 5ms/step - loss: 0.0696 - kl_divergence: 0.0696\n",
            "Epoch 15/300\n",
            "75/75 [==============================] - 0s 6ms/step - loss: 0.0690 - kl_divergence: 0.0690\n",
            "Epoch 16/300\n",
            "75/75 [==============================] - 0s 5ms/step - loss: 0.0688 - kl_divergence: 0.0688\n",
            "Epoch 17/300\n",
            "75/75 [==============================] - 0s 6ms/step - loss: 0.0687 - kl_divergence: 0.0687\n",
            "Epoch 18/300\n",
            "75/75 [==============================] - 0s 6ms/step - loss: 0.0696 - kl_divergence: 0.0696\n",
            "Epoch 19/300\n",
            "75/75 [==============================] - 0s 6ms/step - loss: 0.0681 - kl_divergence: 0.0681\n",
            "Epoch 20/300\n",
            "75/75 [==============================] - 0s 6ms/step - loss: 0.0681 - kl_divergence: 0.0681\n",
            "Epoch 21/300\n",
            "75/75 [==============================] - 0s 6ms/step - loss: 0.0678 - kl_divergence: 0.0678\n",
            "Epoch 22/300\n",
            "75/75 [==============================] - 0s 6ms/step - loss: 0.0675 - kl_divergence: 0.0676\n",
            "Epoch 23/300\n",
            "75/75 [==============================] - 0s 6ms/step - loss: 0.0676 - kl_divergence: 0.0676\n",
            "Epoch 24/300\n",
            "75/75 [==============================] - 0s 6ms/step - loss: 0.0676 - kl_divergence: 0.0676\n",
            "Epoch 25/300\n",
            "75/75 [==============================] - 0s 6ms/step - loss: 0.0681 - kl_divergence: 0.0681\n",
            "Epoch 26/300\n",
            "75/75 [==============================] - 0s 6ms/step - loss: 0.0674 - kl_divergence: 0.0674\n",
            "Epoch 27/300\n",
            "75/75 [==============================] - 0s 6ms/step - loss: 0.0671 - kl_divergence: 0.0671\n",
            "Epoch 28/300\n",
            "75/75 [==============================] - 0s 5ms/step - loss: 0.0670 - kl_divergence: 0.0670\n",
            "Epoch 29/300\n",
            "75/75 [==============================] - 0s 6ms/step - loss: 0.0673 - kl_divergence: 0.0673\n",
            "Epoch 30/300\n",
            "75/75 [==============================] - 0s 5ms/step - loss: 0.0671 - kl_divergence: 0.0671\n",
            "Epoch 31/300\n",
            "75/75 [==============================] - 0s 6ms/step - loss: 0.0669 - kl_divergence: 0.0669\n",
            "Epoch 32/300\n",
            "75/75 [==============================] - 0s 5ms/step - loss: 0.0671 - kl_divergence: 0.0671\n",
            "Epoch 33/300\n",
            "75/75 [==============================] - 0s 6ms/step - loss: 0.0670 - kl_divergence: 0.0670\n",
            "Epoch 34/300\n",
            "75/75 [==============================] - 0s 6ms/step - loss: 0.0667 - kl_divergence: 0.0667\n",
            "Epoch 35/300\n",
            "75/75 [==============================] - 0s 5ms/step - loss: 0.0670 - kl_divergence: 0.0670\n",
            "Epoch 36/300\n",
            "75/75 [==============================] - 0s 6ms/step - loss: 0.0672 - kl_divergence: 0.0672\n",
            "Epoch 37/300\n",
            "75/75 [==============================] - 0s 6ms/step - loss: 0.0668 - kl_divergence: 0.0668\n",
            "Epoch 38/300\n",
            "75/75 [==============================] - 0s 6ms/step - loss: 0.0665 - kl_divergence: 0.0665\n",
            "Epoch 39/300\n",
            "75/75 [==============================] - 0s 6ms/step - loss: 0.0670 - kl_divergence: 0.0670\n",
            "Epoch 40/300\n",
            "75/75 [==============================] - 0s 6ms/step - loss: 0.0662 - kl_divergence: 0.0663\n",
            "Epoch 41/300\n",
            "75/75 [==============================] - 0s 6ms/step - loss: 0.0663 - kl_divergence: 0.0663\n",
            "Epoch 42/300\n",
            "75/75 [==============================] - 0s 5ms/step - loss: 0.0667 - kl_divergence: 0.0666\n",
            "Epoch 43/300\n",
            "75/75 [==============================] - 0s 6ms/step - loss: 0.0665 - kl_divergence: 0.0665\n",
            "Epoch 44/300\n",
            "75/75 [==============================] - 0s 5ms/step - loss: 0.0664 - kl_divergence: 0.0665\n",
            "Epoch 45/300\n",
            "75/75 [==============================] - 0s 6ms/step - loss: 0.0663 - kl_divergence: 0.0663\n",
            "Epoch 46/300\n",
            "75/75 [==============================] - 0s 6ms/step - loss: 0.0665 - kl_divergence: 0.0664\n",
            "Epoch 47/300\n",
            "75/75 [==============================] - 0s 6ms/step - loss: 0.0662 - kl_divergence: 0.0662\n",
            "Epoch 48/300\n",
            "75/75 [==============================] - 0s 6ms/step - loss: 0.0662 - kl_divergence: 0.0662\n",
            "Epoch 49/300\n",
            "75/75 [==============================] - 0s 5ms/step - loss: 0.0666 - kl_divergence: 0.0666\n",
            "Epoch 50/300\n",
            "75/75 [==============================] - 0s 6ms/step - loss: 0.0664 - kl_divergence: 0.0664\n",
            "Epoch 51/300\n",
            "75/75 [==============================] - 0s 6ms/step - loss: 0.0662 - kl_divergence: 0.0662\n",
            "Epoch 52/300\n",
            "75/75 [==============================] - 0s 6ms/step - loss: 0.0662 - kl_divergence: 0.0662\n",
            "Epoch 53/300\n",
            "75/75 [==============================] - 0s 6ms/step - loss: 0.0664 - kl_divergence: 0.0664\n",
            "Epoch 54/300\n",
            "75/75 [==============================] - 0s 6ms/step - loss: 0.0658 - kl_divergence: 0.0658\n",
            "Epoch 55/300\n",
            "75/75 [==============================] - 0s 6ms/step - loss: 0.0660 - kl_divergence: 0.0660\n",
            "Epoch 56/300\n",
            "75/75 [==============================] - 0s 6ms/step - loss: 0.0662 - kl_divergence: 0.0662\n",
            "Epoch 57/300\n",
            "75/75 [==============================] - 0s 6ms/step - loss: 0.0660 - kl_divergence: 0.0660\n",
            "Epoch 58/300\n",
            "75/75 [==============================] - 0s 6ms/step - loss: 0.0659 - kl_divergence: 0.0659\n",
            "Epoch 59/300\n",
            "75/75 [==============================] - 0s 6ms/step - loss: 0.0660 - kl_divergence: 0.0660\n",
            "Epoch 60/300\n",
            "75/75 [==============================] - 0s 6ms/step - loss: 0.0657 - kl_divergence: 0.0657\n",
            "Epoch 61/300\n",
            "75/75 [==============================] - 0s 6ms/step - loss: 0.0657 - kl_divergence: 0.0657\n",
            "Epoch 62/300\n",
            "75/75 [==============================] - 0s 6ms/step - loss: 0.0660 - kl_divergence: 0.0660\n",
            "Epoch 63/300\n",
            "75/75 [==============================] - 0s 6ms/step - loss: 0.0658 - kl_divergence: 0.0658\n",
            "Epoch 64/300\n",
            "75/75 [==============================] - 0s 6ms/step - loss: 0.0662 - kl_divergence: 0.0662\n",
            "Epoch 65/300\n",
            "75/75 [==============================] - 0s 6ms/step - loss: 0.0655 - kl_divergence: 0.0655\n",
            "Epoch 66/300\n",
            "75/75 [==============================] - 0s 6ms/step - loss: 0.0657 - kl_divergence: 0.0657\n",
            "Epoch 67/300\n",
            "75/75 [==============================] - 0s 6ms/step - loss: 0.0658 - kl_divergence: 0.0658\n",
            "Epoch 68/300\n",
            "75/75 [==============================] - 0s 6ms/step - loss: 0.0656 - kl_divergence: 0.0656\n",
            "Epoch 69/300\n",
            "75/75 [==============================] - 0s 6ms/step - loss: 0.0661 - kl_divergence: 0.0661\n",
            "Epoch 70/300\n",
            "75/75 [==============================] - 0s 5ms/step - loss: 0.0661 - kl_divergence: 0.0661\n",
            "Epoch 71/300\n",
            "75/75 [==============================] - 0s 6ms/step - loss: 0.0661 - kl_divergence: 0.0661\n",
            "Epoch 72/300\n",
            "75/75 [==============================] - 0s 5ms/step - loss: 0.0654 - kl_divergence: 0.0654\n",
            "Epoch 73/300\n",
            "75/75 [==============================] - 0s 6ms/step - loss: 0.0654 - kl_divergence: 0.0654\n",
            "Epoch 74/300\n",
            "75/75 [==============================] - 0s 6ms/step - loss: 0.0652 - kl_divergence: 0.0652\n",
            "Epoch 75/300\n",
            "75/75 [==============================] - 0s 6ms/step - loss: 0.0659 - kl_divergence: 0.0659\n",
            "Epoch 76/300\n",
            "75/75 [==============================] - 0s 6ms/step - loss: 0.0652 - kl_divergence: 0.0652\n",
            "Epoch 77/300\n",
            "75/75 [==============================] - 0s 6ms/step - loss: 0.0652 - kl_divergence: 0.0652\n",
            "Epoch 78/300\n",
            "75/75 [==============================] - 0s 6ms/step - loss: 0.0657 - kl_divergence: 0.0657\n",
            "Epoch 79/300\n",
            "75/75 [==============================] - 0s 6ms/step - loss: 0.0656 - kl_divergence: 0.0655\n",
            "Epoch 80/300\n",
            "75/75 [==============================] - 0s 6ms/step - loss: 0.0652 - kl_divergence: 0.0652\n",
            "Epoch 81/300\n",
            "75/75 [==============================] - 0s 6ms/step - loss: 0.0658 - kl_divergence: 0.0658\n",
            "Epoch 82/300\n",
            "75/75 [==============================] - 0s 6ms/step - loss: 0.0650 - kl_divergence: 0.0650\n",
            "Epoch 83/300\n",
            "75/75 [==============================] - 0s 6ms/step - loss: 0.0659 - kl_divergence: 0.0658\n",
            "Epoch 84/300\n",
            "75/75 [==============================] - 0s 6ms/step - loss: 0.0655 - kl_divergence: 0.0655\n",
            "Epoch 85/300\n",
            "75/75 [==============================] - 0s 6ms/step - loss: 0.0650 - kl_divergence: 0.0650\n",
            "Epoch 86/300\n",
            "75/75 [==============================] - 0s 6ms/step - loss: 0.0655 - kl_divergence: 0.0655\n",
            "Epoch 87/300\n",
            "75/75 [==============================] - 0s 6ms/step - loss: 0.0657 - kl_divergence: 0.0657\n",
            "Epoch 88/300\n",
            "75/75 [==============================] - 0s 6ms/step - loss: 0.0651 - kl_divergence: 0.0651\n",
            "Epoch 89/300\n",
            "75/75 [==============================] - 0s 6ms/step - loss: 0.0649 - kl_divergence: 0.0649\n",
            "Epoch 90/300\n",
            "75/75 [==============================] - 0s 6ms/step - loss: 0.0655 - kl_divergence: 0.0655\n",
            "Epoch 91/300\n",
            "75/75 [==============================] - 0s 6ms/step - loss: 0.0655 - kl_divergence: 0.0654\n",
            "Epoch 92/300\n",
            "75/75 [==============================] - 0s 6ms/step - loss: 0.0654 - kl_divergence: 0.0653\n",
            "Epoch 93/300\n",
            "75/75 [==============================] - 0s 6ms/step - loss: 0.0654 - kl_divergence: 0.0654\n",
            "Epoch 94/300\n",
            "75/75 [==============================] - 0s 6ms/step - loss: 0.0654 - kl_divergence: 0.0653\n",
            "Epoch 95/300\n",
            "75/75 [==============================] - 0s 6ms/step - loss: 0.0659 - kl_divergence: 0.0659\n",
            "Epoch 96/300\n",
            "75/75 [==============================] - 0s 6ms/step - loss: 0.0649 - kl_divergence: 0.0649\n",
            "Epoch 97/300\n",
            "75/75 [==============================] - 0s 6ms/step - loss: 0.0651 - kl_divergence: 0.0651\n",
            "Epoch 98/300\n",
            "75/75 [==============================] - 0s 6ms/step - loss: 0.0653 - kl_divergence: 0.0653\n",
            "Epoch 99/300\n",
            "75/75 [==============================] - 0s 6ms/step - loss: 0.0653 - kl_divergence: 0.0653\n",
            "Epoch 100/300\n",
            "75/75 [==============================] - 0s 6ms/step - loss: 0.0652 - kl_divergence: 0.0652\n",
            "Epoch 101/300\n",
            "75/75 [==============================] - 0s 6ms/step - loss: 0.0654 - kl_divergence: 0.0654\n",
            "Epoch 102/300\n",
            "75/75 [==============================] - 0s 6ms/step - loss: 0.0653 - kl_divergence: 0.0653\n",
            "Epoch 103/300\n",
            "75/75 [==============================] - 0s 6ms/step - loss: 0.0650 - kl_divergence: 0.0650\n",
            "Epoch 104/300\n",
            "75/75 [==============================] - 0s 6ms/step - loss: 0.0654 - kl_divergence: 0.0654\n",
            "Epoch 105/300\n",
            "75/75 [==============================] - 0s 6ms/step - loss: 0.0646 - kl_divergence: 0.0646\n",
            "Epoch 106/300\n",
            "75/75 [==============================] - 0s 6ms/step - loss: 0.0646 - kl_divergence: 0.0646\n",
            "Epoch 107/300\n",
            "75/75 [==============================] - 0s 6ms/step - loss: 0.0650 - kl_divergence: 0.0650\n",
            "Epoch 108/300\n",
            "75/75 [==============================] - 0s 5ms/step - loss: 0.0651 - kl_divergence: 0.0651\n",
            "Epoch 109/300\n",
            "75/75 [==============================] - 0s 6ms/step - loss: 0.0649 - kl_divergence: 0.0649\n",
            "Epoch 110/300\n",
            "75/75 [==============================] - 0s 6ms/step - loss: 0.0655 - kl_divergence: 0.0655\n",
            "Epoch 111/300\n",
            "75/75 [==============================] - 0s 6ms/step - loss: 0.0651 - kl_divergence: 0.0651\n",
            "Epoch 112/300\n",
            "75/75 [==============================] - 0s 6ms/step - loss: 0.0653 - kl_divergence: 0.0653\n",
            "Epoch 113/300\n",
            "75/75 [==============================] - 0s 6ms/step - loss: 0.0653 - kl_divergence: 0.0653\n",
            "Epoch 114/300\n",
            "75/75 [==============================] - 0s 6ms/step - loss: 0.0652 - kl_divergence: 0.0652\n",
            "Epoch 115/300\n",
            "75/75 [==============================] - 0s 6ms/step - loss: 0.0654 - kl_divergence: 0.0654\n",
            "Epoch 116/300\n",
            "75/75 [==============================] - 0s 6ms/step - loss: 0.0656 - kl_divergence: 0.0656\n",
            "Epoch 117/300\n",
            "75/75 [==============================] - 0s 6ms/step - loss: 0.0650 - kl_divergence: 0.0650\n",
            "Epoch 118/300\n",
            "75/75 [==============================] - 0s 6ms/step - loss: 0.0649 - kl_divergence: 0.0649\n",
            "Epoch 119/300\n",
            "75/75 [==============================] - 0s 6ms/step - loss: 0.0647 - kl_divergence: 0.0647\n",
            "Epoch 120/300\n",
            "75/75 [==============================] - 0s 6ms/step - loss: 0.0644 - kl_divergence: 0.0644\n",
            "Epoch 121/300\n",
            "75/75 [==============================] - 0s 6ms/step - loss: 0.0654 - kl_divergence: 0.0654\n",
            "Epoch 122/300\n",
            "75/75 [==============================] - 0s 6ms/step - loss: 0.0648 - kl_divergence: 0.0648\n",
            "Epoch 123/300\n",
            "75/75 [==============================] - 0s 6ms/step - loss: 0.0650 - kl_divergence: 0.0651\n",
            "Epoch 124/300\n",
            "75/75 [==============================] - 0s 6ms/step - loss: 0.0652 - kl_divergence: 0.0652\n",
            "Epoch 125/300\n",
            "75/75 [==============================] - 0s 6ms/step - loss: 0.0654 - kl_divergence: 0.0654\n",
            "Epoch 126/300\n",
            "75/75 [==============================] - 0s 6ms/step - loss: 0.0650 - kl_divergence: 0.0650\n",
            "Epoch 127/300\n",
            "75/75 [==============================] - 0s 6ms/step - loss: 0.0653 - kl_divergence: 0.0653\n",
            "Epoch 128/300\n",
            "75/75 [==============================] - 0s 6ms/step - loss: 0.0645 - kl_divergence: 0.0645\n",
            "Epoch 129/300\n",
            "75/75 [==============================] - 0s 6ms/step - loss: 0.0651 - kl_divergence: 0.0651\n",
            "Epoch 130/300\n",
            "75/75 [==============================] - 0s 6ms/step - loss: 0.0653 - kl_divergence: 0.0653\n",
            "Epoch 131/300\n",
            "75/75 [==============================] - 0s 6ms/step - loss: 0.0644 - kl_divergence: 0.0644\n",
            "Epoch 132/300\n",
            "75/75 [==============================] - 0s 6ms/step - loss: 0.0651 - kl_divergence: 0.0652\n",
            "Epoch 133/300\n",
            "75/75 [==============================] - 0s 6ms/step - loss: 0.0648 - kl_divergence: 0.0648\n",
            "Epoch 134/300\n",
            "75/75 [==============================] - 0s 6ms/step - loss: 0.0646 - kl_divergence: 0.0646\n",
            "Epoch 135/300\n",
            "75/75 [==============================] - 0s 6ms/step - loss: 0.0645 - kl_divergence: 0.0645\n",
            "Epoch 136/300\n",
            "75/75 [==============================] - 0s 6ms/step - loss: 0.0645 - kl_divergence: 0.0645\n",
            "Epoch 137/300\n",
            "75/75 [==============================] - 0s 6ms/step - loss: 0.0651 - kl_divergence: 0.0651\n",
            "Epoch 138/300\n",
            "75/75 [==============================] - 0s 6ms/step - loss: 0.0647 - kl_divergence: 0.0647\n",
            "Epoch 139/300\n",
            "75/75 [==============================] - 0s 6ms/step - loss: 0.0648 - kl_divergence: 0.0648\n",
            "Epoch 140/300\n",
            "75/75 [==============================] - 0s 6ms/step - loss: 0.0645 - kl_divergence: 0.0645\n",
            "Epoch 141/300\n",
            "75/75 [==============================] - 0s 6ms/step - loss: 0.0642 - kl_divergence: 0.0642\n",
            "Epoch 142/300\n",
            "75/75 [==============================] - 0s 6ms/step - loss: 0.0652 - kl_divergence: 0.0652\n",
            "Epoch 143/300\n",
            "75/75 [==============================] - 0s 6ms/step - loss: 0.0644 - kl_divergence: 0.0645\n",
            "Epoch 144/300\n",
            "75/75 [==============================] - 0s 6ms/step - loss: 0.0645 - kl_divergence: 0.0645\n",
            "Epoch 145/300\n",
            "75/75 [==============================] - 0s 6ms/step - loss: 0.0643 - kl_divergence: 0.0643\n",
            "Epoch 146/300\n",
            "75/75 [==============================] - 0s 6ms/step - loss: 0.0645 - kl_divergence: 0.0645\n",
            "Epoch 147/300\n",
            "75/75 [==============================] - 0s 6ms/step - loss: 0.0648 - kl_divergence: 0.0648\n",
            "Epoch 148/300\n",
            "75/75 [==============================] - 0s 6ms/step - loss: 0.0647 - kl_divergence: 0.0647\n",
            "Epoch 149/300\n",
            "75/75 [==============================] - 0s 6ms/step - loss: 0.0650 - kl_divergence: 0.0650\n",
            "Epoch 150/300\n",
            "75/75 [==============================] - 0s 6ms/step - loss: 0.0647 - kl_divergence: 0.0647\n",
            "Epoch 151/300\n",
            "75/75 [==============================] - 0s 6ms/step - loss: 0.0644 - kl_divergence: 0.0644\n",
            "Epoch 152/300\n",
            "75/75 [==============================] - 0s 6ms/step - loss: 0.0645 - kl_divergence: 0.0645\n",
            "Epoch 153/300\n",
            "75/75 [==============================] - 0s 6ms/step - loss: 0.0646 - kl_divergence: 0.0646\n",
            "Epoch 154/300\n",
            "75/75 [==============================] - 0s 6ms/step - loss: 0.0644 - kl_divergence: 0.0644\n",
            "Epoch 155/300\n",
            "75/75 [==============================] - 0s 6ms/step - loss: 0.0645 - kl_divergence: 0.0645\n",
            "Epoch 156/300\n",
            "75/75 [==============================] - 0s 6ms/step - loss: 0.0646 - kl_divergence: 0.0646\n",
            "Epoch 157/300\n",
            "75/75 [==============================] - 0s 6ms/step - loss: 0.0641 - kl_divergence: 0.0641\n",
            "Epoch 158/300\n",
            "75/75 [==============================] - 0s 6ms/step - loss: 0.0646 - kl_divergence: 0.0646\n",
            "Epoch 159/300\n",
            "75/75 [==============================] - 0s 6ms/step - loss: 0.0643 - kl_divergence: 0.0642\n",
            "Epoch 160/300\n",
            "75/75 [==============================] - 0s 6ms/step - loss: 0.0650 - kl_divergence: 0.0650\n",
            "Epoch 161/300\n",
            "75/75 [==============================] - 0s 6ms/step - loss: 0.0643 - kl_divergence: 0.0643\n",
            "Epoch 162/300\n",
            "75/75 [==============================] - 0s 6ms/step - loss: 0.0644 - kl_divergence: 0.0644\n",
            "Epoch 163/300\n",
            "75/75 [==============================] - 0s 6ms/step - loss: 0.0647 - kl_divergence: 0.0647\n",
            "Epoch 164/300\n",
            "75/75 [==============================] - 0s 6ms/step - loss: 0.0653 - kl_divergence: 0.0653\n",
            "Epoch 165/300\n",
            "75/75 [==============================] - 0s 6ms/step - loss: 0.0643 - kl_divergence: 0.0643\n",
            "Epoch 166/300\n",
            "75/75 [==============================] - 0s 6ms/step - loss: 0.0648 - kl_divergence: 0.0648\n",
            "Epoch 167/300\n",
            "75/75 [==============================] - 0s 6ms/step - loss: 0.0647 - kl_divergence: 0.0647\n",
            "Epoch 168/300\n",
            "75/75 [==============================] - 0s 6ms/step - loss: 0.0644 - kl_divergence: 0.0645\n",
            "Epoch 169/300\n",
            "75/75 [==============================] - 0s 6ms/step - loss: 0.0650 - kl_divergence: 0.0650\n",
            "Epoch 170/300\n",
            "75/75 [==============================] - 0s 6ms/step - loss: 0.0641 - kl_divergence: 0.0641\n",
            "Epoch 171/300\n",
            "75/75 [==============================] - 0s 6ms/step - loss: 0.0647 - kl_divergence: 0.0647\n",
            "Epoch 172/300\n",
            "75/75 [==============================] - 0s 6ms/step - loss: 0.0647 - kl_divergence: 0.0647\n",
            "Epoch 173/300\n",
            "75/75 [==============================] - 0s 6ms/step - loss: 0.0641 - kl_divergence: 0.0641\n",
            "Epoch 174/300\n",
            "75/75 [==============================] - 0s 6ms/step - loss: 0.0644 - kl_divergence: 0.0644\n",
            "Epoch 175/300\n",
            "75/75 [==============================] - 0s 6ms/step - loss: 0.0649 - kl_divergence: 0.0648\n",
            "Epoch 176/300\n",
            "75/75 [==============================] - 0s 6ms/step - loss: 0.0645 - kl_divergence: 0.0645\n",
            "Epoch 177/300\n",
            "75/75 [==============================] - 0s 6ms/step - loss: 0.0645 - kl_divergence: 0.0646\n",
            "Epoch 178/300\n",
            "75/75 [==============================] - 0s 6ms/step - loss: 0.0643 - kl_divergence: 0.0643\n",
            "Epoch 179/300\n",
            "75/75 [==============================] - 0s 6ms/step - loss: 0.0640 - kl_divergence: 0.0640\n",
            "Epoch 180/300\n",
            "75/75 [==============================] - 0s 6ms/step - loss: 0.0644 - kl_divergence: 0.0644\n",
            "Epoch 181/300\n",
            "75/75 [==============================] - 0s 6ms/step - loss: 0.0645 - kl_divergence: 0.0645\n",
            "Epoch 182/300\n",
            "75/75 [==============================] - 0s 6ms/step - loss: 0.0646 - kl_divergence: 0.0646\n",
            "Epoch 183/300\n",
            "75/75 [==============================] - 0s 6ms/step - loss: 0.0647 - kl_divergence: 0.0647\n",
            "Epoch 184/300\n",
            "75/75 [==============================] - 0s 6ms/step - loss: 0.0644 - kl_divergence: 0.0644\n",
            "Epoch 185/300\n",
            "75/75 [==============================] - 0s 6ms/step - loss: 0.0644 - kl_divergence: 0.0644\n",
            "Epoch 186/300\n",
            "75/75 [==============================] - 0s 6ms/step - loss: 0.0645 - kl_divergence: 0.0645\n",
            "Epoch 187/300\n",
            "75/75 [==============================] - 0s 6ms/step - loss: 0.0644 - kl_divergence: 0.0644\n",
            "Epoch 188/300\n",
            "75/75 [==============================] - 0s 6ms/step - loss: 0.0643 - kl_divergence: 0.0643\n",
            "Epoch 189/300\n",
            "75/75 [==============================] - 0s 6ms/step - loss: 0.0645 - kl_divergence: 0.0645\n",
            "Epoch 190/300\n",
            "75/75 [==============================] - 0s 6ms/step - loss: 0.0645 - kl_divergence: 0.0645\n",
            "Epoch 191/300\n",
            "75/75 [==============================] - 0s 6ms/step - loss: 0.0644 - kl_divergence: 0.0644\n",
            "Epoch 192/300\n",
            "75/75 [==============================] - 0s 6ms/step - loss: 0.0648 - kl_divergence: 0.0648\n",
            "Epoch 193/300\n",
            "75/75 [==============================] - 0s 6ms/step - loss: 0.0646 - kl_divergence: 0.0646\n",
            "Epoch 194/300\n",
            "75/75 [==============================] - 0s 6ms/step - loss: 0.0643 - kl_divergence: 0.0643\n",
            "Epoch 195/300\n",
            "75/75 [==============================] - 0s 6ms/step - loss: 0.0644 - kl_divergence: 0.0644\n",
            "Epoch 196/300\n",
            "75/75 [==============================] - 0s 6ms/step - loss: 0.0644 - kl_divergence: 0.0644\n",
            "Epoch 197/300\n",
            "75/75 [==============================] - 0s 6ms/step - loss: 0.0644 - kl_divergence: 0.0644\n",
            "Epoch 198/300\n",
            "75/75 [==============================] - 0s 6ms/step - loss: 0.0638 - kl_divergence: 0.0638\n",
            "Epoch 199/300\n",
            "75/75 [==============================] - 0s 6ms/step - loss: 0.0638 - kl_divergence: 0.0638\n",
            "Epoch 200/300\n",
            "75/75 [==============================] - 0s 6ms/step - loss: 0.0642 - kl_divergence: 0.0642\n",
            "Epoch 201/300\n",
            "75/75 [==============================] - 0s 6ms/step - loss: 0.0642 - kl_divergence: 0.0642\n",
            "Epoch 202/300\n",
            "75/75 [==============================] - 0s 6ms/step - loss: 0.0647 - kl_divergence: 0.0647\n",
            "Epoch 203/300\n",
            "75/75 [==============================] - 0s 6ms/step - loss: 0.0640 - kl_divergence: 0.0640\n",
            "Epoch 204/300\n",
            "75/75 [==============================] - 0s 6ms/step - loss: 0.0647 - kl_divergence: 0.0647\n",
            "Epoch 205/300\n",
            "75/75 [==============================] - 0s 6ms/step - loss: 0.0641 - kl_divergence: 0.0641\n",
            "Epoch 206/300\n",
            "75/75 [==============================] - 0s 6ms/step - loss: 0.0645 - kl_divergence: 0.0645\n",
            "Epoch 207/300\n",
            "75/75 [==============================] - 0s 6ms/step - loss: 0.0643 - kl_divergence: 0.0643\n",
            "Epoch 208/300\n",
            "75/75 [==============================] - 0s 6ms/step - loss: 0.0644 - kl_divergence: 0.0644\n",
            "Epoch 209/300\n",
            "75/75 [==============================] - 0s 6ms/step - loss: 0.0644 - kl_divergence: 0.0644\n",
            "Epoch 210/300\n",
            "75/75 [==============================] - 0s 5ms/step - loss: 0.0646 - kl_divergence: 0.0646\n",
            "Epoch 211/300\n",
            "75/75 [==============================] - 0s 6ms/step - loss: 0.0636 - kl_divergence: 0.0636\n",
            "Epoch 212/300\n",
            "75/75 [==============================] - 0s 6ms/step - loss: 0.0642 - kl_divergence: 0.0642\n",
            "Epoch 213/300\n",
            "75/75 [==============================] - 0s 6ms/step - loss: 0.0642 - kl_divergence: 0.0642\n",
            "Epoch 214/300\n",
            "75/75 [==============================] - 0s 6ms/step - loss: 0.0635 - kl_divergence: 0.0635\n",
            "Epoch 215/300\n",
            "75/75 [==============================] - 0s 6ms/step - loss: 0.0644 - kl_divergence: 0.0644\n",
            "Epoch 216/300\n",
            "75/75 [==============================] - 0s 6ms/step - loss: 0.0642 - kl_divergence: 0.0642\n",
            "Epoch 217/300\n",
            "75/75 [==============================] - 0s 6ms/step - loss: 0.0639 - kl_divergence: 0.0639\n",
            "Epoch 218/300\n",
            "75/75 [==============================] - 0s 6ms/step - loss: 0.0640 - kl_divergence: 0.0640\n",
            "Epoch 219/300\n",
            "75/75 [==============================] - 0s 6ms/step - loss: 0.0639 - kl_divergence: 0.0639\n",
            "Epoch 220/300\n",
            "75/75 [==============================] - 0s 6ms/step - loss: 0.0639 - kl_divergence: 0.0639\n",
            "Epoch 221/300\n",
            "75/75 [==============================] - 0s 6ms/step - loss: 0.0646 - kl_divergence: 0.0646\n",
            "Epoch 222/300\n",
            "75/75 [==============================] - 0s 6ms/step - loss: 0.0640 - kl_divergence: 0.0641\n",
            "Epoch 223/300\n",
            "75/75 [==============================] - 0s 6ms/step - loss: 0.0646 - kl_divergence: 0.0646\n",
            "Epoch 224/300\n",
            "75/75 [==============================] - 0s 6ms/step - loss: 0.0645 - kl_divergence: 0.0645\n",
            "Epoch 225/300\n",
            "75/75 [==============================] - 0s 6ms/step - loss: 0.0645 - kl_divergence: 0.0645\n",
            "Epoch 226/300\n",
            "75/75 [==============================] - 0s 6ms/step - loss: 0.0641 - kl_divergence: 0.0641\n",
            "Epoch 227/300\n",
            "75/75 [==============================] - 0s 6ms/step - loss: 0.0637 - kl_divergence: 0.0637\n",
            "Epoch 228/300\n",
            "75/75 [==============================] - 0s 6ms/step - loss: 0.0640 - kl_divergence: 0.0640\n",
            "Epoch 229/300\n",
            "75/75 [==============================] - 0s 6ms/step - loss: 0.0642 - kl_divergence: 0.0642\n",
            "Epoch 230/300\n",
            "75/75 [==============================] - 0s 6ms/step - loss: 0.0637 - kl_divergence: 0.0637\n",
            "Epoch 231/300\n",
            "75/75 [==============================] - 0s 6ms/step - loss: 0.0638 - kl_divergence: 0.0639\n",
            "Epoch 232/300\n",
            "75/75 [==============================] - 0s 6ms/step - loss: 0.0642 - kl_divergence: 0.0642\n",
            "Epoch 233/300\n",
            "75/75 [==============================] - 0s 6ms/step - loss: 0.0638 - kl_divergence: 0.0638\n",
            "Epoch 234/300\n",
            "75/75 [==============================] - 0s 6ms/step - loss: 0.0637 - kl_divergence: 0.0637\n",
            "Epoch 235/300\n",
            "75/75 [==============================] - 0s 6ms/step - loss: 0.0642 - kl_divergence: 0.0642\n",
            "Epoch 236/300\n",
            "75/75 [==============================] - 0s 6ms/step - loss: 0.0642 - kl_divergence: 0.0642\n",
            "Epoch 237/300\n",
            "75/75 [==============================] - 0s 6ms/step - loss: 0.0639 - kl_divergence: 0.0639\n",
            "Epoch 238/300\n",
            "75/75 [==============================] - 0s 6ms/step - loss: 0.0642 - kl_divergence: 0.0642\n",
            "Epoch 239/300\n",
            "75/75 [==============================] - 0s 6ms/step - loss: 0.0640 - kl_divergence: 0.0640\n",
            "Epoch 240/300\n",
            "75/75 [==============================] - 0s 6ms/step - loss: 0.0636 - kl_divergence: 0.0636\n",
            "Epoch 241/300\n",
            "75/75 [==============================] - 0s 6ms/step - loss: 0.0641 - kl_divergence: 0.0641\n",
            "Epoch 242/300\n",
            "75/75 [==============================] - 0s 6ms/step - loss: 0.0639 - kl_divergence: 0.0639\n",
            "Epoch 243/300\n",
            "75/75 [==============================] - 0s 6ms/step - loss: 0.0638 - kl_divergence: 0.0638\n",
            "Epoch 244/300\n",
            "75/75 [==============================] - 0s 6ms/step - loss: 0.0641 - kl_divergence: 0.0641\n",
            "Epoch 245/300\n",
            "75/75 [==============================] - 0s 6ms/step - loss: 0.0636 - kl_divergence: 0.0636\n",
            "Epoch 246/300\n",
            "75/75 [==============================] - 0s 6ms/step - loss: 0.0639 - kl_divergence: 0.0639\n",
            "Epoch 247/300\n",
            "75/75 [==============================] - 0s 6ms/step - loss: 0.0643 - kl_divergence: 0.0643\n",
            "Epoch 248/300\n",
            "75/75 [==============================] - 0s 6ms/step - loss: 0.0642 - kl_divergence: 0.0642\n",
            "Epoch 249/300\n",
            "75/75 [==============================] - 0s 6ms/step - loss: 0.0641 - kl_divergence: 0.0641\n",
            "Epoch 250/300\n",
            "75/75 [==============================] - 0s 6ms/step - loss: 0.0642 - kl_divergence: 0.0642\n",
            "Epoch 251/300\n",
            "75/75 [==============================] - 0s 6ms/step - loss: 0.0638 - kl_divergence: 0.0638\n",
            "Epoch 252/300\n",
            "75/75 [==============================] - 0s 6ms/step - loss: 0.0639 - kl_divergence: 0.0639\n",
            "Epoch 253/300\n",
            "75/75 [==============================] - 0s 6ms/step - loss: 0.0638 - kl_divergence: 0.0638\n",
            "Epoch 254/300\n",
            "75/75 [==============================] - 0s 6ms/step - loss: 0.0640 - kl_divergence: 0.0640\n",
            "Epoch 255/300\n",
            "75/75 [==============================] - 0s 6ms/step - loss: 0.0639 - kl_divergence: 0.0639\n",
            "Epoch 256/300\n",
            "75/75 [==============================] - 0s 6ms/step - loss: 0.0640 - kl_divergence: 0.0640\n",
            "Epoch 257/300\n",
            "75/75 [==============================] - 0s 6ms/step - loss: 0.0639 - kl_divergence: 0.0639\n",
            "Epoch 258/300\n",
            "75/75 [==============================] - 0s 6ms/step - loss: 0.0641 - kl_divergence: 0.0641\n",
            "Epoch 259/300\n",
            "75/75 [==============================] - 0s 6ms/step - loss: 0.0645 - kl_divergence: 0.0645\n",
            "Epoch 260/300\n",
            "75/75 [==============================] - 0s 6ms/step - loss: 0.0639 - kl_divergence: 0.0639\n",
            "Epoch 261/300\n",
            "75/75 [==============================] - 0s 6ms/step - loss: 0.0640 - kl_divergence: 0.0640\n",
            "Epoch 262/300\n",
            "75/75 [==============================] - 0s 6ms/step - loss: 0.0640 - kl_divergence: 0.0640\n",
            "Epoch 263/300\n",
            "75/75 [==============================] - 0s 6ms/step - loss: 0.0640 - kl_divergence: 0.0641\n",
            "Epoch 264/300\n",
            "75/75 [==============================] - 0s 6ms/step - loss: 0.0641 - kl_divergence: 0.0641\n",
            "Epoch 265/300\n",
            "75/75 [==============================] - 0s 6ms/step - loss: 0.0636 - kl_divergence: 0.0636\n",
            "Epoch 266/300\n",
            "75/75 [==============================] - 0s 6ms/step - loss: 0.0638 - kl_divergence: 0.0638\n",
            "Epoch 267/300\n",
            "75/75 [==============================] - 0s 6ms/step - loss: 0.0633 - kl_divergence: 0.0633\n",
            "Epoch 268/300\n",
            "75/75 [==============================] - 0s 6ms/step - loss: 0.0642 - kl_divergence: 0.0642\n",
            "Epoch 269/300\n",
            "75/75 [==============================] - 0s 6ms/step - loss: 0.0639 - kl_divergence: 0.0639\n",
            "Epoch 270/300\n",
            "75/75 [==============================] - 0s 6ms/step - loss: 0.0638 - kl_divergence: 0.0638\n",
            "Epoch 271/300\n",
            "75/75 [==============================] - 0s 6ms/step - loss: 0.0637 - kl_divergence: 0.0637\n",
            "Epoch 272/300\n",
            "75/75 [==============================] - 0s 6ms/step - loss: 0.0639 - kl_divergence: 0.0639\n",
            "Epoch 273/300\n",
            "75/75 [==============================] - 0s 6ms/step - loss: 0.0639 - kl_divergence: 0.0639\n",
            "Epoch 274/300\n",
            "75/75 [==============================] - 0s 6ms/step - loss: 0.0637 - kl_divergence: 0.0637\n",
            "Epoch 275/300\n",
            "75/75 [==============================] - 0s 6ms/step - loss: 0.0641 - kl_divergence: 0.0641\n",
            "Epoch 276/300\n",
            "75/75 [==============================] - 0s 6ms/step - loss: 0.0639 - kl_divergence: 0.0639\n",
            "Epoch 277/300\n",
            "75/75 [==============================] - 0s 6ms/step - loss: 0.0640 - kl_divergence: 0.0640\n",
            "Epoch 278/300\n",
            "75/75 [==============================] - 0s 6ms/step - loss: 0.0637 - kl_divergence: 0.0637\n",
            "Epoch 279/300\n",
            "75/75 [==============================] - 0s 6ms/step - loss: 0.0641 - kl_divergence: 0.0641\n",
            "Epoch 280/300\n",
            "75/75 [==============================] - 0s 6ms/step - loss: 0.0639 - kl_divergence: 0.0639\n",
            "Epoch 281/300\n",
            "75/75 [==============================] - 0s 6ms/step - loss: 0.0641 - kl_divergence: 0.0641\n",
            "Epoch 282/300\n",
            "75/75 [==============================] - 0s 6ms/step - loss: 0.0640 - kl_divergence: 0.0640\n",
            "Epoch 283/300\n",
            "75/75 [==============================] - 0s 6ms/step - loss: 0.0638 - kl_divergence: 0.0638\n",
            "Epoch 284/300\n",
            "75/75 [==============================] - 0s 6ms/step - loss: 0.0639 - kl_divergence: 0.0639\n",
            "Epoch 285/300\n",
            "75/75 [==============================] - 0s 6ms/step - loss: 0.0643 - kl_divergence: 0.0643\n",
            "Epoch 286/300\n",
            "75/75 [==============================] - 0s 6ms/step - loss: 0.0639 - kl_divergence: 0.0639\n",
            "Epoch 287/300\n",
            "75/75 [==============================] - 0s 6ms/step - loss: 0.0639 - kl_divergence: 0.0639\n",
            "Epoch 288/300\n",
            "75/75 [==============================] - 0s 6ms/step - loss: 0.0642 - kl_divergence: 0.0642\n",
            "Epoch 289/300\n",
            "75/75 [==============================] - 0s 6ms/step - loss: 0.0636 - kl_divergence: 0.0636\n",
            "Epoch 290/300\n",
            "75/75 [==============================] - 0s 6ms/step - loss: 0.0639 - kl_divergence: 0.0639\n",
            "Epoch 291/300\n",
            "75/75 [==============================] - 0s 6ms/step - loss: 0.0634 - kl_divergence: 0.0634\n",
            "Epoch 292/300\n",
            "75/75 [==============================] - 0s 6ms/step - loss: 0.0641 - kl_divergence: 0.0641\n",
            "Epoch 293/300\n",
            "75/75 [==============================] - 0s 6ms/step - loss: 0.0638 - kl_divergence: 0.0638\n",
            "Epoch 294/300\n",
            "75/75 [==============================] - 0s 6ms/step - loss: 0.0640 - kl_divergence: 0.0640\n",
            "Epoch 295/300\n",
            "75/75 [==============================] - 0s 6ms/step - loss: 0.0636 - kl_divergence: 0.0636\n",
            "Epoch 296/300\n",
            "75/75 [==============================] - 0s 6ms/step - loss: 0.0635 - kl_divergence: 0.0635\n",
            "Epoch 297/300\n",
            "75/75 [==============================] - 0s 6ms/step - loss: 0.0638 - kl_divergence: 0.0638\n",
            "Epoch 298/300\n",
            "75/75 [==============================] - 0s 6ms/step - loss: 0.0636 - kl_divergence: 0.0636\n",
            "Epoch 299/300\n",
            "75/75 [==============================] - 0s 6ms/step - loss: 0.0638 - kl_divergence: 0.0638\n",
            "Epoch 300/300\n",
            "75/75 [==============================] - 0s 6ms/step - loss: 0.0639 - kl_divergence: 0.0639\n"
          ]
        },
        {
          "output_type": "execute_result",
          "data": {
            "text/plain": [
              "<keras.callbacks.History at 0x7f6bd98ee0d0>"
            ]
          },
          "metadata": {},
          "execution_count": 77
        }
      ]
    },
    {
      "cell_type": "code",
      "metadata": {
        "colab": {
          "base_uri": "https://localhost:8080/"
        },
        "id": "0FBZPSWZzX1l",
        "outputId": "91d4a237-fcbd-43cd-d399-1e857ea8ac77"
      },
      "source": [
        "model.evaluate([I_test],\n",
        "    [O_test],\n",
        "    batch_size=16)"
      ],
      "execution_count": null,
      "outputs": [
        {
          "output_type": "stream",
          "name": "stdout",
          "text": [
            "19/19 [==============================] - 0s 4ms/step - loss: 0.0638 - kl_divergence: 0.0639\n"
          ]
        },
        {
          "output_type": "execute_result",
          "data": {
            "text/plain": [
              "[0.0638335794210434, 0.06385055929422379]"
            ]
          },
          "metadata": {},
          "execution_count": 78
        }
      ]
    }
  ]
}